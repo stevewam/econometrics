{
 "cells": [
  {
   "cell_type": "markdown",
   "source": [
    "<h1><b> CASE PROJECT <b></h1>"
   ],
   "metadata": {}
  },
  {
   "cell_type": "code",
   "execution_count": 63,
   "source": [
    "data <- read.csv(\"./data/Case_GDP-round2.csv\")\n",
    "names(data)[1] <- \"Date\"\n",
    "data$year <- substr(data$Date, 1, 4)"
   ],
   "outputs": [],
   "metadata": {}
  },
  {
   "cell_type": "code",
   "execution_count": 64,
   "source": [
    "n <- nrow(data)\n",
    "\n",
    "for (i in c(1:2)){\n",
    "    data[,paste(\"li1_l\", i, sep=\"\")] <- c(c(rep(NA, i)), data$li1[-((n-i+1):n)])\n",
    "}\n",
    "for (i in c(1:2)){\n",
    "    data[,paste(\"li2_l\", i, sep=\"\")] <- c(c(rep(NA, i)), data$li2[-((n-i+1):n)])\n",
    "}\n",
    "\n",
    "data$GrowthRate_l1 <- c(c(rep(NA, 1)), data$GrowthRate[-((n-0):n)])\n",
    "\n",
    "train <- subset(data, data$year <= 2010 & data$year > 1950)\n",
    "val <- subset(data, data$year > 2010)"
   ],
   "outputs": [],
   "metadata": {}
  },
  {
   "cell_type": "markdown",
   "source": [
    "<br><br>\n",
    "<h2><b>Part (a)</b> </h2>"
   ],
   "metadata": {}
  },
  {
   "cell_type": "code",
   "execution_count": 65,
   "source": [
    "LL0 <- -152.763"
   ],
   "outputs": [],
   "metadata": {}
  },
  {
   "cell_type": "markdown",
   "source": [
    "(1) GDPIMPR = $\\alpha + \\beta_1 \\text{li1(-1)} + \\varepsilon$"
   ],
   "metadata": {}
  },
  {
   "cell_type": "code",
   "execution_count": 66,
   "source": [
    "m <- 1\n",
    "LL1 <- -139.747\n",
    "LR <- -2*(LL0 - LL1)\n",
    "critval <- qchisq(0.95, df=m, lower.tail=TRUE)\n",
    "sprintf(\"LR = %.3f > %.3f, therefore reject H0. Full model is preferred.\", LR, critval)"
   ],
   "outputs": [
    {
     "output_type": "display_data",
     "data": {
      "text/plain": [
       "[1] \"LR = 26.032 > 3.841, therefore reject H0. Full model is preferred.\""
      ],
      "text/markdown": [
       "'LR = 26.032 &gt; 3.841, therefore reject H0. Full model is preferred.'"
      ],
      "text/latex": [
       "'LR = 26.032 > 3.841, therefore reject H0. Full model is preferred.'"
      ],
      "text/html": [
       "'LR = 26.032 &gt; 3.841, therefore reject H0. Full model is preferred.'"
      ]
     },
     "metadata": {}
    }
   ],
   "metadata": {}
  },
  {
   "cell_type": "markdown",
   "source": [
    "(2) GDPIMPR = $\\alpha + \\beta_ \\text{li2(-1)} + \\varepsilon$"
   ],
   "metadata": {}
  },
  {
   "cell_type": "code",
   "execution_count": 67,
   "source": [
    "m <- 1\n",
    "LL1 <- -149.521\n",
    "LR <- -2*(LL0 - LL1)\n",
    "critval <- qchisq(0.95, df=m, lower.tail=TRUE)\n",
    "sprintf(\"LR = %.3f > %.3f, therefore reject H0. Full model is preferred.\", LR, critval)"
   ],
   "outputs": [
    {
     "output_type": "display_data",
     "data": {
      "text/plain": [
       "[1] \"LR = 6.484 > 3.841, therefore reject H0. Full model is preferred.\""
      ],
      "text/markdown": [
       "'LR = 6.484 &gt; 3.841, therefore reject H0. Full model is preferred.'"
      ],
      "text/latex": [
       "'LR = 6.484 > 3.841, therefore reject H0. Full model is preferred.'"
      ],
      "text/html": [
       "'LR = 6.484 &gt; 3.841, therefore reject H0. Full model is preferred.'"
      ]
     },
     "metadata": {}
    }
   ],
   "metadata": {}
  },
  {
   "cell_type": "markdown",
   "source": [
    "(3) GDPIMPR = $\\alpha + \\beta_1 \\text{li2(-1)} + \\beta_2 \\text{li2(-1)} + \\varepsilon$"
   ],
   "metadata": {}
  },
  {
   "cell_type": "code",
   "execution_count": 68,
   "source": [
    "m <- 2\n",
    "LL3 <- -134.178\n",
    "LR <- -2*(LL0 - LL3)\n",
    "pval <- pchisq(LR, df=m, lower.tail=FALSE)\n",
    "critval <- qchisq(0.95, df=m, lower.tail=TRUE)\n",
    "sprintf(\"LR = %.3f > %.3f, therefore reject H0. Full model is preferred.\", LR, critval)"
   ],
   "outputs": [
    {
     "output_type": "display_data",
     "data": {
      "text/plain": [
       "[1] \"LR = 37.170 > 5.991, therefore reject H0. Full model is preferred.\""
      ],
      "text/markdown": [
       "'LR = 37.170 &gt; 5.991, therefore reject H0. Full model is preferred.'"
      ],
      "text/latex": [
       "'LR = 37.170 > 5.991, therefore reject H0. Full model is preferred.'"
      ],
      "text/html": [
       "'LR = 37.170 &gt; 5.991, therefore reject H0. Full model is preferred.'"
      ]
     },
     "metadata": {}
    }
   ],
   "metadata": {}
  },
  {
   "cell_type": "markdown",
   "source": [
    "<br><br>\n",
    "<h2><b> Part (b) </b></h2>\n",
    "\n",
    "We can use McFadden because the dependent variable for the four models are the same, GDPIMR."
   ],
   "metadata": {}
  },
  {
   "cell_type": "code",
   "execution_count": 69,
   "source": [
    "Lb1 <- -152.763"
   ],
   "outputs": [],
   "metadata": {}
  },
  {
   "cell_type": "markdown",
   "source": [
    "(1) GDPIMPR = $\\alpha + \\beta_1 \\text{li2(-1)} + \\beta_3 \\text{li2(-1)} + \\varepsilon$"
   ],
   "metadata": {}
  },
  {
   "cell_type": "code",
   "execution_count": 70,
   "source": [
    "Lb <- -134.178\n",
    "R.squared <- 1 - Lb/Lb1\n",
    "sprintf(\"McFadden R.squared = %.4f\", R.squared)"
   ],
   "outputs": [
    {
     "output_type": "display_data",
     "data": {
      "text/plain": [
       "[1] \"McFadden R.squared = 0.1217\""
      ],
      "text/markdown": [
       "'McFadden R.squared = 0.1217'"
      ],
      "text/latex": [
       "'McFadden R.squared = 0.1217'"
      ],
      "text/html": [
       "'McFadden R.squared = 0.1217'"
      ]
     },
     "metadata": {}
    }
   ],
   "metadata": {}
  },
  {
   "cell_type": "markdown",
   "source": [
    "(2) GDPIMPR = $\\alpha + \\beta_1 \\text{li2(-1)} + \\beta_4 \\text{li2(-2)} + \\varepsilon$"
   ],
   "metadata": {}
  },
  {
   "cell_type": "code",
   "execution_count": 71,
   "source": [
    "Lb <- -134.126\n",
    "R.squared <- 1 - Lb/Lb1\n",
    "sprintf(\"McFadden R.squared = %.4f\", R.squared)"
   ],
   "outputs": [
    {
     "output_type": "display_data",
     "data": {
      "text/plain": [
       "[1] \"McFadden R.squared = 0.1220\""
      ],
      "text/markdown": [
       "'McFadden R.squared = 0.1220'"
      ],
      "text/latex": [
       "'McFadden R.squared = 0.1220'"
      ],
      "text/html": [
       "'McFadden R.squared = 0.1220'"
      ]
     },
     "metadata": {}
    }
   ],
   "metadata": {}
  },
  {
   "cell_type": "markdown",
   "source": [
    "(3) GDPIMPR = $\\alpha + \\beta_2 \\text{li1(-2)} + \\beta_3 \\text{li2(-1)} + \\varepsilon$"
   ],
   "metadata": {}
  },
  {
   "cell_type": "code",
   "execution_count": 72,
   "source": [
    "Lb <- -130.346\n",
    "R.squared <- 1 - Lb/Lb1\n",
    "sprintf(\"McFadden R.squared = %.4f\", R.squared)"
   ],
   "outputs": [
    {
     "output_type": "display_data",
     "data": {
      "text/plain": [
       "[1] \"McFadden R.squared = 0.1467\""
      ],
      "text/markdown": [
       "'McFadden R.squared = 0.1467'"
      ],
      "text/latex": [
       "'McFadden R.squared = 0.1467'"
      ],
      "text/html": [
       "'McFadden R.squared = 0.1467'"
      ]
     },
     "metadata": {}
    }
   ],
   "metadata": {}
  },
  {
   "cell_type": "markdown",
   "source": [
    "(4) GDPIMPR = $\\alpha + \\beta_2 \\text{li1(-2)} + \\beta_4 \\text{li2(-2)} + \\varepsilon$"
   ],
   "metadata": {}
  },
  {
   "cell_type": "code",
   "execution_count": 73,
   "source": [
    "Lb <- -130.461\n",
    "R.squared <- 1 - Lb/Lb1\n",
    "sprintf(\"McFadden R.squared = %.4f\", R.squared)"
   ],
   "outputs": [
    {
     "output_type": "display_data",
     "data": {
      "text/plain": [
       "[1] \"McFadden R.squared = 0.1460\""
      ],
      "text/markdown": [
       "'McFadden R.squared = 0.1460'"
      ],
      "text/latex": [
       "'McFadden R.squared = 0.1460'"
      ],
      "text/html": [
       "'McFadden R.squared = 0.1460'"
      ]
     },
     "metadata": {}
    }
   ],
   "metadata": {}
  },
  {
   "cell_type": "markdown",
   "source": [
    "Best model is the third one (GDPIMR = $\\alpha + \\beta_2 \\text{li1(-2)} + \\beta_3 \\text{li2(-1)} + \\varepsilon$) with the highest McFadden $R^2$ value of 0.1467.\n"
   ],
   "metadata": {}
  },
  {
   "cell_type": "markdown",
   "source": [
    "<br><br>\n",
    "<h2><b> Part (c) </b></h2>"
   ],
   "metadata": {}
  },
  {
   "cell_type": "code",
   "execution_count": 74,
   "source": [
    "model3 <- glm(GDPIMPR ~ li1_l2 + li2_l1, data=train, family=\"binomial\")"
   ],
   "outputs": [],
   "metadata": {}
  },
  {
   "cell_type": "code",
   "execution_count": 75,
   "source": [
    "result <- data.frame(val[, c(\"GDPIMPR\")])\n",
    "names(result)[1] <- \"actual\"\n",
    "result$actual <- as.factor(as.logical((result$actual)))\n",
    "result$pred <- predict(model3, newdata=val, type=\"response\")\n",
    "result$pred <- as.factor((result$pred > 0.5))"
   ],
   "outputs": [],
   "metadata": {}
  },
  {
   "cell_type": "code",
   "execution_count": 76,
   "source": [
    "cm <- confusionMatrix(result$pred, result$actual)\n",
    "cm$table\n",
    "sprintf(\"Hit rate = %.2f\", cm$overall[\"Accuracy\"])"
   ],
   "outputs": [
    {
     "output_type": "display_data",
     "data": {
      "text/plain": [
       "          Reference\n",
       "Prediction FALSE TRUE\n",
       "     FALSE     5    3\n",
       "     TRUE      2   10"
      ]
     },
     "metadata": {}
    },
    {
     "output_type": "display_data",
     "data": {
      "text/plain": [
       "[1] \"Hit rate = 0.75\""
      ],
      "text/markdown": [
       "'Hit rate = 0.75'"
      ],
      "text/latex": [
       "'Hit rate = 0.75'"
      ],
      "text/html": [
       "'Hit rate = 0.75'"
      ]
     },
     "metadata": {}
    }
   ],
   "metadata": {}
  },
  {
   "cell_type": "markdown",
   "source": [
    "The model's performance in the out-of-sample data is relatively accurate at 75% hit rate. As we use data from a relatively long period of time, the model might be mixing up older and newer fundamental characteristic in the relationship between the variable, hence the accuracy is limited."
   ],
   "metadata": {}
  },
  {
   "cell_type": "markdown",
   "source": [
    "<br><br>\n",
    "<h2><b> Part (d) </b></h2>"
   ],
   "metadata": {}
  },
  {
   "cell_type": "code",
   "execution_count": 87,
   "source": [
    "ADF <- lm(GrowthRate ~ T + LOGGDP + GrowthRate_l1, data=train)\n",
    "est <- summary(ADF)$coefficient[2, \"Estimate\"]\n",
    "stder <- summary(ADF)$coefficient[2, \"Std. Error\"]\n",
    "tval <- summary(ADF)$coefficient[2, \"t value\"]\n",
    "\n",
    "\n",
    "sprintf(\"Formula: GrowthRate = %.3f + %.3f*T - %.3f*LOGGDP + %.3f*GrowthRate_l1\", coef(ADF)[1], coef(ADF)[2], -1*coef(ADF)[3], coef(ADF)[4])\n",
    "\n",
    "sprintf(\"Coefficient = %.5f\", est)\n",
    "sprintf(\"Std. Error = %.5f\", stder)\n",
    "sprintf(\"t-value = %.5f > -3.5. Do not reject H0. LOGGDP is non stationary.\", tval)"
   ],
   "outputs": [
    {
     "output_type": "display_data",
     "data": {
      "text/plain": [
       "[1] \"Formula: GrowthRate = 0.017 + 0.000*T - 0.003*LOGGDP + 0.606*GrowthRate_l1\""
      ],
      "text/markdown": [
       "'Formula: GrowthRate = 0.017 + 0.000*T - 0.003*LOGGDP + 0.606*GrowthRate_l1'"
      ],
      "text/latex": [
       "'Formula: GrowthRate = 0.017 + 0.000*T - 0.003*LOGGDP + 0.606*GrowthRate\\_l1'"
      ],
      "text/html": [
       "'Formula: GrowthRate = 0.017 + 0.000*T - 0.003*LOGGDP + 0.606*GrowthRate_l1'"
      ]
     },
     "metadata": {}
    },
    {
     "output_type": "display_data",
     "data": {
      "text/plain": [
       "[1] \"Coefficient = 0.00001\""
      ],
      "text/markdown": [
       "'Coefficient = 0.00001'"
      ],
      "text/latex": [
       "'Coefficient = 0.00001'"
      ],
      "text/html": [
       "'Coefficient = 0.00001'"
      ]
     },
     "metadata": {}
    },
    {
     "output_type": "display_data",
     "data": {
      "text/plain": [
       "[1] \"Std. Error = 0.00003\""
      ],
      "text/markdown": [
       "'Std. Error = 0.00003'"
      ],
      "text/latex": [
       "'Std. Error = 0.00003'"
      ],
      "text/html": [
       "'Std. Error = 0.00003'"
      ]
     },
     "metadata": {}
    },
    {
     "output_type": "display_data",
     "data": {
      "text/plain": [
       "[1] \"t-value = 0.46742 > -3.5. Do not reject H0. LOGGDP is non stationary.\""
      ],
      "text/markdown": [
       "'t-value = 0.46742 &gt; -3.5. Do not reject H0. LOGGDP is non stationary.'"
      ],
      "text/latex": [
       "'t-value = 0.46742 > -3.5. Do not reject H0. LOGGDP is non stationary.'"
      ],
      "text/html": [
       "'t-value = 0.46742 &gt; -3.5. Do not reject H0. LOGGDP is non stationary.'"
      ]
     },
     "metadata": {}
    }
   ],
   "metadata": {}
  },
  {
   "cell_type": "markdown",
   "source": [
    "<br><br>\n",
    "<h2><b>Part (e)</b></h2>"
   ],
   "metadata": {}
  },
  {
   "cell_type": "markdown",
   "source": [
    "$k_1 = 1, k_2 = 1$"
   ],
   "metadata": {}
  },
  {
   "cell_type": "code",
   "execution_count": 101,
   "source": [
    "fit1 <- lm(GrowthRate ~ GrowthRate_l1 + li1_l1 + li2_l1, data=train)\n",
    "r.squared <- summary(fit1)$r.squared\n",
    "sprintf(\"R.squared = %.6f (Highest)\", r.squared)\n",
    "sprintf(\"Coefficients\")\n",
    "print(round(summary(fit1)$coefficient[,\"Estimate\"],6))"
   ],
   "outputs": [
    {
     "output_type": "display_data",
     "data": {
      "text/plain": [
       "[1] \"R.squared = 0.507975 (Highest)\""
      ],
      "text/markdown": [
       "'R.squared = 0.507975 (Highest)'"
      ],
      "text/latex": [
       "'R.squared = 0.507975 (Highest)'"
      ],
      "text/html": [
       "'R.squared = 0.507975 (Highest)'"
      ]
     },
     "metadata": {}
    },
    {
     "output_type": "display_data",
     "data": {
      "text/plain": [
       "[1] \"Coefficients\""
      ],
      "text/markdown": [
       "'Coefficients'"
      ],
      "text/latex": [
       "'Coefficients'"
      ],
      "text/html": [
       "'Coefficients'"
      ]
     },
     "metadata": {}
    },
    {
     "output_type": "stream",
     "name": "stdout",
     "text": [
      "  (Intercept) GrowthRate_l1        li1_l1        li2_l1 \n",
      "     0.001737      0.461579     -0.001023     -0.000149 \n"
     ]
    }
   ],
   "metadata": {}
  },
  {
   "cell_type": "markdown",
   "source": [
    "$k_1 = 1, k_2 = 2$"
   ],
   "metadata": {}
  },
  {
   "cell_type": "code",
   "execution_count": 91,
   "source": [
    "fit <- lm(GrowthRate ~ GrowthRate_l1 + li1_l1 + li2_l2, data=train)\n",
    "r.squared <- summary(fit)$r.squared\n",
    "sprintf(\"R.squared = %.6f\", r.squared)"
   ],
   "outputs": [
    {
     "output_type": "display_data",
     "data": {
      "text/plain": [
       "[1] \"R.squared = 0.507665\""
      ],
      "text/markdown": [
       "'R.squared = 0.507665'"
      ],
      "text/latex": [
       "'R.squared = 0.507665'"
      ],
      "text/html": [
       "'R.squared = 0.507665'"
      ]
     },
     "metadata": {}
    }
   ],
   "metadata": {}
  },
  {
   "cell_type": "markdown",
   "source": [
    "$k_1 = 2, k_2 = 1$"
   ],
   "metadata": {}
  },
  {
   "cell_type": "code",
   "execution_count": 92,
   "source": [
    "fit <- lm(GrowthRate ~ GrowthRate_l1 + li1_l2 + li2_l1, data=train)\n",
    "r.squared <- summary(fit)$r.squared\n",
    "sprintf(\"R.squared = %.6f\", r.squared)"
   ],
   "outputs": [
    {
     "output_type": "display_data",
     "data": {
      "text/plain": [
       "[1] \"R.squared = 0.477193\""
      ],
      "text/markdown": [
       "'R.squared = 0.477193'"
      ],
      "text/latex": [
       "'R.squared = 0.477193'"
      ],
      "text/html": [
       "'R.squared = 0.477193'"
      ]
     },
     "metadata": {}
    }
   ],
   "metadata": {}
  },
  {
   "cell_type": "markdown",
   "source": [
    "$k_1 = 2, k_2 = 2$"
   ],
   "metadata": {}
  },
  {
   "cell_type": "code",
   "execution_count": 93,
   "source": [
    "fit <- lm(GrowthRate ~ GrowthRate_l1 + li1_l2 + li2_l2, data=train)\n",
    "r.squared <- summary(fit)$r.squared\n",
    "sprintf(\"R.squared = %.6f\", r.squared)"
   ],
   "outputs": [
    {
     "output_type": "display_data",
     "data": {
      "text/plain": [
       "[1] \"R.squared = 0.477130\""
      ],
      "text/markdown": [
       "'R.squared = 0.477130'"
      ],
      "text/latex": [
       "'R.squared = 0.477130'"
      ],
      "text/html": [
       "'R.squared = 0.477130'"
      ]
     },
     "metadata": {}
    }
   ],
   "metadata": {}
  },
  {
   "cell_type": "markdown",
   "source": [
    "<br><br>\n",
    "<h2><b> Part (f)</b> </h2>"
   ],
   "metadata": {}
  },
  {
   "cell_type": "code",
   "execution_count": 129,
   "source": [
    "residuals <- train\n",
    "n <- nrow(residuals)\n",
    "residuals$e <- summary(fit1)$residuals\n",
    "residuals$e_l1 <- c(c(rep(NA, 1)), residuals$e[-((n-0):n)])\n",
    "BG_model <- lm(e ~ GrowthRate_l1 + li1_l2 + li2_l2 + e_l1, data=residuals)\n",
    "R.squared <- summary(BG_model)$r.squared\n",
    "BG <- n*R.squared\n",
    "critval <- qchisq(0.95, df=1, lower.tail=TRUE)\n",
    "sprintf(\"BG = %.3f < %.3f, therefore there does not seem to be any misspecification of the model.\", BG, critval)"
   ],
   "outputs": [
    {
     "output_type": "display_data",
     "data": {
      "text/plain": [
       "[1] \"BG = 0.575 < 3.841, therefore there does not seem to be any misspecification of the model.\""
      ],
      "text/markdown": [
       "'BG = 0.575 &lt; 3.841, therefore there does not seem to be any misspecification of the model.'"
      ],
      "text/latex": [
       "'BG = 0.575 < 3.841, therefore there does not seem to be any misspecification of the model.'"
      ],
      "text/html": [
       "'BG = 0.575 &lt; 3.841, therefore there does not seem to be any misspecification of the model.'"
      ]
     },
     "metadata": {}
    }
   ],
   "metadata": {}
  },
  {
   "cell_type": "markdown",
   "source": [
    "<br><br>\n",
    "<h2><b> Part (g)</b> </h2>"
   ],
   "metadata": {}
  },
  {
   "cell_type": "code",
   "execution_count": 126,
   "source": [
    "result <- val\n",
    "result$pred <- predict(fit1, newdata=result)\n",
    "result$e <- result$GrowthRate - result$pred\n",
    "RMSE <- sqrt(1/n*sum(result$e**2))\n",
    "sprintf(\"RMSE=%.6f\", RMSE)"
   ],
   "outputs": [
    {
     "output_type": "display_data",
     "data": {
      "text/plain": [
       "[1] \"RMSE=0.000911\""
      ],
      "text/markdown": [
       "'RMSE=0.000911'"
      ],
      "text/latex": [
       "'RMSE=0.000911'"
      ],
      "text/html": [
       "'RMSE=0.000911'"
      ]
     },
     "metadata": {}
    }
   ],
   "metadata": {}
  },
  {
   "cell_type": "code",
   "execution_count": 158,
   "source": [
    "plot(result$GrowthRate, ylab=\"GrowthRate\", ylim=c(-0.012, 0.013), xlab=\"T\",type=\"l\", col=3, lwd=2)\n",
    "lines(result$pred, col=2, lwd=2)\n",
    "legend(\"bottomright\", legend=c(\"Prediction\", \"Actual\"), col=c(2, 3), lwd=2, cex=1)"
   ],
   "outputs": [
    {
     "output_type": "display_data",
     "data": {
      "text/plain": [
       "plot without title"
      ],
      "image/png": "[encoded data removed]"
     },
     "metadata": {
      "image/png": {
       "width": 420,
       "height": 420
      }
     }
    }
   ],
   "metadata": {}
  },
  {
   "cell_type": "code",
   "execution_count": null,
   "source": [],
   "outputs": [],
   "metadata": {}
  }
 ],
 "metadata": {
  "orig_nbformat": 4,
  "language_info": {
   "name": "R",
   "codemirror_mode": "r",
   "pygments_lexer": "r",
   "mimetype": "text/x-r-source",
   "file_extension": ".r",
   "version": "4.1.0"
  },
  "kernelspec": {
   "name": "ir",
   "display_name": "R",
   "language": "R"
  }
 },
 "nbformat": 4,
 "nbformat_minor": 2
}