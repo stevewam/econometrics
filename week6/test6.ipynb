{
 "metadata": {
  "language_info": {
   "name": "R",
   "codemirror_mode": "r",
   "pygments_lexer": "r",
   "mimetype": "text/x-r-source",
   "file_extension": ".r",
   "version": "4.1.0"
  },
  "orig_nbformat": 4,
  "kernelspec": {
   "name": "ir",
   "display_name": "R",
   "language": "R"
  }
 },
 "nbformat": 4,
 "nbformat_minor": 2,
 "cells": [
  {
   "cell_type": "markdown",
   "source": [
    "<h1> Test Exercise 6"
   ],
   "metadata": {}
  },
  {
   "cell_type": "code",
   "execution_count": 152,
   "source": [
    "data <- read.csv(\"./data/TestExer6-CARS-round2.csv\")\n",
    "names(data)[1] <- \"YEARMONTH\"A\n",
    "\n",
    "n <- nrow(data)\n",
    "\n",
    "data$T <-c(seq(1, n))\n",
    "data$YEAR <- substr(data$YEARMONTH, 1, 4)\n",
    "\n",
    "data$DTOYOTA_SA <- c(NA, diff(data$TOYOTA_SA, lag=1))\n",
    "data$DOTHER_SA <- c(NA, diff(data$OTHER_SA, lag=1))0\n",
    "for (i in c(1:12)){\n",
    "    data[,paste(\"DTOYOTA_SA_l\", i, sep=\"\")] <- c(c(rep(NA, i)), data$DTOYOTA_SA[-((n-i+1):n)])\n",
    "}\n",
    "for (i in c(1:3)){\n",
    "    data[,paste(\"DOTHER_SA_l\", i, sep=\"\")] <- c(c(rep(NA, i)), data$DOTHER_SA_SA[-((n-i+1):n)])\n",
    "}\n",
    "\n",
    "data$TOYOTA_SA_l1 <- c(c(rep(NA, 1)), data$TOYOTA_SA[-((n-0):n)])\n",
    "data$OTHER_SA_l1 <- c(c(rep(NA, 1)), data$OTHER_SA[-((n-0):n)]))\n",
    "train <- data[data$YEAR <= 1999,]\n",
    "test <- data[data$YEAR > 1999,]\""
   ],
   "outputs": [],
   "metadata": {}
  },
  {
   "cell_type": "markdown",
   "source": [
    "<h3> Part (a) </h3> \r\n",
    "\r\n",
    "$y_t$ and $x_t$ seems to be correlated. $\\frac{y_t}{(y_t + x_t)}$ is rather stationary."
   ],
   "metadata": {}
  },
  {
   "cell_type": "code",
   "execution_count": 153,
   "source": [
    "# attach(mtcars)\n",
    "par(mfrow=c(2,2))\n",
    "plot( ata$TOYOTA_SA, ylab=\"TOYOTA_SA\", col=2)\n",
    "plot(data$OTHER_SA, ylab=\"OTHER_SA\", col=4)\n",
    "plot(data$TOYOTA_SA /(data$TOYOTA_SA + data$OTHER_SA), ylab=\"y/(y+x)\")"
   ],
   "outputs": [
    {
     "output_type": "display_data",
     "data": {
      "text/plain": [
       "plot without title"
      ],
      "image/png": "[encoded data removed]"
     },
     "metadata": {
      "image/png": {
       "width": 420,
       "height": 420
      }
     }
    }
   ],
   "metadata": {}
  },
  {
   "cell_type": "markdown",
   "source": [
    "<h3> Part (b)</h3>"
   ],
   "metadata": {}
  },
  {
   "cell_type": "code",
   "execution_count": 154,
   "source": [
    "TOYOTA_SA_ADF <- lm(DTOYOTA_SA~ TTOYOTA_SA_l1 + DTOYOTA_SA_l1 + DTOYOTA_SA_l2 + DTOYOTA_SA_l3, data=trin)\n",
    "\n",
    "sprintf(\"Formula: DTOYOTA_SA = %.3f - %.3f*TOYOTA_SA_l1* - %.3f*DTOYOTA_SA_l1* - %.3f*DTOYOTA_SA_l2* - %.3f*DTOYOTA_SA_l3*\", coef(TOYOTA_SA_ADF)[1], -1*coef(TOYOTA_SA_ADF)[2], -1*coef(TOYOTA_SA_ADF)[3], -1*coef(TOYOTA_SA_ADF)[4], -1*coef(TOYOTA_SA_ADF)[5])\n",
    "sprintf(\"\")sprint(\"LOTOYOTA_SA_l1:\")\n",
    "sprintf(\"Coefficint = %.5f\", summy(LOGTOYOTA_SA_ADF)$coefficient[2, \"Estimate\"])\n",
    "sprintf(\"td. Error = %.5f\", sumy(LOGITOYOTA_SA_ADF)$coefficient[2, \"Std. Error\"])\n",
    "sprintf(\"t-valu = %.5f > -32.9 Do not rejec LOGIPtTOYOTA_SAis non stationary.\", y(LOGIPmTOYOTA_SAADF))coefficient[32 \"t value\"]))"
   ],
   "outputs": [
    {
     "output_type": "display_data",
     "data": {
      "text/plain": [
       "[1] \"Formula: DTOYOTA_SA = 19281.893 - 0.083*TOYOTA_SA_l1* - 0.563*DTOYOTA_SA_l1* - 0.324*DTOYOTA_SA_l2* - 0.064*DTOYOTA_SA_l3*\""
      ],
      "text/markdown": [
       "'Formula: DTOYOTA_SA = 19281.893 - 0.083*TOYOTA_SA_l1* - 0.563*DTOYOTA_SA_l1* - 0.324*DTOYOTA_SA_l2* - 0.064*DTOYOTA_SA_l3*'"
      ],
      "text/latex": [
       "'Formula: DTOYOTA\\_SA = 19281.893 - 0.083*TOYOTA\\_SA\\_l1* - 0.563*DTOYOTA\\_SA\\_l1* - 0.324*DTOYOTA\\_SA\\_l2* - 0.064*DTOYOTA\\_SA\\_l3*'"
      ],
      "text/html": [
       "'Formula: DTOYOTA_SA = 19281.893 - 0.083*TOYOTA_SA_l1* - 0.563*DTOYOTA_SA_l1* - 0.324*DTOYOTA_SA_l2* - 0.064*DTOYOTA_SA_l3*'"
      ]
     },
     "metadata": {}
    },
    {
     "output_type": "display_data",
     "data": {
      "text/plain": [
       "[1] \"\""
      ],
      "text/markdown": [
       "''"
      ],
      "text/latex": [
       "''"
      ],
      "text/html": [
       "''"
      ]
     },
     "metadata": {}
    },
    {
     "output_type": "display_data",
     "data": {
      "text/plain": [
       "[1] \"TOYOTA_SA_l1:\""
      ],
      "text/markdown": [
       "'TOYOTA_SA_l1:'"
      ],
      "text/latex": [
       "'TOYOTA\\_SA\\_l1:'"
      ],
      "text/html": [
       "'TOYOTA_SA_l1:'"
      ]
     },
     "metadata": {}
    },
    {
     "output_type": "display_data",
     "data": {
      "text/plain": [
       "[1] \"Coefficient = -0.08322\""
      ],
      "text/markdown": [
       "'Coefficient = -0.08322'"
      ],
      "text/latex": [
       "'Coefficient = -0.08322'"
      ],
      "text/html": [
       "'Coefficient = -0.08322'"
      ]
     },
     "metadata": {}
    },
    {
     "output_type": "display_data",
     "data": {
      "text/plain": [
       "[1] \"Std. Error = 0.03679\""
      ],
      "text/markdown": [
       "'Std. Error = 0.03679'"
      ],
      "text/latex": [
       "'Std. Error = 0.03679'"
      ],
      "text/html": [
       "'Std. Error = 0.03679'"
      ]
     },
     "metadata": {}
    },
    {
     "output_type": "display_data",
     "data": {
      "text/plain": [
       "[1] \"t-value = -2.26228 > -2.9. Do not reject H0. TOYOTA_SA is non stationary.\""
      ],
      "text/markdown": [
       "'t-value = -2.26228 &gt; -2.9. Do not reject H0. TOYOTA_SA is non stationary.'"
      ],
      "text/latex": [
       "'t-value = -2.26228 > -2.9. Do not reject H0. TOYOTA\\_SA is non stationary.'"
      ],
      "text/html": [
       "'t-value = -2.26228 &gt; -2.9. Do not reject H0. TOYOTA_SA is non stationary.'"
      ]
     },
     "metadata": {}
    }
   ],
   "metadata": {}
  },
  {
   "cell_type": "code",
   "execution_count": 155,
   "source": [
    "OTHER_SA_ADF <- lm(DOTHER_SA ~ OTHER_SA_l1 + DOTHER_SA_l1 + DOTHER_SA_l2 + DOTHER_SA_l3, data=train)\n",
    "sprintf(\"Formula: DOTHER_SA = %.3f - %.3f*OTHER_SA_l1* - %.3f*DOTHER_SA_l1* - %.3f*DOTHER_SA_l2* - %.3f*DOTHER_SA_l3*\", coef(OTHER_SA_ADF)[1], -1*coef(OTHER_SA_ADF)[2], -1*coef(OTHER_SA_ADF)[3], -1*coef(OTHER_SA_ADF)[4], -1*coef(OTHER_SA_ADF)[5])\n",
    "sprintf(\"\")\n",
    "sprintf(\"OTHER_SA_l1:\")\n",
    "sprintf(\"Coefficient = %.5f\", summary(OTHER_SA_ADF)$coefficient[2, \"Estimate\"])\n",
    "sprintf(\"Std. Error = %.5f\", summary(OTHER_SA_ADF)$coefficient[2, \"Std. Error\"])\n",
    "sprintf(\"t-value = %.5f > -2.9. Do not reject H0. OTHER_SA is non stationary.\",summary(OTHER_SA_ADF)$coefficient[2, \"t value\"])"
   ],
   "outputs": [
    {
     "output_type": "error",
     "ename": "ERROR",
     "evalue": "Error in lm.fit(x, y, offset = offset, singular.ok = singular.ok, ...): 0 (non-NA) cases\n",
     "traceback": [
      "Error in lm.fit(x, y, offset = offset, singular.ok = singular.ok, ...): 0 (non-NA) cases\nTraceback:\n",
      "1. lm(DOTHER_SA ~ OTHER_SA_l1 + DOTHER_SA_l1 + DOTHER_SA_l2 + DOTHER_SA_l3, \n .     data = train)",
      "2. lm.fit(x, y, offset = offset, singular.ok = singular.ok, ...)",
      "3. stop(\"0 (non-NA) cases\")"
     ]
    }
   ],
   "metadata": {}
  },
  {
   "cell_type": "markdown",
   "source": [
    "<h3> Part (c) </h3>"
   ],
   "metadata": {}
  },
  {
   "cell_type": "code",
   "execution_count": 156,
   "source": [
    "eg <- lm(TOYOTA_SA ~ OTHER_SA, data=train)\n",
    "sprintf(\"Formula: *TOYOTA_SA* = %.2f + %.2f*OTHER_SA*\", coef(eg)[1], coef(eg)[2])"
   ],
   "outputs": [
    {
     "output_type": "display_data",
     "data": {
      "text/plain": [
       "[1] \"Formula: *TOYOTA_SA* = 26786.41 + 0.45*OTHER_SA*\""
      ],
      "text/markdown": [
       "'Formula: *TOYOTA_SA* = 26786.41 + 0.45*OTHER_SA*'"
      ],
      "text/latex": [
       "'Formula: *TOYOTA\\_SA* = 26786.41 + 0.45*OTHER\\_SA*'"
      ],
      "text/html": [
       "'Formula: *TOYOTA_SA* = 26786.41 + 0.45*OTHER_SA*'"
      ]
     },
     "metadata": {}
    }
   ],
   "metadata": {}
  },
  {
   "cell_type": "code",
   "execution_count": 157,
   "source": [
    "res_data <- train\n",
    "res_data$e <- summary(eg)$residuals\n",
    "res_data$De <- c(NA, diff(res_data$e, lag=1))\n",
    "\n",
    "n <- nrow(res_data)\n",
    "res_data$e_l1 <- c(c(rep(NA, 1)), res_data$e[-((n-0):n)])\n",
    "res_data$De_l1 <- c(c(rep(NA, 1)), res_data$De[-((n-0):n)])\n",
    "res_data$De_l2 <- c(c(rep(NA, 2)), res_data$De[-((n-1):n)])\n",
    "res_data$De_l3 <- c(c(rep(NA, 3)), res_data$De[-((n-2):n)])"
   ],
   "outputs": [],
   "metadata": {}
  },
  {
   "cell_type": "code",
   "execution_count": 158,
   "source": [
    "res_fit <- lm(De ~ e_l1 + De_l1 + De_l2 + De_l3, data=res_data)\n",
    "sprintf(\"Formula: De = %.3f - %.3f*e_l1* - %.3f*De_l1* - %.3f*De_l2* - %.3f*De_l3*\", coef(res_fit)[1], -1*coef(res_fit)[2], -1*coef(res_fit)[3], -1*coef(res_fit)[4], -1*coef(res_fit)[5])\n",
    "sprintf(\"t-value = %.5f < -3.4. Reject H0. TOYOTA_SA and OTHER_SA are cointegrated.\", summary(res_fit)$coefficient[3, \"t value\"])"
   ],
   "outputs": [
    {
     "output_type": "display_data",
     "data": {
      "text/plain": [
       "[1] \"Formula: De = 24.992 - 0.293*e_l1* - 0.286*De_l1* - 0.142*De_l2* - 0.096*De_l3*\""
      ],
      "text/markdown": [
       "'Formula: De = 24.992 - 0.293*e_l1* - 0.286*De_l1* - 0.142*De_l2* - 0.096*De_l3*'"
      ],
      "text/latex": [
       "'Formula: De = 24.992 - 0.293*e\\_l1* - 0.286*De\\_l1* - 0.142*De\\_l2* - 0.096*De\\_l3*'"
      ],
      "text/html": [
       "'Formula: De = 24.992 - 0.293*e_l1* - 0.286*De_l1* - 0.142*De_l2* - 0.096*De_l3*'"
      ]
     },
     "metadata": {}
    },
    {
     "output_type": "display_data",
     "data": {
      "text/plain": [
       "[1] \"t-value = -3.63959 < -3.4. Reject H0. TOYOTA_SA and OTHER_SA are cointegrated.\""
      ],
      "text/markdown": [
       "'t-value = -3.63959 &lt; -3.4. Reject H0. TOYOTA_SA and OTHER_SA are cointegrated.'"
      ],
      "text/latex": [
       "'t-value = -3.63959 < -3.4. Reject H0. TOYOTA\\_SA and OTHER\\_SA are cointegrated.'"
      ],
      "text/html": [
       "'t-value = -3.63959 &lt; -3.4. Reject H0. TOYOTA_SA and OTHER_SA are cointegrated.'"
      ]
     },
     "metadata": {}
    }
   ],
   "metadata": {}
  },
  {
   "cell_type": "markdown",
   "source": [
    "<h3> Part (d)</h3>\n",
    "\n",
    "From the graph and OLS, only lags 1 to 5, 10 and 12 are significant."
   ],
   "metadata": {}
  },
  {
   "cell_type": "code",
   "execution_count": 159,
   "source": [
    "par(mfrow=c(2,1))\n",
    "acf(na.omit(data$DTOYOTA_SA), lag.max=12, main=\"ACF\")\n",
    "pacf(na.omit(data$DTOYOTA_SA), lag.max=12, main=\"(P)ACF\")"
   ],
   "outputs": [
    {
     "output_type": "display_data",
     "data": {
      "text/plain": [
       "Plot with title \"(P)ACF\""
      ],
      "image/png": "[encoded data removed]"
     },
     "metadata": {
      "image/png": {
       "width": 420,
       "height": 420
      }
     }
    }
   ],
   "metadata": {}
  },
  {
   "cell_type": "code",
   "execution_count": 160,
   "source": [
    "evaluate <- lm(DTOYOTA_SA ~ DTOYOTA_SA_l1 + DTOYOTA_SA_l2 + DTOYOTA_SA_l3 + DTOYOTA_SA_l4 + DTOYOTA_SA_l5 + DTOYOTA_SA_l6 + DTOYOTA_SA_l7 + DTOYOTA_SA_l8 + DTOYOTA_SA_l9 + DTOYOTA_SA_l10 + DTOYOTA_SA_l11 + DTOYOTA_SA_l12, data=train)"
   ],
   "outputs": [],
   "metadata": {}
  },
  {
   "cell_type": "code",
   "execution_count": 161,
   "source": [
    "summary(evaluate)"
   ],
   "outputs": [
    {
     "output_type": "display_data",
     "data": {
      "text/plain": [
       "\n",
       "Call:\n",
       "lm(formula = DTOYOTA_SA ~ DTOYOTA_SA_l1 + DTOYOTA_SA_l2 + DTOYOTA_SA_l3 + \n",
       "    DTOYOTA_SA_l4 + DTOYOTA_SA_l5 + DTOYOTA_SA_l6 + DTOYOTA_SA_l7 + \n",
       "    DTOYOTA_SA_l8 + DTOYOTA_SA_l9 + DTOYOTA_SA_l10 + DTOYOTA_SA_l11 + \n",
       "    DTOYOTA_SA_l12, data = train)\n",
       "\n",
       "Residuals:\n",
       "   Min     1Q Median     3Q    Max \n",
       "-40387  -9196   -402   8322  33993 \n",
       "\n",
       "Coefficients:\n",
       "                Estimate Std. Error t value Pr(>|t|)    \n",
       "(Intercept)    619.04050  915.32772   0.676 0.499577    \n",
       "DTOYOTA_SA_l1   -0.61619    0.06668  -9.241  < 2e-16 ***\n",
       "DTOYOTA_SA_l2   -0.30230    0.07886  -3.833 0.000166 ***\n",
       "DTOYOTA_SA_l3   -0.25794    0.07931  -3.252 0.001331 ** \n",
       "DTOYOTA_SA_l4   -0.26978    0.08119  -3.323 0.001049 ** \n",
       "DTOYOTA_SA_l5   -0.23153    0.08357  -2.770 0.006091 ** \n",
       "DTOYOTA_SA_l6   -0.12142    0.08446  -1.438 0.152006    \n",
       "DTOYOTA_SA_l7   -0.13116    0.08437  -1.555 0.121516    \n",
       "DTOYOTA_SA_l8    0.04496    0.08331   0.540 0.589974    \n",
       "DTOYOTA_SA_l9    0.03573    0.08186   0.437 0.662905    \n",
       "DTOYOTA_SA_l10  -0.26465    0.07981  -3.316 0.001073 ** \n",
       "DTOYOTA_SA_l11  -0.04327    0.07877  -0.549 0.583349    \n",
       "DTOYOTA_SA_l12   0.21971    0.06624   3.317 0.001070 ** \n",
       "---\n",
       "Signif. codes:  0 '***' 0.001 '**' 0.01 '*' 0.05 '.' 0.1 ' ' 1\n",
       "\n",
       "Residual standard error: 13740 on 214 degrees of freedom\n",
       "  (13 observations deleted due to missingness)\n",
       "Multiple R-squared:  0.4642,\tAdjusted R-squared:  0.4342 \n",
       "F-statistic: 15.45 on 12 and 214 DF,  p-value: < 2.2e-16\n"
      ]
     },
     "metadata": {}
    }
   ],
   "metadata": {}
  },
  {
   "cell_type": "code",
   "execution_count": 162,
   "source": [
    "fit <- lm(DTOYOTA_SA ~ DTOYOTA_SA_l1 + DTOYOTA_SA_l2 + DTOYOTA_SA_l3 + DTOYOTA_SA_l4 + DTOYOTA_SA_l5 + DTOYOTA_SA_l10 + DTOYOTA_SA_l12, data=train)\n",
    "sprintf(\"Formula:\")\n",
    "sprintf(\"Dyt = %.3f - %.3f*Dyt_l1* - %.3f*Dyt_l2* - %.3f*Dyt_l3* - %.3f*Dyt_l4* - %.3f*Dyt_l5* - %.3f*Dyt_l10* + %.3f*Dyt_l12*\", coef(fit)[1], -1*coef(fit)[2], -1*coef(fit)[3], -1*coef(fit)[4], -1*coef(fit)[5], -1*coef(fit)[6], -1*coef(fit)[7], coef(fit)[8])"
   ],
   "outputs": [
    {
     "output_type": "display_data",
     "data": {
      "text/plain": [
       "[1] \"Formula:\""
      ],
      "text/markdown": [
       "'Formula:'"
      ],
      "text/latex": [
       "'Formula:'"
      ],
      "text/html": [
       "'Formula:'"
      ]
     },
     "metadata": {}
    },
    {
     "output_type": "display_data",
     "data": {
      "text/plain": [
       "[1] \"Dyt = 561.613 - 0.598*Dyt_l1* - 0.263*Dyt_l2* - 0.227*Dyt_l3* - 0.230*Dyt_l4* - 0.152*Dyt_l5* - 0.268*Dyt_l10* + 0.246*Dyt_l12*\""
      ],
      "text/markdown": [
       "'Dyt = 561.613 - 0.598*Dyt_l1* - 0.263*Dyt_l2* - 0.227*Dyt_l3* - 0.230*Dyt_l4* - 0.152*Dyt_l5* - 0.268*Dyt_l10* + 0.246*Dyt_l12*'"
      ],
      "text/latex": [
       "'Dyt = 561.613 - 0.598*Dyt\\_l1* - 0.263*Dyt\\_l2* - 0.227*Dyt\\_l3* - 0.230*Dyt\\_l4* - 0.152*Dyt\\_l5* - 0.268*Dyt\\_l10* + 0.246*Dyt\\_l12*'"
      ],
      "text/html": [
       "'Dyt = 561.613 - 0.598*Dyt_l1* - 0.263*Dyt_l2* - 0.227*Dyt_l3* - 0.230*Dyt_l4* - 0.152*Dyt_l5* - 0.268*Dyt_l10* + 0.246*Dyt_l12*'"
      ]
     },
     "metadata": {}
    }
   ],
   "metadata": {}
  },
  {
   "cell_type": "markdown",
   "source": [
    "<h3> Part (e)</h3>"
   ],
   "metadata": {}
  },
  {
   "cell_type": "code",
   "execution_count": 163,
   "source": [
    "new_data <- data\n",
    "new_data$EQ <- new_data$TOYOTA_SA_l1 - coef(eg)[2]*new_data$OTHER_SA_l1\n",
    "\n",
    "new_train <- new_data[new_data$YEAR <= 1999,]\n",
    "new_test <- new_data[new_data$YEAR > 1999,]"
   ],
   "outputs": [],
   "metadata": {}
  },
  {
   "cell_type": "code",
   "execution_count": 164,
   "source": [
    "ECM_fit <- lm(DTOYOTA_SA ~ EQ + DTOYOTA_SA_l1 + DTOYOTA_SA_l2 + DTOYOTA_SA_l3 + DTOYOTA_SA_l4 + DTOYOTA_SA_l5 + DTOYOTA_SA_l10 + DTOYOTA_SA_l12, data=new_train)\n",
    "sprintf(\"Formula:\")\n",
    "sprintf(\"Dyt = %.3f - %.3f(*yt_l1* - 0.45*xt_l1*) - %.3f*Dyt_l1* - %.3f*Dyt_l2* - %.3f*Dyt_l3* - %.3f*Dyt_l4* - %.3f*Dyt_l5* - %.3f*Dyt_l10* + %.3f*Dyt_l12*\", coef(ECM_fit)[1], -1*coef(ECM_fit)[2], -1*coef(ECM_fit)[3], -1*coef(ECM_fit)[4], -1*coef(ECM_fit)[5], -1*coef(ECM_fit)[6], -1*coef(ECM_fit)[7], coef(ECM_fit)[8], coef(ECM_fit)[9])"
   ],
   "outputs": [
    {
     "output_type": "display_data",
     "data": {
      "text/plain": [
       "[1] \"Formula:\""
      ],
      "text/markdown": [
       "'Formula:'"
      ],
      "text/latex": [
       "'Formula:'"
      ],
      "text/html": [
       "'Formula:'"
      ]
     },
     "metadata": {}
    },
    {
     "output_type": "display_data",
     "data": {
      "text/plain": [
       "[1] \"Dyt = 4602.114 - 0.150(*yt_l1* - 0.45*xt_l1*) - 0.523*Dyt_l1* - 0.187*Dyt_l2* - 0.158*Dyt_l3* - 0.185*Dyt_l4* - 0.133*Dyt_l5* - -0.274*Dyt_l10* + 0.252*Dyt_l12*\""
      ],
      "text/markdown": [
       "'Dyt = 4602.114 - 0.150(*yt_l1* - 0.45*xt_l1*) - 0.523*Dyt_l1* - 0.187*Dyt_l2* - 0.158*Dyt_l3* - 0.185*Dyt_l4* - 0.133*Dyt_l5* - -0.274*Dyt_l10* + 0.252*Dyt_l12*'"
      ],
      "text/latex": [
       "'Dyt = 4602.114 - 0.150(*yt\\_l1* - 0.45*xt\\_l1*) - 0.523*Dyt\\_l1* - 0.187*Dyt\\_l2* - 0.158*Dyt\\_l3* - 0.185*Dyt\\_l4* - 0.133*Dyt\\_l5* - -0.274*Dyt\\_l10* + 0.252*Dyt\\_l12*'"
      ],
      "text/html": [
       "'Dyt = 4602.114 - 0.150(*yt_l1* - 0.45*xt_l1*) - 0.523*Dyt_l1* - 0.187*Dyt_l2* - 0.158*Dyt_l3* - 0.185*Dyt_l4* - 0.133*Dyt_l5* - -0.274*Dyt_l10* + 0.252*Dyt_l12*'"
      ]
     },
     "metadata": {}
    }
   ],
   "metadata": {}
  },
  {
   "cell_type": "code",
   "execution_count": 165,
   "source": [
    "rsq_0 <- as.numeric(summary(fit)$r.squared)\n",
    "rsq_1 <- as.numeric(summary(ECM_fit)$r.squared)\n",
    "n <- nrow(na.omit(train))\n",
    "g <- 1 #no. of excluded variables\n",
    "k <- 9 #total number of variables in unrestricted model\n",
    "F5 <- (rsq_1 - rsq_0) * (n - k) / (1 - rsq_1) / g\n",
    "\n",
    "sprintf(\"Critical value at 5%% level=%.3f\", qf(.95, df1=g, df2=n-k))\n",
    "sprintf(\"Critical value at 1%% level=%.3f\", qf(.99, df1=g, df2=n-k))\n",
    "\n",
    "sprintf(\"F = %.3f > 3.9, therefore reject H0 at 5%% level\", F)\n",
    "sprintf(\"F = %.3f < 6.8, therefore do not reject H0 at 1%% level\", F)"
   ],
   "outputs": [
    {
     "output_type": "stream",
     "name": "stderr",
     "text": [
      "Warning message in qf(0.95, df1 = g, df2 = n - k):\n",
      "\"NaNs produced\"\n"
     ]
    },
    {
     "output_type": "display_data",
     "data": {
      "text/plain": [
       "[1] \"Critical value at 5% level=NaN\""
      ],
      "text/markdown": [
       "'Critical value at 5% level=NaN'"
      ],
      "text/latex": [
       "'Critical value at 5\\% level=NaN'"
      ],
      "text/html": [
       "'Critical value at 5% level=NaN'"
      ]
     },
     "metadata": {}
    },
    {
     "output_type": "stream",
     "name": "stderr",
     "text": [
      "Warning message in qf(0.99, df1 = g, df2 = n - k):\n",
      "\"NaNs produced\"\n"
     ]
    },
    {
     "output_type": "display_data",
     "data": {
      "text/plain": [
       "[1] \"Critical value at 1% level=NaN\""
      ],
      "text/markdown": [
       "'Critical value at 1% level=NaN'"
      ],
      "text/latex": [
       "'Critical value at 1\\% level=NaN'"
      ],
      "text/html": [
       "'Critical value at 1% level=NaN'"
      ]
     },
     "metadata": {}
    },
    {
     "output_type": "display_data",
     "data": {
      "text/plain": [
       "[1] \"F = 4.630 > 3.9, therefore reject H0 at 5% level\""
      ],
      "text/markdown": [
       "'F = 4.630 &gt; 3.9, therefore reject H0 at 5% level'"
      ],
      "text/latex": [
       "'F = 4.630 > 3.9, therefore reject H0 at 5\\% level'"
      ],
      "text/html": [
       "'F = 4.630 &gt; 3.9, therefore reject H0 at 5% level'"
      ]
     },
     "metadata": {}
    },
    {
     "output_type": "display_data",
     "data": {
      "text/plain": [
       "[1] \"F = 4.630 < 6.8, therefore do not reject H0 at 1% level\""
      ],
      "text/markdown": [
       "'F = 4.630 &lt; 6.8, therefore do not reject H0 at 1% level'"
      ],
      "text/latex": [
       "'F = 4.630 < 6.8, therefore do not reject H0 at 1\\% level'"
      ],
      "text/html": [
       "'F = 4.630 &lt; 6.8, therefore do not reject H0 at 1% level'"
      ]
     },
     "metadata": {}
    }
   ],
   "metadata": {}
  },
  {
   "cell_type": "markdown",
   "source": [
    "<h3> Part (f)</h3>"
   ],
   "metadata": {}
  },
  {
   "cell_type": "code",
   "execution_count": 166,
   "source": [
    "result <- test[,c(\"YEAR\",\"DTOYOTA_SA\")]"
   ],
   "outputs": [],
   "metadata": {}
  },
  {
   "cell_type": "code",
   "execution_count": 167,
   "source": [
    "result$AR <- predict(fit, newdata=new_test)\n",
    "result$ECM <- predict(ECM_fit, newdata=new_test)"
   ],
   "outputs": [],
   "metadata": {}
  },
  {
   "cell_type": "code",
   "execution_count": 168,
   "source": [
    "result_error <- result\n",
    "result_error$AR <- result_error$DTOYOTA_SA - result_error$AR\n",
    "result_error$ECM <- result_error$DTOYOTA_SA - result_error$ECM"
   ],
   "outputs": [],
   "metadata": {}
  },
  {
   "cell_type": "code",
   "execution_count": 169,
   "source": [
    "n <- nrow(result_error)\n",
    "\n",
    "for (col in c(\"AR\", \"ECM\")){\n",
    "    values <- result_error[, col]\n",
    "    print(col)\n",
    "    print(eval(sprintf(\"RMSE = %.5f\", sqrt(1/n*sum(values**2)))))\n",
    "    print(eval(sprintf(\"MAE = %.5f\", 1/n*sum(abs(values)))))\n",
    "    print(\"\")\n",
    "}"
   ],
   "outputs": [
    {
     "output_type": "stream",
     "name": "stdout",
     "text": [
      "[1] \"AR\"\n",
      "[1] \"RMSE = 16991.79876\"\n",
      "[1] \"MAE = 14703.21887\"\n",
      "[1] \"\"\n",
      "[1] \"ECM\"\n",
      "[1] \"RMSE = 18202.60915\"\n",
      "[1] \"MAE = 15552.91652\"\n",
      "[1] \"\"\n"
     ]
    }
   ],
   "metadata": {}
  },
  {
   "cell_type": "markdown",
   "source": [
    "AR model (without the Error Correction) does better in the out-of-sample set with lower RMSE and MAE. "
   ],
   "metadata": {}
  },
  {
   "cell_type": "code",
   "execution_count": null,
   "source": [],
   "outputs": [],
   "metadata": {}
  },
  {
   "cell_type": "code",
   "execution_count": null,
   "source": [],
   "outputs": [],
   "metadata": {}
  }
 ]
}