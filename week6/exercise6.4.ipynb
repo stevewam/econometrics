{
 "metadata": {
  "language_info": {
   "name": "R",
   "codemirror_mode": "r",
   "pygments_lexer": "r",
   "mimetype": "text/x-r-source",
   "file_extension": ".r",
   "version": "4.1.0"
  },
  "orig_nbformat": 4,
  "kernelspec": {
   "name": "ir",
   "display_name": "R",
   "language": "R"
  }
 },
 "nbformat": 4,
 "nbformat_minor": 2,
 "cells": [
  {
   "cell_type": "markdown",
   "source": [
    "<h1> Exercise 6.4"
   ],
   "metadata": {}
  },
  {
   "cell_type": "code",
   "execution_count": 4,
   "source": [
    "data <- read.csv(\"./data/TrainExer64.csv\")\r\n",
    "names(data)1[1< - \"YEA\"\""
   ],
   "outputs": [],
   "metadata": {}
  },
  {
   "cell_type": "code",
   "execution_count": 27,
   "source": [
    "data$T <- data$YEAR - 1974\n",
    "summary(data)"
   ],
   "outputs": [
    {
     "output_type": "display_data",
     "data": {
      "text/plain": "      YEAR           RPK1            RPK2             X1              X2       \n Min.   :1975   Min.   :13.41   Min.   :11.09   Min.   :2.596   Min.   :2.406  \n 1st Qu.:1985   1st Qu.:14.97   1st Qu.:12.38   1st Qu.:2.706   1st Qu.:2.516  \n Median :1995   Median :17.40   Median :13.96   Median :2.856   Median :2.636  \n Mean   :1995   Mean   :17.81   Mean   :14.26   Mean   :2.865   Mean   :2.645  \n 3rd Qu.:2005   3rd Qu.:19.23   3rd Qu.:15.58   3rd Qu.:2.956   3rd Qu.:2.746  \n Max.   :2015   Max.   :25.19   Max.   :19.42   Max.   :3.226   Max.   :2.966  \n                                                                               \n      DX1               DX2               T     \n Min.   :-0.0100   Min.   :-0.020   Min.   : 1  \n 1st Qu.: 0.0075   1st Qu.: 0.010   1st Qu.:11  \n Median : 0.0200   Median : 0.010   Median :21  \n Mean   : 0.0155   Mean   : 0.014   Mean   :21  \n 3rd Qu.: 0.0200   3rd Qu.: 0.020   3rd Qu.:31  \n Max.   : 0.0400   Max.   : 0.040   Max.   :41  \n NA's   :1         NA's   :1                    "
     },
     "metadata": {}
    }
   ],
   "metadata": {}
  },
  {
   "cell_type": "markdown",
   "source": [
    "<h3> Part (a)<h3> "
   ],
   "metadata": {}
  },
  {
   "cell_type": "code",
   "execution_count": 78,
   "metadata": {},
   "outputs": [],
   "source": [
    "new_data <- data\n",
    "n <- nrow(new_data)\n",
    "new_data$DX1_lag_1 <- c(c(rep(NA, 1)), data$DX1[-((n-0):n)])\n",
    "new_data$DX1_lag_2 <- c(c(rep(NA, 2)), data$DX1[-((n-1):n)])\n",
    "new_data$DX2_lag_1 <- c(c(rep(NA, 1)), data$DX2[-((n-0):n)])\n",
    "new_data$DX2_lag_2 <- c(c(rep(NA, 2)), data$DX2[-((n-1):n)])\n",
    "new_data$X1_lag_1 <- c(c(rep(NA, 1)), data$X1[-((n-0):n)])\n",
    "new_data$X2_lag_1 <- c(c(rep(NA, 1)), data$X2[-((n-0):n)])"
   ]
  },
  {
   "cell_type": "code",
   "execution_count": 29,
   "metadata": {},
   "outputs": [
    {
     "output_type": "display_data",
     "data": {
      "text/plain": "      YEAR           RPK1            RPK2             X1              X2       \n Min.   :1975   Min.   :13.41   Min.   :11.09   Min.   :2.596   Min.   :2.406  \n 1st Qu.:1985   1st Qu.:14.97   1st Qu.:12.38   1st Qu.:2.706   1st Qu.:2.516  \n Median :1995   Median :17.40   Median :13.96   Median :2.856   Median :2.636  \n Mean   :1995   Mean   :17.81   Mean   :14.26   Mean   :2.865   Mean   :2.645  \n 3rd Qu.:2005   3rd Qu.:19.23   3rd Qu.:15.58   3rd Qu.:2.956   3rd Qu.:2.746  \n Max.   :2015   Max.   :25.19   Max.   :19.42   Max.   :3.226   Max.   :2.966  \n                                                                               \n      DX1               DX2               T        DX1_lag_1       \n Min.   :-0.0100   Min.   :-0.020   Min.   : 1   Min.   :-0.01000  \n 1st Qu.: 0.0075   1st Qu.: 0.010   1st Qu.:11   1st Qu.: 0.00500  \n Median : 0.0200   Median : 0.010   Median :21   Median : 0.02000  \n Mean   : 0.0155   Mean   : 0.014   Mean   :21   Mean   : 0.01538  \n 3rd Qu.: 0.0200   3rd Qu.: 0.020   3rd Qu.:31   3rd Qu.: 0.02000  \n Max.   : 0.0400   Max.   : 0.040   Max.   :41   Max.   : 0.04000  \n NA's   :1         NA's   :1                     NA's   :2         \n   DX1_lag_2          DX2_lag_1          DX2_lag_2       \n Min.   :-0.01000   Min.   :-0.02000   Min.   :-0.02000  \n 1st Qu.: 0.00250   1st Qu.: 0.01000   1st Qu.: 0.01000  \n Median : 0.02000   Median : 0.01000   Median : 0.01000  \n Mean   : 0.01474   Mean   : 0.01333   Mean   : 0.01316  \n 3rd Qu.: 0.02000   3rd Qu.: 0.02000   3rd Qu.: 0.02000  \n Max.   : 0.04000   Max.   : 0.04000   Max.   : 0.04000  \n NA's   :3          NA's   :2          NA's   :3         "
     },
     "metadata": {}
    }
   ],
   "source": [
    "summary(new_data)"
   ]
  },
  {
   "cell_type": "code",
   "execution_count": 92,
   "metadata": {},
   "outputs": [
    {
     "output_type": "display_data",
     "data": {
      "text/html": "'F = 2.150 &lt; 3.3, thereforefore reject do not H0 at 5% level'",
      "text/markdown": "'F = 2.150 &lt; 3.3, thereforefore reject do not H0 at 5% level'",
      "text/latex": "'F = 2.150 < 3.3, thereforefore reject do not H0 at 5\\% level'",
      "text/plain": "[1] \"F = 2.150 < 3.3, thereforefore reject do not H0 at 5% level\""
     },
     "metadata": {}
    }
   ],
   "source": [
    "fit0 <- lm(DX1 ~ DX1_lag_1 + DX1_lag_2, data=new_data)\n",
    "fit1 <- lm(DX1 ~ DX1_lag_1 + DX1_lag_2 + DX2_lag_1 + DX2_lag_2, data=new_data)\n",
    "\n",
    "rsq_0 <- as.numeric(summary(fit0)$r.squared)\n",
    "rsq_1 <- as.numeric(summary(fit1)$r.squared)\n",
    "n <- nrow(na.omit(new_data))\n",
    "g <- 2 #no. of excluded variables\n",
    "k <- 5 #total number of variables in unrestricted model\n",
    "F <- (rsq_1 - rsq_0) * (n - k) / (1 - rsq_1) / g\n",
    "sprintf(\"F = %.3f < 3.3, thereforefore reject do not H0 at 5%% level\", F)"
   ]
  },
  {
   "cell_type": "code",
   "execution_count": 93,
   "metadata": {},
   "outputs": [
    {
     "output_type": "display_data",
     "data": {
      "text/html": "'F = 20.978 &gt; 3.3, thereforefore reject H0 at 5% level'",
      "text/markdown": "'F = 20.978 &gt; 3.3, thereforefore reject H0 at 5% level'",
      "text/latex": "'F = 20.978 > 3.3, thereforefore reject H0 at 5\\% level'",
      "text/plain": "[1] \"F = 20.978 > 3.3, thereforefore reject H0 at 5% level\""
     },
     "metadata": {}
    }
   ],
   "source": [
    "fit0 <- lm(DX2 ~ DX2_lag_1 + DX2_lag_2, data=new_data)\n",
    "fit1 <- lm(DX2 ~ DX1_lag_1 + DX1_lag_2 + DX2_lag_1 + DX2_lag_2, data=new_data)\n",
    "\n",
    "rsq_0 <- as.numeric(summary(fit0)$r.squared)\n",
    "rsq_1 <- as.numeric(summary(fit1)$r.squared)\n",
    "n <- nrow(na.omit(new_data))\n",
    "g <- 2 #no. of excluded variables\n",
    "k <- 5 #total number of variables in unrestricted model\n",
    "F <- (rsq_1 - rsq_0) * (n - k) / (1 - rsq_1) / g\n",
    "sprintf(\"F = %.3f > 3.3, thereforefore reject H0 at 5%% level\", F)"
   ]
  },
  {
   "source": [
    "$X_1$ is Granger causal to $X_2$ but not the other way around."
   ],
   "cell_type": "markdown",
   "metadata": {}
  },
  {
   "source": [
    "<h3> Part (b)</h3>"
   ],
   "cell_type": "markdown",
   "metadata": {}
  },
  {
   "cell_type": "code",
   "execution_count": 95,
   "metadata": {},
   "outputs": [
    {
     "output_type": "display_data",
     "data": {
      "text/html": "'X1(t-1):'",
      "text/markdown": "'X1(t-1):'",
      "text/latex": "'X1(t-1):'",
      "text/plain": "[1] \"X1(t-1):\""
     },
     "metadata": {}
    },
    {
     "output_type": "display_data",
     "data": {
      "text/html": "'Coefficient = -0.18148'",
      "text/markdown": "'Coefficient = -0.18148'",
      "text/latex": "'Coefficient = -0.18148'",
      "text/plain": "[1] \"Coefficient = -0.18148\""
     },
     "metadata": {}
    },
    {
     "output_type": "display_data",
     "data": {
      "text/html": "'Std. Error = 0.06565'",
      "text/markdown": "'Std. Error = 0.06565'",
      "text/latex": "'Std. Error = 0.06565'",
      "text/plain": "[1] \"Std. Error = 0.06565\""
     },
     "metadata": {}
    },
    {
     "output_type": "display_data",
     "data": {
      "text/html": "'t-value = -2.76438 &gt; -2.9. Do not reject H0. X1 is non stationary.'",
      "text/markdown": "'t-value = -2.76438 &gt; -2.9. Do not reject H0. X1 is non stationary.'",
      "text/latex": "'t-value = -2.76438 > -2.9. Do not reject H0. X1 is non stationary.'",
      "text/plain": "[1] \"t-value = -2.76438 > -2.9. Do not reject H0. X1 is non stationary.\""
     },
     "metadata": {}
    }
   ],
   "source": [
    "fit1 <- lm(DX1 ~ T + X1_lag_1 + DX1_lag_1, data=new_data)\n",
    "sprintf(\"X1(t-1):\")\n",
    "sprintf(\"Coefficient = %.5f\", summary(fit1)$coefficient[3, \"Estimate\"])\n",
    "sprintf(\"Std. Error = %.5f\", summary(fit1)$coefficient[3, \"Std. Error\"])\n",
    "sprintf(\"t-value = %.5f > -2.9. Do not reject H0. X1 is non stationary.\", summary(fit1)$coefficient[3, \"t value\"])\n",
    "# summary(fit1)"
   ]
  },
  {
   "cell_type": "code",
   "execution_count": 96,
   "metadata": {},
   "outputs": [
    {
     "output_type": "display_data",
     "data": {
      "text/html": "'X2(t-1):'",
      "text/markdown": "'X2(t-1):'",
      "text/latex": "'X2(t-1):'",
      "text/plain": "[1] \"X2(t-1):\""
     },
     "metadata": {}
    },
    {
     "output_type": "display_data",
     "data": {
      "text/html": "'Coefficient = -0.15050'",
      "text/markdown": "'Coefficient = -0.15050'",
      "text/latex": "'Coefficient = -0.15050'",
      "text/plain": "[1] \"Coefficient = -0.15050\""
     },
     "metadata": {}
    },
    {
     "output_type": "display_data",
     "data": {
      "text/html": "'Std. Error = 0.12465'",
      "text/markdown": "'Std. Error = 0.12465'",
      "text/latex": "'Std. Error = 0.12465'",
      "text/plain": "[1] \"Std. Error = 0.12465\""
     },
     "metadata": {}
    },
    {
     "output_type": "display_data",
     "data": {
      "text/html": "'t-value = -1.20739 &gt; -2.9. Do not reject H0. X2 is non stationary.'",
      "text/markdown": "'t-value = -1.20739 &gt; -2.9. Do not reject H0. X2 is non stationary.'",
      "text/latex": "'t-value = -1.20739 > -2.9. Do not reject H0. X2 is non stationary.'",
      "text/plain": "[1] \"t-value = -1.20739 > -2.9. Do not reject H0. X2 is non stationary.\""
     },
     "metadata": {}
    }
   ],
   "source": [
    "fit1 <- lm(DX2 ~ T + X2_lag_1 + DX2_lag_1, data=new_data)\n",
    "sprintf(\"X2(t-1):\")\n",
    "sprintf(\"Coefficient = %.5f\", summary(fit1)$coefficient[3, \"Estimate\"])\n",
    "sprintf(\"Std. Error = %.5f\", summary(fit1)$coefficient[3, \"Std. Error\"])\n",
    "sprintf(\"t-value = %.5f > -2.9. Do not reject H0. X2 is non stationary.\", summary(fit1)$coefficient[3, \"t value\"])\n",
    "# summary(fit1)"
   ]
  },
  {
   "source": [
    "<h3> Part (c) </h3>"
   ],
   "cell_type": "markdown",
   "metadata": {}
  },
  {
   "cell_type": "code",
   "execution_count": 68,
   "metadata": {},
   "outputs": [
    {
     "output_type": "display_data",
     "data": {
      "text/html": "'Formula: X2 = 0.01 + 0.92X1'",
      "text/markdown": "'Formula: X2 = 0.01 + 0.92X1'",
      "text/latex": "'Formula: X2 = 0.01 + 0.92X1'",
      "text/plain": "[1] \"Formula: X2 = 0.01 + 0.92X1\""
     },
     "metadata": {}
    }
   ],
   "source": [
    "eg <- lm(X2 ~ X1, data=new_data)\n",
    "sprintf(\"Formula: X2 = %.2f + %.2fX1\", coef(eg)[1], coef(eg)[2])"
   ]
  },
  {
   "cell_type": "code",
   "execution_count": 71,
   "metadata": {},
   "outputs": [],
   "source": [
    "res_data <- data.frame(summary(eg)$residuals)\n",
    "names(res_data)[1] <- \"e\"\n",
    "res_data$De <- c(NA, diff(res_data$e, lag=1))\n",
    "\n",
    "n <- nrow(res_data)\n",
    "res_data$e_lag_1 <- c(c(rep(NA, 1)), res_data$e[-((n-0):n)])\n",
    "res_data$De_lag_1 <- c(c(rep(NA, 1)), res_data$De[-((n-0):n)])"
   ]
  },
  {
   "cell_type": "code",
   "execution_count": 73,
   "metadata": {},
   "outputs": [
    {
     "output_type": "display_data",
     "data": {
      "text/html": "'Formula: De = -0.00 + -0.50e_lag_1 + 0.30De_lag_1'",
      "text/markdown": "'Formula: De = -0.00 + -0.50e_lag_1 + 0.30De_lag_1'",
      "text/latex": "'Formula: De = -0.00 + -0.50e\\_lag\\_1 + 0.30De\\_lag\\_1'",
      "text/plain": "[1] \"Formula: De = -0.00 + -0.50e_lag_1 + 0.30De_lag_1\""
     },
     "metadata": {}
    },
    {
     "output_type": "display_data",
     "data": {
      "text/html": "'t-value = -3.50460 &lt; -3.4. Reject H0. X1 and X2 are cointegrated.'",
      "text/markdown": "'t-value = -3.50460 &lt; -3.4. Reject H0. X1 and X2 are cointegrated.'",
      "text/latex": "'t-value = -3.50460 < -3.4. Reject H0. X1 and X2 are cointegrated.'",
      "text/plain": "[1] \"t-value = -3.50460 < -3.4. Reject H0. X1 and X2 are cointegrated.\""
     },
     "metadata": {}
    }
   ],
   "source": [
    "res_fit <- lm(De ~ e_lag_1 + De_lag_1, data=res_data)\n",
    "sprintf(\"Formula: De = %.2f + %.2fe_lag_1 + %.2fDe_lag_1\", coef(res_fit)[1], coef(res_fit)[2], coef(res_fit)[3])\n",
    "sprintf(\"t-value = %.5f < -3.4. Reject H0. X1 and X2 are cointegrated.\", summary(res_fit)$coefficient[2, \"t value\"])"
   ]
  },
  {
   "source": [
    "<h3> Part (d)</h3>\n"
   ],
   "cell_type": "markdown",
   "metadata": {}
  },
  {
   "cell_type": "code",
   "execution_count": 97,
   "metadata": {},
   "outputs": [],
   "source": [
    "ECM_data <- new_data\n",
    "ECM_data$EQ <- ECM_data$X2_lag_1 - coef(eg)[2]*ECM_data$X1_lag_1"
   ]
  },
  {
   "cell_type": "code",
   "execution_count": 100,
   "metadata": {},
   "outputs": [
    {
     "output_type": "display_data",
     "data": {
      "text/html": "'Formula: DX1 = -0.00 + 0.46(X2_lag_1 - 0.92X1_lag_1) + 1.02DX1_lag_1'",
      "text/markdown": "'Formula: DX1 = -0.00 + 0.46(X2_lag_1 - 0.92X1_lag_1) + 1.02DX1_lag_1'",
      "text/latex": "'Formula: DX1 = -0.00 + 0.46(X2\\_lag\\_1 - 0.92X1\\_lag\\_1) + 1.02DX1\\_lag\\_1'",
      "text/plain": "[1] \"Formula: DX1 = -0.00 + 0.46(X2_lag_1 - 0.92X1_lag_1) + 1.02DX1_lag_1\""
     },
     "metadata": {}
    }
   ],
   "source": [
    "ECM_fit1 <- lm(DX1 ~ EQ + DX1_lag_1, data=ECM_data)\n",
    "sprintf(\"Formula: DX1 = %.2f + %.2f(X2_lag_1 - 0.92X1_lag_1) + %.2fDX1_lag_1\", coef(ECM_fit1)[1], coef(ECM_fit1)[2], coef(ECM_fit1)[3])"
   ]
  },
  {
   "source": [
    "If X2(t-1) is too large compared to equilibrium, X2(t-1) - 0.92 X1(t-1) > 0, then DX1 > 0 and hence X1 increases, readuing the gap from equilibrium."
   ],
   "cell_type": "markdown",
   "metadata": {}
  },
  {
   "cell_type": "code",
   "execution_count": 102,
   "metadata": {},
   "outputs": [
    {
     "output_type": "display_data",
     "data": {
      "text/html": "'Formula: DX2 = 0.02 - 0.44(X2_lag_1 - 0.92X2_lag_1) + 0.06DX2_lag_1'",
      "text/markdown": "'Formula: DX2 = 0.02 - 0.44(X2_lag_1 - 0.92X2_lag_1) + 0.06DX2_lag_1'",
      "text/latex": "'Formula: DX2 = 0.02 - 0.44(X2\\_lag\\_1 - 0.92X2\\_lag\\_1) + 0.06DX2\\_lag\\_1'",
      "text/plain": "[1] \"Formula: DX2 = 0.02 - 0.44(X2_lag_1 - 0.92X2_lag_1) + 0.06DX2_lag_1\""
     },
     "metadata": {}
    }
   ],
   "source": [
    "ECM_fit2 <- lm(DX2 ~ EQ + DX2_lag_1, data=ECM_data)\n",
    "sprintf(\"Formula: DX2 = %.2f - %.2f(X2_lag_1 - 0.92X2_lag_1) + %.2fDX2_lag_1\", coef(ECM_fit2)[1], -1*coef(ECM_fit2)[2], coef(ECM_fit2)[3])"
   ]
  },
  {
   "source": [
    "If X2(t-1) is too large compared to equilibrium, X2(t-1) - 0.92 X1(t-1) > 0, then DX2 < 0 (or more accurately, the adjustment term will have downward pressure on DX2) and hence X2 decreases, reducing the gap from equilibrium."
   ],
   "cell_type": "markdown",
   "metadata": {}
  },
  {
   "cell_type": "code",
   "execution_count": null,
   "metadata": {},
   "outputs": [],
   "source": []
  }
 ]
}