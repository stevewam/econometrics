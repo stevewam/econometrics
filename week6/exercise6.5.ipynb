{
 "metadata": {
  "language_info": {
   "name": "R",
   "codemirror_mode": "r",
   "pygments_lexer": "r",
   "mimetype": "text/x-r-source",
   "file_extension": ".r",
   "version": "4.1.0"
  },
  "orig_nbformat": 4,
  "kernelspec": {
   "name": "ir",
   "display_name": "R",
   "language": "R"
  }
 },
 "nbformat": 4,
 "nbformat_minor": 2,
 "cells": [
  {
   "cell_type": "markdown",
   "source": [
    "<h1> Exercise 6.5"
   ],
   "metadata": {}
  },
  {
   "cell_type": "code",
   "execution_count": 109,
   "source": [
    "data <- read.csv(\"./data/TrainExer65.csv\")\r\n",
    "names(data[[] 1 - \"YERA\n",
    "\n",
    "n <- nrow(data)\n",
    "\n",
    "data$T <- data$YEAR - 1960\n",
    "\n",
    "data$GIP_l1 <- c(c(rep(NA, 1)), data$GIP[-((n-0):n)])\n",
    "data$GIP_l2 <- c(c(rep(NA, 2)), data$GIP[-((n-1):n)])\n",
    "data$GCLI_l1 <- c(c(rep(NA, 1)), data$GCLI[-((n-0):n)])\n",
    "data$GCLI_l2 <- c(c(rep(NA, 2)), data$GCLI[-((n-1):n)])\n",
    "\n",
    "data$LOGIP_l1 <- c(c(rep(NA, 1)), data$LOGIP[-((n-0):n)])\n",
    "data$LOGIP_l2 <- c(c(rep(NA, 2)), data$LOGIP[-((n-1):n)])\n",
    "data$LOGCLI_l1 <- c(c(rep(NA, 1)), data$LOGCLI[-((n-0):n)])\n",
    "data$LOGCLI_l2 <- c(c(rep(NA, 2)), data$LOGCLI[-((n-1):n)])\n",
    "\n",
    "\"\n",
    "train <- data[data$YEAR <= 2002,]\n",
    "test <- data(data$YEAR>= 200),]\""
   ],
   "outputs": [],
   "metadata": {}
  },
  {
   "cell_type": "code",
   "execution_count": 17,
   "source": [
    "summary(data)"
   ],
   "outputs": [
    {
     "output_type": "display_data",
     "data": {
      "text/plain": "      YEAR          LOGIP           LOGCLI           GIP          \n Min.   :1960   Min.   :3.207   Min.   :3.437   Min.   :-0.08781  \n 1st Qu.:1972   1st Qu.:3.831   1st Qu.:3.784   1st Qu.: 0.01024  \n Median :1984   Median :4.088   Median :3.961   Median : 0.03364  \n Mean   :1984   Mean   :4.101   Mean   :4.045   Mean   : 0.03024  \n 3rd Qu.:1995   3rd Qu.:4.417   3rd Qu.:4.309   3rd Qu.: 0.05952  \n Max.   :2007   Max.   :4.722   Max.   :4.648   Max.   : 0.11804  \n                                                                  \n      GCLI                T             GIP_l1             GIP_l2         \n Min.   :-0.15773   Min.   : 0.00   Min.   :-0.08781   Min.   :-0.087810  \n 1st Qu.:-0.01309   1st Qu.:11.75   1st Qu.: 0.00998   1st Qu.: 0.009718  \n Median : 0.03483   Median :23.50   Median : 0.03399   Median : 0.034003  \n Mean   : 0.02454   Mean   :23.50   Mean   : 0.03045   Mean   : 0.030833  \n 3rd Qu.: 0.05290   3rd Qu.:35.25   3rd Qu.: 0.06082   3rd Qu.: 0.062116  \n Max.   : 0.11464   Max.   :47.00   Max.   : 0.11804   Max.   : 0.118039  \n                                    NA's   :1          NA's   :2          \n    GCLI_l1             GCLI_l2             LOGIP_l1        LOGIP_l2    \n Min.   :-0.157734   Min.   :-0.157734   Min.   :3.207   Min.   :3.207  \n 1st Qu.:-0.006329   1st Qu.:-0.009494   1st Qu.:3.814   1st Qu.:3.796  \n Median : 0.037288   Median : 0.038890   Median :4.064   Median :4.062  \n Mean   : 0.025427   Mean   : 0.025938   Mean   :4.087   Mean   :4.074  \n 3rd Qu.: 0.053583   3rd Qu.: 0.054271   3rd Qu.:4.389   3rd Qu.:4.359  \n Max.   : 0.114645   Max.   : 0.114645   Max.   :4.702   Max.   :4.689  \n NA's   :1           NA's   :2           NA's   :1       NA's   :2      \n   LOGCLI_l1       LOGCLI_l2    \n Min.   :3.437   Min.   :3.437  \n 1st Qu.:3.784   1st Qu.:3.784  \n Median :3.945   Median :3.933  \n Mean   :4.033   Mean   :4.019  \n 3rd Qu.:4.296   3rd Qu.:4.280  \n Max.   :4.648   Max.   :4.646  \n NA's   :1       NA's   :2      "
     },
     "metadata": {}
    }
   ],
   "metadata": {}
  },
  {
   "cell_type": "markdown",
   "source": [
    "<h3> Part (a)<h3> \n",
    "\n",
    "Graph of growth are rather stationary."
   ],
   "metadata": {}
  },
  {
   "cell_type": "code",
   "execution_count": 20,
   "metadata": {},
   "outputs": [
    {
     "output_type": "display_data",
     "data": {
      "text/plain": "plot without title",
      "image/png": "[encoded data removed]"
     },
     "metadata": {
      "image/png": {
       "width": 420,
       "height": 420
      }
     }
    }
   ],
   "source": [
    "attach(mtcars)\n",
    "par(mfrow=c(2,2))\n",
    "plot(data$LOGIP)\n",
    "plot(data$LOGCLI)\n",
    "plot(data$GIP)\n",
    "plot(data$GCLI)"
   ]
  },
  {
   "source": [
    "<h3> Part (b)</h3>"
   ],
   "cell_type": "markdown",
   "metadata": {}
  },
  {
   "cell_type": "code",
   "execution_count": 90,
   "metadata": {},
   "outputs": [
    {
     "output_type": "display_data",
     "data": {
      "text/html": "'LOGIP:'",
      "text/markdown": "'LOGIP:'",
      "text/latex": "'LOGIP:'",
      "text/plain": "[1] \"LOGIP:\""
     },
     "metadata": {}
    },
    {
     "output_type": "display_data",
     "data": {
      "text/html": "'Coefficient = -0.27521'",
      "text/markdown": "'Coefficient = -0.27521'",
      "text/latex": "'Coefficient = -0.27521'",
      "text/plain": "[1] \"Coefficient = -0.27521\""
     },
     "metadata": {}
    },
    {
     "output_type": "display_data",
     "data": {
      "text/html": "'Std. Error = 0.10169'",
      "text/markdown": "'Std. Error = 0.10169'",
      "text/latex": "'Std. Error = 0.10169'",
      "text/plain": "[1] \"Std. Error = 0.10169\""
     },
     "metadata": {}
    },
    {
     "output_type": "display_data",
     "data": {
      "text/html": "'t-value = -2.70638 &gt; -3.5. Do not reject H0. LOGIP is non stationary.'",
      "text/markdown": "'t-value = -2.70638 &gt; -3.5. Do not reject H0. LOGIP is non stationary.'",
      "text/latex": "'t-value = -2.70638 > -3.5. Do not reject H0. LOGIP is non stationary.'",
      "text/plain": "[1] \"t-value = -2.70638 > -3.5. Do not reject H0. LOGIP is non stationary.\""
     },
     "metadata": {}
    }
   ],
   "source": [
    "LOGIP_ADF <- lm(GIP ~ T + LOGIP_l1 + GIP_l1 + GIP_l2, data=train)\n",
    "sprintf(\"LOGIP:\")\n",
    "sprintf(\"Coefficient = %.5f\", summary(LOGIP_ADF)$coefficient[3, \"Estimate\"])\n",
    "sprintf(\"Std. Error = %.5f\", summary(LOGIP_ADF)$coefficient[3, \"Std. Error\"])\n",
    "sprintf(\"t-value = %.5f > -3.5. Do not reject H0. LOGIP is non stationary.\", summary(LOGIP_ADF)$coefficient[3, \"t value\"])\n",
    "# summary(LOGIP_ADF)"
   ]
  },
  {
   "cell_type": "code",
   "execution_count": 92,
   "metadata": {},
   "outputs": [
    {
     "output_type": "display_data",
     "data": {
      "text/html": "'LOGCLI:'",
      "text/markdown": "'LOGCLI:'",
      "text/latex": "'LOGCLI:'",
      "text/plain": "[1] \"LOGCLI:\""
     },
     "metadata": {}
    },
    {
     "output_type": "display_data",
     "data": {
      "text/html": "'Coefficient = -0.24051'",
      "text/markdown": "'Coefficient = -0.24051'",
      "text/latex": "'Coefficient = -0.24051'",
      "text/plain": "[1] \"Coefficient = -0.24051\""
     },
     "metadata": {}
    },
    {
     "output_type": "display_data",
     "data": {
      "text/html": "'Std. Error = 0.12759'",
      "text/markdown": "'Std. Error = 0.12759'",
      "text/latex": "'Std. Error = 0.12759'",
      "text/plain": "[1] \"Std. Error = 0.12759\""
     },
     "metadata": {}
    },
    {
     "output_type": "display_data",
     "data": {
      "text/html": "'t-value = -1.88504 &gt; -3.5. Do not reject H0. LOGCLI is non stationary.'",
      "text/markdown": "'t-value = -1.88504 &gt; -3.5. Do not reject H0. LOGCLI is non stationary.'",
      "text/latex": "'t-value = -1.88504 > -3.5. Do not reject H0. LOGCLI is non stationary.'",
      "text/plain": "[1] \"t-value = -1.88504 > -3.5. Do not reject H0. LOGCLI is non stationary.\""
     },
     "metadata": {}
    }
   ],
   "source": [
    "LOGCLI <- lm(GCLI ~ T + LOGCLI_l1 + GCLI_l1 + GCLI_l2, data=train)\n",
    "sprintf(\"LOGCLI:\")\n",
    "sprintf(\"Coefficient = %.5f\", summary(LOGCLI)$coefficient[3, \"Estimate\"])\n",
    "sprintf(\"Std. Error = %.5f\", summary(LOGCLI)$coefficient[3, \"Std. Error\"])\n",
    "sprintf(\"t-value = %.5f > -3.5. Do not reject H0. LOGCLI is non stationary.\", summary(LOGCLI)$coefficient[3, \"t value\"])\n",
    "# summary(LOGCLI)"
   ]
  },
  {
   "source": [
    "<h3> Part (c) </h3>"
   ],
   "cell_type": "markdown",
   "metadata": {}
  },
  {
   "cell_type": "code",
   "execution_count": 27,
   "metadata": {},
   "outputs": [
    {
     "output_type": "display_data",
     "data": {
      "text/html": "'Formula: LOGIP = -1.02 + 1.27LOGCLI'",
      "text/markdown": "'Formula: LOGIP = -1.02 + 1.27LOGCLI'",
      "text/latex": "'Formula: LOGIP = -1.02 + 1.27LOGCLI'",
      "text/plain": "[1] \"Formula: LOGIP = -1.02 + 1.27LOGCLI\""
     },
     "metadata": {}
    }
   ],
   "source": [
    "eg <- lm(LOGIP ~ LOGCLI, data=train)\n",
    "sprintf(\"Formula: LOGIP = %.2f + %.2fLOGCLI\", coef(eg)[1], coef(eg)[2])"
   ]
  },
  {
   "cell_type": "code",
   "execution_count": 33,
   "metadata": {},
   "outputs": [],
   "source": [
    "res_data <- train\n",
    "res_data$e <- summary(eg)$residuals\n",
    "res_data$De <- c(NA, diff(res_data$e, lag=1))\n",
    "\n",
    "n <- nrow(res_data)\n",
    "res_data$e_l1 <- c(c(rep(NA, 1)), res_data$e[-((n-0):n)])\n",
    "res_data$De_l1 <- c(c(rep(NA, 1)), res_data$De[-((n-0):n)])\n",
    "res_data$De_l2 <- c(c(rep(NA, 2)), res_data$De[-((n-1):n)])"
   ]
  },
  {
   "cell_type": "code",
   "execution_count": 95,
   "metadata": {},
   "outputs": [
    {
     "output_type": "display_data",
     "data": {
      "text/html": "'Formula: De = 0.02 - 0.00T - 0.18e_l1 + 0.14De_l1 - 0.32De_l2'",
      "text/markdown": "'Formula: De = 0.02 - 0.00T - 0.18e_l1 + 0.14De_l1 - 0.32De_l2'",
      "text/latex": "'Formula: De = 0.02 - 0.00T - 0.18e\\_l1 + 0.14De\\_l1 - 0.32De\\_l2'",
      "text/plain": "[1] \"Formula: De = 0.02 - 0.00T - 0.18e_l1 + 0.14De_l1 - 0.32De_l2\""
     },
     "metadata": {}
    },
    {
     "output_type": "display_data",
     "data": {
      "text/html": "'t-value = -1.75742 &gt; -3.8. Reject H0. LOGIP and LOGCLI are not cointegrated.'",
      "text/markdown": "'t-value = -1.75742 &gt; -3.8. Reject H0. LOGIP and LOGCLI are not cointegrated.'",
      "text/latex": "'t-value = -1.75742 > -3.8. Reject H0. LOGIP and LOGCLI are not cointegrated.'",
      "text/plain": "[1] \"t-value = -1.75742 > -3.8. Reject H0. LOGIP and LOGCLI are not cointegrated.\""
     },
     "metadata": {}
    }
   ],
   "source": [
    "res_fit <- lm(De ~ T + e_l1 + De_l1 + De_l2, data=res_data)\n",
    "sprintf(\"Formula: De = %.2f - %.2fT - %.2fe_l1 + %.2fDe_l1 - %.2fDe_l2\", coef(res_fit)[1], -1*coef(res_fit)[2], -1*coef(res_fit)[3], coef(res_fit)[4], -1*coef(res_fit)[5])\n",
    "sprintf(\"t-value = %.5f > -3.8. Reject H0. LOGIP and LOGCLI are not cointegrated.\", summary(res_fit)$coefficient[3, \"t value\"])"
   ]
  },
  {
   "source": [
    "<h3> Part (d)</h3>\n",
    "\n",
    "CLI is a Granger causal for IP, but not the other way around"
   ],
   "cell_type": "markdown",
   "metadata": {}
  },
  {
   "cell_type": "code",
   "execution_count": 37,
   "metadata": {},
   "outputs": [
    {
     "output_type": "display_data",
     "data": {
      "text/html": "'F = 11.747 &gt; 3.3, therefore reject H0 at 5% level'",
      "text/markdown": "'F = 11.747 &gt; 3.3, therefore reject H0 at 5% level'",
      "text/latex": "'F = 11.747 > 3.3, therefore reject H0 at 5\\% level'",
      "text/plain": "[1] \"F = 11.747 > 3.3, therefore reject H0 at 5% level\""
     },
     "metadata": {}
    }
   ],
   "source": [
    "fit0 <- lm(GIP ~ GIP_l1 + GIP_l2, data=train)\n",
    "fit1 <- lm(GIP ~ GIP_l1 + GIP_l2 + GCLI_l1 + GCLI_l2, data=train)\n",
    "\n",
    "rsq_0 <- as.numeric(summary(fit0)$r.squared)\n",
    "rsq_1 <- as.numeric(summary(fit1)$r.squared)\n",
    "n <- nrow(na.omit(train))\n",
    "g <- 2 #no. of excluded variables\n",
    "k <- 5 #total number of variables in unrestricted model\n",
    "F <- (rsq_1 - rsq_0) * (n - k) / (1 - rsq_1) / g\n",
    "sprintf(\"F = %.3f > 3.3, therefore reject H0 at 5%% level\", F)"
   ]
  },
  {
   "cell_type": "code",
   "execution_count": 96,
   "metadata": {},
   "outputs": [
    {
     "output_type": "display_data",
     "data": {
      "text/html": "'F = 2.670 &lt; 3.3, therefore do not reject H0 at 5% level'",
      "text/markdown": "'F = 2.670 &lt; 3.3, therefore do not reject H0 at 5% level'",
      "text/latex": "'F = 2.670 < 3.3, therefore do not reject H0 at 5\\% level'",
      "text/plain": "[1] \"F = 2.670 < 3.3, therefore do not reject H0 at 5% level\""
     },
     "metadata": {}
    }
   ],
   "source": [
    "fit0 <- lm(GCLI ~ GCLI_l1 + GCLI_l2, data=train)\n",
    "fit1 <- lm(GCLI ~ GIP_l1 + GIP_l2 + GCLI_l1 + GCLI_l2, data=train)\n",
    "\n",
    "rsq_0 <- as.numeric(summary(fit0)$r.squared)\n",
    "rsq_1 <- as.numeric(summary(fit1)$r.squared)\n",
    "n <- nrow(na.omit(train))\n",
    "g <- 2 #no. of excluded variables\n",
    "k <- 5 #total number of variables in unrestricted model\n",
    "F <- (rsq_1 - rsq_0) * (n - k) / (1 - rsq_1) / g\n",
    "sprintf(\"F = %.3f < 3.3, therefore do not reject H0 at 5%% level\", F)"
   ]
  },
  {
   "source": [
    "<h3> Part (e) </h3>"
   ],
   "cell_type": "markdown",
   "metadata": {}
  },
  {
   "cell_type": "code",
   "execution_count": 43,
   "metadata": {},
   "outputs": [
    {
     "output_type": "stream",
     "name": "stdout",
     "text": [
      "         Estimate Std. Error   t value  Pr(>|t|)\nGIP_l1  0.2471812  0.1471256  1.680069 0.1011481\nGIP_l2 -0.2352772  0.1459270 -1.612294 0.1151737\n"
     ]
    }
   ],
   "source": [
    "GIP_AR1 <- lm(GIP ~ GIP_l1 + GIP_l2, data=train)\n",
    "print(summary(GIP_AR1)$coefficients[(2:3),])"
   ]
  },
  {
   "cell_type": "code",
   "execution_count": 44,
   "metadata": {},
   "outputs": [
    {
     "output_type": "stream",
     "name": "stdout",
     "text": [
      "  Estimate Std. Error    t value   Pr(>|t|) \n 0.1122896  0.1492782  0.7522168  0.4563246 \n"
     ]
    }
   ],
   "source": [
    "GIP_AR2 <- lm(GIP ~ GIP_l1, data=train)\n",
    "print(summary(GIP_AR2)$coefficients[2,])"
   ]
  },
  {
   "cell_type": "code",
   "execution_count": 98,
   "metadata": {},
   "outputs": [
    {
     "output_type": "stream",
     "name": "stdout",
     "text": [
      "    Estimate   Std. Error      t value     Pr(>|t|) \n0.0311177907 0.0072671014 4.2820085864 0.0001052546 \n"
     ]
    }
   ],
   "source": [
    "GIP_simple <- lm(GIP ~ 1, data=train)\n",
    "print(summary(GIP_simple)$coefficients[1,])"
   ]
  },
  {
   "cell_type": "code",
   "execution_count": 115,
   "metadata": {},
   "outputs": [],
   "source": [
    "result <- test[,c(\"YEAR\",\"GIP\")]"
   ]
  },
  {
   "cell_type": "code",
   "execution_count": 116,
   "metadata": {},
   "outputs": [],
   "source": [
    "result$GIP_AR1 <- predict(GIP_AR1, newdata=test)\n",
    "result$GIP_simple <- predict(GIP_simple, newdata=test)"
   ]
  },
  {
   "source": [
    "<h3> Part (f) </h3>"
   ],
   "cell_type": "markdown",
   "metadata": {}
  },
  {
   "cell_type": "code",
   "execution_count": 134,
   "metadata": {},
   "outputs": [
    {
     "output_type": "display_data",
     "data": {
      "text/html": "'F = 3.257 &lt; 3.3, therefore do not reject H0 at 5% level'",
      "text/markdown": "'F = 3.257 &lt; 3.3, therefore do not reject H0 at 5% level'",
      "text/latex": "'F = 3.257 < 3.3, therefore do not reject H0 at 5\\% level'",
      "text/plain": "[1] \"F = 3.257 < 3.3, therefore do not reject H0 at 5% level\""
     },
     "metadata": {}
    }
   ],
   "source": [
    "fit0 <- lm(GIP ~ GCLI_l1, data=train)\n",
    "fit1 <- lm(GIP ~ GIP_l1 + GIP_l2 + GCLI_l1 + GCLI_l2, data=train)\n",
    "\n",
    "rsq_0 <- as.numeric(summary(fit0)$r.squared)\n",
    "rsq_1 <- as.numeric(summary(fit1)$r.squared)\n",
    "n <- nrow(na.omit(train))\n",
    "g <- 3 #no. of excluded variables\n",
    "k <- 5 #total number of variables in unrestricted model\n",
    "F <- (rsq_1 - rsq_0) * (n - k) / (1 - rsq_1) / g\n",
    "sprintf(\"F = %.3f < 3.3, therefore do not reject H0 at 5%% level\", F)"
   ]
  },
  {
   "cell_type": "code",
   "execution_count": 117,
   "metadata": {},
   "outputs": [],
   "source": [
    "GIP_ADL01 <- fit0\n",
    "result$GIP_ADL01 <- predict(GIP_ADL01, newdata=test)"
   ]
  },
  {
   "source": [
    "<h3> Part (g) </h3>"
   ],
   "cell_type": "markdown",
   "metadata": {}
  },
  {
   "cell_type": "code",
   "execution_count": 118,
   "metadata": {},
   "outputs": [],
   "source": [
    "result_error <- result\n",
    "result_error$GIP_AR1 <- result_error$GIP_AR1 - result_error$GIP\n",
    "result_error$GIP_simple <- result_error$GIP_simple - result_error$GIP\n",
    "result_error$GIP_ADL01 <- result_error$GIP_ADL01 - result_error$GIP"
   ]
  },
  {
   "cell_type": "code",
   "execution_count": 119,
   "metadata": {},
   "outputs": [
    {
     "output_type": "display_data",
     "data": {
      "text/html": "<table class=\"dataframe\">\n<caption>A data.frame: 5 × 5</caption>\n<thead>\n\t<tr><th></th><th scope=col>YEAR</th><th scope=col>GIP</th><th scope=col>GIP_AR1</th><th scope=col>GIP_simple</th><th scope=col>GIP_ADL01</th></tr>\n\t<tr><th></th><th scope=col>&lt;int&gt;</th><th scope=col>&lt;dbl&gt;</th><th scope=col>&lt;dbl&gt;</th><th scope=col>&lt;dbl&gt;</th><th scope=col>&lt;dbl&gt;</th></tr>\n</thead>\n<tbody>\n\t<tr><th scope=row>44</th><td>2003</td><td>0.019133</td><td> 0.031232197</td><td> 0.011984791</td><td>0.023710402</td></tr>\n\t<tr><th scope=row>45</th><td>2004</td><td>0.033286</td><td>-0.003712414</td><td>-0.002168209</td><td>0.021027444</td></tr>\n\t<tr><th scope=row>46</th><td>2005</td><td>0.027847</td><td> 0.006744125</td><td> 0.003270791</td><td>0.018418046</td></tr>\n\t<tr><th scope=row>47</th><td>2006</td><td>0.012880</td><td> 0.017036829</td><td> 0.018237791</td><td>0.019234567</td></tr>\n\t<tr><th scope=row>48</th><td>2007</td><td>0.020368</td><td> 0.007128941</td><td> 0.010749791</td><td>0.002571951</td></tr>\n</tbody>\n</table>\n",
      "text/markdown": "\nA data.frame: 5 × 5\n\n| <!--/--> | YEAR &lt;int&gt; | GIP &lt;dbl&gt; | GIP_AR1 &lt;dbl&gt; | GIP_simple &lt;dbl&gt; | GIP_ADL01 &lt;dbl&gt; |\n|---|---|---|---|---|---|\n| 44 | 2003 | 0.019133 |  0.031232197 |  0.011984791 | 0.023710402 |\n| 45 | 2004 | 0.033286 | -0.003712414 | -0.002168209 | 0.021027444 |\n| 46 | 2005 | 0.027847 |  0.006744125 |  0.003270791 | 0.018418046 |\n| 47 | 2006 | 0.012880 |  0.017036829 |  0.018237791 | 0.019234567 |\n| 48 | 2007 | 0.020368 |  0.007128941 |  0.010749791 | 0.002571951 |\n\n",
      "text/latex": "A data.frame: 5 × 5\n\\begin{tabular}{r|lllll}\n  & YEAR & GIP & GIP\\_AR1 & GIP\\_simple & GIP\\_ADL01\\\\\n  & <int> & <dbl> & <dbl> & <dbl> & <dbl>\\\\\n\\hline\n\t44 & 2003 & 0.019133 &  0.031232197 &  0.011984791 & 0.023710402\\\\\n\t45 & 2004 & 0.033286 & -0.003712414 & -0.002168209 & 0.021027444\\\\\n\t46 & 2005 & 0.027847 &  0.006744125 &  0.003270791 & 0.018418046\\\\\n\t47 & 2006 & 0.012880 &  0.017036829 &  0.018237791 & 0.019234567\\\\\n\t48 & 2007 & 0.020368 &  0.007128941 &  0.010749791 & 0.002571951\\\\\n\\end{tabular}\n",
      "text/plain": "   YEAR GIP      GIP_AR1      GIP_simple   GIP_ADL01  \n44 2003 0.019133  0.031232197  0.011984791 0.023710402\n45 2004 0.033286 -0.003712414 -0.002168209 0.021027444\n46 2005 0.027847  0.006744125  0.003270791 0.018418046\n47 2006 0.012880  0.017036829  0.018237791 0.019234567\n48 2007 0.020368  0.007128941  0.010749791 0.002571951"
     },
     "metadata": {}
    }
   ],
   "source": [
    "result_error"
   ]
  },
  {
   "cell_type": "code",
   "execution_count": 130,
   "metadata": {},
   "outputs": [
    {
     "output_type": "stream",
     "name": "stdout",
     "text": [
      "[1] \"GIP_simple\"\n[1] \"RMSE = 0.01102\"\n[1] \"MAE = 0.00928\"\n[1] \"SUM = 0.04207\"\n[1] \"\"\n[1] \"GIP_AR1\"\n[1] \"RMSE = 0.01659\"\n[1] \"MAE = 0.01317\"\n[1] \"SUM = 0.05843\"\n[1] \"\"\n[1] \"GIP_ADL01\"\n[1] \"RMSE = 0.01855\"\n[1] \"MAE = 0.01699\"\n[1] \"SUM = 0.08496\"\n[1] \"\"\n"
     ]
    }
   ],
   "source": [
    "n <- nrow(result_error)\n",
    "\n",
    "for (col in c(\"GIP_simple\", \"GIP_AR1\", \"GIP_ADL01\")){\n",
    "    values <- result_error[, col]\n",
    "    print(col)\n",
    "    print(eval(sprintf(\"RMSE = %.5f\", sqrt(1/n*sum(values**2)))))\n",
    "    print(eval(sprintf(\"MAE = %.5f\", 1/n*sum(abs(values)))))\n",
    "    print(eval(sprintf(\"SUM = %.5f\", sum(values))))\n",
    "    print(\"\")\n",
    "}"
   ]
  },
  {
   "source": [
    "Best prediction for 2003 onwards is the simple model. This means data from before 2003 are not useful to predict for data 2003 onwards. There might be a fundamental change in the relationship between IP and CLI during this break."
   ],
   "cell_type": "markdown",
   "metadata": {}
  },
  {
   "cell_type": "code",
   "execution_count": null,
   "metadata": {},
   "outputs": [],
   "source": []
  }
 ]
}