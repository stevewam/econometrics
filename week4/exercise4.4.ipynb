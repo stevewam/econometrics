{
 "metadata": {
  "language_info": {
   "name": "R",
   "codemirror_mode": "r",
   "pygments_lexer": "r",
   "mimetype": "text/x-r-source",
   "file_extension": ".r",
   "version": "4.1.0"
  },
  "orig_nbformat": 4,
  "kernelspec": {
   "name": "ir",
   "display_name": "R",
   "language": "R"
  }
 },
 "nbformat": 4,
 "nbformat_minor": 2,
 "cells": [
  {
   "cell_type": "markdown",
   "source": [
    "<h1> Exercise 4.4"
   ],
   "metadata": {}
  },
  {
   "cell_type": "code",
   "execution_count": 2,
   "metadata": {},
   "outputs": [],
   "source": [
    "library(ivreg)"
   ]
  },
  {
   "cell_type": "code",
   "execution_count": 5,
   "source": [
    "data <- read.csv(\"./data/TrainExer44.csv\")\r\n",
    "names(data)[1]<-< \"OBS\""
   ],
   "outputs": [],
   "metadata": {}
  },
  {
   "cell_type": "code",
   "execution_count": 6,
   "source": [
    "summary(data)"
   ],
   "outputs": [
    {
     "output_type": "display_data",
     "data": {
      "text/plain": "      OBS             GC              PG                 RI       \n Min.   :1970   Min.   :6.634   Min.   :-0.37973   Min.   :2.943  \n 1st Qu.:1977   1st Qu.:6.742   1st Qu.:-0.19088   1st Qu.:3.174  \n Median :1984   Median :6.851   Median :-0.12693   Median :3.341  \n Mean   :1984   Mean   :6.921   Mean   :-0.04809   Mean   :3.332  \n 3rd Qu.:1992   3rd Qu.:7.054   3rd Qu.: 0.06909   3rd Qu.:3.515  \n Max.   :1999   Max.   :7.301   Max.   : 0.39773   Max.   :3.685  \n      RPN                 RPT                RPU          \n Min.   :-0.176815   Min.   :-0.27945   Min.   :-0.29515  \n 1st Qu.:-0.085284   1st Qu.:-0.10826   1st Qu.:-0.18228  \n Median : 0.005886   Median : 0.02189   Median :-0.09707  \n Mean   : 0.032685   Mean   :-0.01038   Mean   :-0.10364  \n 3rd Qu.: 0.150454   3rd Qu.: 0.08865   3rd Qu.:-0.01417  \n Max.   : 0.311872   Max.   : 0.17116   Max.   : 0.07952  "
     },
     "metadata": {}
    }
   ],
   "metadata": {}
  },
  {
   "cell_type": "markdown",
   "source": [
    "<h3> Part (a)<h3> \n",
    "\n",
    "It might be due to 2 factors:<br><br>\n",
    "(1) strategic behaviour: gasoline producer might increase their price if they the demand for gasoline is high. As such, the price of gasoline and demand for gasoline is related to a hidden variable (for instance, exceptional event such as gasoline shortage) which is captured in epsilon. Hence, price of gasoline might be correlated to epsilon.<br><br>\n",
    "(2) omitted variables: price of gasoline might be correlated to excluded explanatory variables such as RPT, RPN and RPU. These excluded variables, if relevant in the true model, are captured in epsilon. Hence, price of gasoline might be correlated to epsilon."
   ],
   "metadata": {}
  },
  {
   "source": [
    "<h3> Part (b) </h3>"
   ],
   "cell_type": "markdown",
   "metadata": {}
  },
  {
   "cell_type": "code",
   "execution_count": 7,
   "metadata": {},
   "outputs": [],
   "source": [
    "OLS1 <- lm(PG ~ RI + RPT + RPN + RPU, data=data)"
   ]
  },
  {
   "cell_type": "code",
   "execution_count": 8,
   "metadata": {},
   "outputs": [],
   "source": [
    "X_hat <- predict(OLS1)\n",
    "combined_data <- cbind(data, X_hat) "
   ]
  },
  {
   "cell_type": "code",
   "execution_count": 9,
   "metadata": {},
   "outputs": [
    {
     "output_type": "display_data",
     "data": {
      "text/html": "'Beta2 = -0.544'",
      "text/markdown": "'Beta2 = -0.544'",
      "text/latex": "'Beta2 = -0.544'",
      "text/plain": "[1] \"Beta2 = -0.544\""
     },
     "metadata": {}
    }
   ],
   "source": [
    "OLS2 <- lm(GC ~ X_hat + RI, data=combined_data)\n",
    "# summary(OLS2)\n",
    "sprintf(\"Beta2 = %.3f\", coef(OLS2)[2])"
   ]
  },
  {
   "source": [
    "<h3> Part (c) </h3>"
   ],
   "cell_type": "markdown",
   "metadata": {}
  },
  {
   "cell_type": "code",
   "execution_count": 10,
   "metadata": {},
   "outputs": [],
   "source": [
    "mod_data <- data\n",
    "names(mod_data)[3] <- \"X_hat\"\n",
    "y_hat <- predict(OLS2, newdata=mod_data)"
   ]
  },
  {
   "cell_type": "code",
   "execution_count": 11,
   "metadata": {},
   "outputs": [],
   "source": [
    "e <- mod_data$GC - y_hat"
   ]
  },
  {
   "cell_type": "code",
   "execution_count": 12,
   "metadata": {},
   "outputs": [],
   "source": [
    "mod_data$e <- e  "
   ]
  },
  {
   "cell_type": "code",
   "execution_count": 13,
   "metadata": {},
   "outputs": [
    {
     "output_type": "display_data",
     "data": {
      "text/html": "'R-squared = 0.104'",
      "text/markdown": "'R-squared = 0.104'",
      "text/latex": "'R-squared = 0.104'",
      "text/plain": "[1] \"R-squared = 0.104\""
     },
     "metadata": {}
    }
   ],
   "source": [
    "reg <- lm(e ~ RI + RPT + RPN + RPU, data=mod_data)\n",
    "sprintf(\"R-squared = %.3f\", summary(reg)$r.squared)"
   ]
  },
  {
   "cell_type": "code",
   "execution_count": 14,
   "metadata": {},
   "outputs": [],
   "source": [
    "n <- nrow(mod_data)\n",
    "k <- 2\n",
    "m <- 5 #include intercept\n",
    "nr2 <- n*summary(reg)$r.squared"
   ]
  },
  {
   "cell_type": "code",
   "execution_count": 19,
   "metadata": {},
   "outputs": [
    {
     "output_type": "display_data",
     "data": {
      "text/html": "3.12478283750542",
      "text/markdown": "3.12478283750542",
      "text/latex": "3.12478283750542",
      "text/plain": "[1] 3.124783"
     },
     "metadata": {}
    }
   ],
   "source": [
    "nr2"
   ]
  },
  {
   "cell_type": "code",
   "execution_count": 20,
   "metadata": {},
   "outputs": [
    {
     "output_type": "display_data",
     "data": {
      "text/html": "<span style=white-space:pre-wrap>'p-value = 0.373 &gt; 0.05.  Do not reject H0'</span>",
      "text/markdown": "<span style=white-space:pre-wrap>'p-value = 0.373 &gt; 0.05.  Do not reject H0'</span>",
      "text/latex": "'p-value = 0.373 > 0.05.  Do not reject H0'",
      "text/plain": "[1] \"p-value = 0.373 > 0.05.  Do not reject H0\""
     },
     "metadata": {}
    }
   ],
   "source": [
    "pval <- pchisq(nr2, df=(m-k), lower.tail=FALSE)\n",
    "# qchisq(0.05, df=(m-k), lower.tail=FALSE)\n",
    "sprintf(\"p-value = %.3f > 0.05.  Do not reject H0\", pval)"
   ]
  },
  {
   "source": [
    "<h3> Alternative </h3>\n",
    "\n",
    "Formula format: <br>\n",
    "(1) X | Z<br>\n",
    "(2) X_endogeneous | X_exogenous | Z"
   ],
   "cell_type": "markdown",
   "metadata": {}
  },
  {
   "cell_type": "code",
   "execution_count": 31,
   "metadata": {},
   "outputs": [],
   "source": [
    "SLS <- ivreg(formula= GC ~ RI | PG | RPT + RPN + RPU, data=data)"
   ]
  },
  {
   "cell_type": "code",
   "execution_count": 32,
   "metadata": {},
   "outputs": [
    {
     "output_type": "display_data",
     "data": {
      "text/plain": "\nCall:\nivreg(formula = GC ~ RI | PG | RPT + RPN + RPU, data = data)\n\nResiduals:\n       Min         1Q     Median         3Q        Max \n-0.0444538 -0.0140865  0.0009991  0.0193270  0.0411568 \n\nCoefficients:\n            Estimate Std. Error t value Pr(>|t|)    \n(Intercept)  5.01370    0.08391   59.75   <2e-16 ***\nPG          -0.54445    0.02895  -18.81   <2e-16 ***\nRI           0.56466    0.02539   22.24   <2e-16 ***\n\nDiagnostic tests:\n                 df1 df2 statistic  p-value    \nWeak instruments   3  25    43.452 4.58e-10 ***\nWu-Hausman         1  26     2.241    0.146    \nSargan             2  NA     3.125    0.210    \n---\nSignif. codes:  0 '***' 0.001 '**' 0.01 '*' 0.05 '.' 0.1 ' ' 1\n\nResidual standard error: 0.02403 on 27 degrees of freedom\nMultiple R-Squared: 0.987,\tAdjusted R-squared: 0.986 \nWald test:  1001 on 2 and 27 DF,  p-value: < 2.2e-16 \n"
     },
     "metadata": {}
    }
   ],
   "source": [
    "summary(SLS)"
   ]
  },
  {
   "cell_type": "code",
   "execution_count": null,
   "metadata": {},
   "outputs": [],
   "source": []
  }
 ]
}