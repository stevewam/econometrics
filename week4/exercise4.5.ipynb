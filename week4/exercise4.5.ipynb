{
 "metadata": {
  "language_info": {
   "name": "R",
   "codemirror_mode": "r",
   "pygments_lexer": "r",
   "mimetype": "text/x-r-source",
   "file_extension": ".r",
   "version": "4.1.0"
  },
  "orig_nbformat": 4,
  "kernelspec": {
   "name": "ir",
   "display_name": "R",
   "language": "R"
  }
 },
 "nbformat": 4,
 "nbformat_minor": 2,
 "cells": [
  {
   "cell_type": "markdown",
   "source": [
    "<h1> Exercise 4.4"
   ],
   "metadata": {}
  },
  {
   "cell_type": "code",
   "execution_count": 3,
   "metadata": {},
   "outputs": [],
   "source": [
    "library(ivreg)"
   ]
  },
  {
   "cell_type": "code",
   "execution_count": 8,
   "source": [
    "data <- read.csv(\"./data/TrainExer45.csv\")\r\n",
    "names(data)[1] -< GPAS\""
   ],
   "outputs": [],
   "metadata": {}
  },
  {
   "cell_type": "code",
   "execution_count": 9,
   "source": [
    "summary(data)"
   ],
   "outputs": [
    {
     "output_type": "display_data",
     "data": {
      "text/plain": "      GPA        PARTICIPATION       GENDER          EMAIL      \n Min.   :3.797   Min.   :0.000   Min.   :0.000   Min.   :0.000  \n 1st Qu.:5.386   1st Qu.:0.000   1st Qu.:0.000   1st Qu.:0.000  \n Median :5.899   Median :0.000   Median :0.000   Median :1.000  \n Mean   :5.945   Mean   :0.337   Mean   :0.488   Mean   :0.514  \n 3rd Qu.:6.540   3rd Qu.:1.000   3rd Qu.:1.000   3rd Qu.:1.000  \n Max.   :8.157   Max.   :1.000   Max.   :1.000   Max.   :1.000  "
     },
     "metadata": {}
    }
   ],
   "metadata": {}
  },
  {
   "cell_type": "markdown",
   "source": [
    "<h3> Part (a)<h3> "
   ],
   "metadata": {}
  },
  {
   "cell_type": "code",
   "execution_count": 15,
   "metadata": {},
   "outputs": [
    {
     "output_type": "display_data",
     "data": {
      "text/plain": "\nCall:\nlm(formula = GPA ~ GENDER + PARTICIPATION, data = data)\n\nResiduals:\n     Min       1Q   Median       3Q      Max \n-2.00981 -0.48166  0.01022  0.47071  1.80200 \n\nCoefficients:\n              Estimate Std. Error t value Pr(>|t|)    \n(Intercept)    5.77111    0.03397 169.874  < 2e-16 ***\nGENDER        -0.21376    0.04431  -4.824 1.63e-06 ***\nPARTICIPATION  0.82437    0.04686  17.593  < 2e-16 ***\n---\nSignif. codes:  0 '***' 0.001 '**' 0.01 '*' 0.05 '.' 0.1 ' ' 1\n\nResidual standard error: 0.6985 on 997 degrees of freedom\nMultiple R-squared:  0.2441,\tAdjusted R-squared:  0.2426 \nF-statistic:   161 on 2 and 997 DF,  p-value: < 2.2e-16\n"
     },
     "metadata": {}
    }
   ],
   "source": [
    "OLS <- lm(GPA ~ GENDER + PARTICIPATION, data=data)\n",
    "summary(OLS)"
   ]
  },
  {
   "source": [
    "<h3> Part (b) </h3>"
   ],
   "cell_type": "markdown",
   "metadata": {}
  },
  {
   "cell_type": "code",
   "execution_count": 16,
   "metadata": {},
   "outputs": [],
   "source": [
    "REG1 <- lm(PARTICIPATION ~ GENDER + EMAIL, data=data)"
   ]
  },
  {
   "cell_type": "code",
   "execution_count": 17,
   "metadata": {},
   "outputs": [],
   "source": [
    "PARTHAT <- predict(REG1)\n",
    "combined_data <- cbind(data, PARTHAT) "
   ]
  },
  {
   "cell_type": "code",
   "execution_count": 22,
   "metadata": {},
   "outputs": [
    {
     "output_type": "display_data",
     "data": {
      "text/plain": "\nCall:\nlm(formula = GPA ~ GENDER + PARTHAT, data = combined_data)\n\nResiduals:\n     Min       1Q   Median       3Q      Max \n-2.07155 -0.57838 -0.05513  0.59162  2.23636 \n\nCoefficients:\n            Estimate Std. Error t value Pr(>|t|)    \n(Intercept)  5.94787    0.05117 116.239  < 2e-16 ***\nGENDER      -0.17276    0.05121  -3.373 0.000771 ***\nPARTHAT      0.24050    0.12246   1.964 0.049819 *  \n---\nSignif. codes:  0 '***' 0.001 '**' 0.01 '*' 0.05 '.' 0.1 ' ' 1\n\nResidual standard error: 0.7981 on 997 degrees of freedom\nMultiple R-squared:  0.01325,\tAdjusted R-squared:  0.01127 \nF-statistic: 6.694 on 2 and 997 DF,  p-value: 0.001294\n"
     },
     "metadata": {}
    }
   ],
   "source": [
    "REG2 <- lm(GPA ~ GENDER + PARTHAT, data=combined_data)\n",
    "summary(REG2)"
   ]
  },
  {
   "source": [
    "<h3> Part (c) </h3>\n",
    "Standard errors:<br>\n",
    "Constant 0.048<br>\n",
    "Gender 0.048<br>\n",
    "Participation 0.115<br><br>\n",
    "\n",
    "The standard errors in (b) are calculated using the fitted values of participation (participation hat) instead of the actual participation value.\n"
   ],
   "cell_type": "markdown",
   "metadata": {}
  },
  {
   "source": [
    "<h3> Part (d) </h3>"
   ],
   "cell_type": "markdown",
   "metadata": {}
  },
  {
   "cell_type": "code",
   "execution_count": 27,
   "metadata": {},
   "outputs": [
    {
     "output_type": "display_data",
     "data": {
      "text/html": "'Ratio for constant 0.938'",
      "text/markdown": "'Ratio for constant 0.938'",
      "text/latex": "'Ratio for constant 0.938'",
      "text/plain": "[1] \"Ratio for constant 0.938\""
     },
     "metadata": {}
    },
    {
     "output_type": "display_data",
     "data": {
      "text/html": "'Ratio for GENDER 0.937'",
      "text/markdown": "'Ratio for GENDER 0.937'",
      "text/latex": "'Ratio for GENDER 0.937'",
      "text/plain": "[1] \"Ratio for GENDER 0.937\""
     },
     "metadata": {}
    },
    {
     "output_type": "display_data",
     "data": {
      "text/html": "'Ratio for PARTHAT 0.939'",
      "text/markdown": "'Ratio for PARTHAT 0.939'",
      "text/latex": "'Ratio for PARTHAT 0.939'",
      "text/plain": "[1] \"Ratio for PARTHAT 0.939\""
     },
     "metadata": {}
    }
   ],
   "source": [
    "sprintf(\"Ratio for constant %.3f\", 0.048/summary(REG2)$coefficients[1, \"Std. Error\"])\n",
    "sprintf(\"Ratio for GENDER %.3f\", 0.048/summary(REG2)$coefficients[2, \"Std. Error\"])\n",
    "sprintf(\"Ratio for PARTHAT %.3f\", 0.115/summary(REG2)$coefficients[3, \"Std. Error\"])"
   ]
  },
  {
   "source": [
    "Ratio is the same as sigma_correct/sigma_incorrect. Sigma_correct calculated with participation hat, while sigma_incorrect calculated with actual participation data."
   ],
   "cell_type": "markdown",
   "metadata": {}
  },
  {
   "cell_type": "code",
   "execution_count": null,
   "metadata": {},
   "outputs": [],
   "source": []
  }
 ]
}