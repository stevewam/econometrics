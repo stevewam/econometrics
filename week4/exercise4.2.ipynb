{
 "metadata": {
  "language_info": {
   "name": "R",
   "codemirror_mode": "r",
   "pygments_lexer": "r",
   "mimetype": "text/x-r-source",
   "file_extension": ".r",
   "version": "4.1.0"
  },
  "orig_nbformat": 4,
  "kernelspec": {
   "name": "ir",
   "display_name": "R",
   "language": "R"
  }
 },
 "nbformat": 4,
 "nbformat_minor": 2,
 "cells": [
  {
   "cell_type": "markdown",
   "source": [
    "<h1> Exercise 4.2"
   ],
   "metadata": {}
  },
  {
   "cell_type": "code",
   "execution_count": 2,
   "source": [
    "data <- read.csv(\"./data/TrainExer42.csv\")\r\n",
    "names(data)[1] <-\" PRICEn\""
   ],
   "outputs": [],
   "metadata": {}
  },
  {
   "cell_type": "code",
   "execution_count": 6,
   "source": [
    "summary(data)"
   ],
   "outputs": [
    {
     "output_type": "display_data",
     "data": {
      "text/plain": "     PRICE0          PRICE1          PRICE5          PRICE10      \n Min.   :2.226   Min.   :2.226   Min.   : 2.226   Min.   : 2.226  \n 1st Qu.:4.382   1st Qu.:4.430   1st Qu.: 4.480   1st Qu.: 4.480  \n Median :4.971   Median :5.062   Median : 5.076   Median : 5.076  \n Mean   :4.995   Mean   :5.115   Mean   : 5.595   Mean   : 6.195  \n 3rd Qu.:5.627   3rd Qu.:5.923   3rd Qu.: 6.115   3rd Qu.: 6.115  \n Max.   :7.861   Max.   :8.372   Max.   :12.372   Max.   :17.372  \n    SALES0_0        SALES0_1        SALES0_5       SALES0_10    \n Min.   :91.16   Min.   :91.16   Min.   :87.92   Min.   :82.92  \n 1st Qu.:94.30   1st Qu.:94.13   1st Qu.:93.71   1st Qu.:93.71  \n Median :94.99   Median :94.84   Median :94.81   Median :94.81  \n Mean   :94.99   Mean   :94.87   Mean   :94.39   Mean   :93.79  \n 3rd Qu.:95.81   3rd Qu.:95.67   3rd Qu.:95.65   3rd Qu.:95.65  \n Max.   :98.08   Max.   :98.08   Max.   :98.08   Max.   :98.08  \n    SALES1_0        SALES1_1        SALES1_5       SALES1_10    \n Min.   :91.16   Min.   :91.16   Min.   :88.92   Min.   :83.92  \n 1st Qu.:94.35   1st Qu.:94.30   1st Qu.:93.71   1st Qu.:93.71  \n Median :95.12   Median :94.99   Median :94.81   Median :94.81  \n Mean   :95.11   Mean   :94.99   Mean   :94.51   Mean   :93.91  \n 3rd Qu.:95.99   3rd Qu.:95.81   3rd Qu.:95.65   3rd Qu.:95.65  \n Max.   :98.08   Max.   :98.08   Max.   :98.08   Max.   :98.08  \n    SALES5_0         SALES5_1         SALES5_5       SALES5_10    \n Min.   : 91.16   Min.   : 91.16   Min.   :91.16   Min.   :87.92  \n 1st Qu.: 94.37   1st Qu.: 94.37   1st Qu.:94.30   1st Qu.:93.71  \n Median : 95.17   Median : 95.17   Median :94.99   Median :94.81  \n Mean   : 95.59   Mean   : 95.47   Mean   :94.99   Mean   :94.39  \n 3rd Qu.: 96.24   3rd Qu.: 96.24   3rd Qu.:95.81   3rd Qu.:95.65  \n Max.   :101.73   Max.   :100.73   Max.   :98.08   Max.   :98.08  \n   SALES10_0        SALES10_1        SALES10_5        SALES10_10   \n Min.   : 91.16   Min.   : 91.16   Min.   : 91.16   Min.   :91.16  \n 1st Qu.: 94.37   1st Qu.: 94.37   1st Qu.: 94.37   1st Qu.:94.30  \n Median : 95.17   Median : 95.17   Median : 95.17   Median :94.99  \n Mean   : 96.19   Mean   : 96.07   Mean   : 95.59   Mean   :94.99  \n 3rd Qu.: 96.24   3rd Qu.: 96.24   3rd Qu.: 96.24   3rd Qu.:95.81  \n Max.   :106.73   Max.   :105.73   Max.   :101.73   Max.   :98.08  "
     },
     "metadata": {}
    }
   ],
   "metadata": {}
  },
  {
   "cell_type": "markdown",
   "source": [
    "<h3> Part (a)<h3> "
   ],
   "metadata": {}
  },
  {
   "cell_type": "code",
   "execution_count": 29,
   "metadata": {},
   "outputs": [
    {
     "output_type": "stream",
     "name": "stdout",
     "text": [
      "[1] \"Alpha = 0, Beta= 0, Price Coefficient= -0.976, R-squared= 0.794\"\n[1] \"Alpha = 0, Beta= 1, Price Coefficient= -0.966, R-squared= 0.808\"\n[1] \"Alpha = 0, Beta= 5, Price Coefficient= -0.973, R-squared= 0.930\"\n[1] \"Alpha = 0, Beta= 10, Price Coefficient= -0.985, R-squared= 0.977\"\n"
     ]
    }
   ],
   "source": [
    "alpha <- 0\n",
    "beta <- 0\n",
    "for (beta in c(0,1,5,10)) {\n",
    "    Y <- paste(\"SALES\",alpha,\"_\",beta, sep=\"\")\n",
    "    X <- paste(\"PRICE\",beta, sep=\"\")\n",
    "    f <- as.formula(paste(Y, X, sep=\" ~ \"))\n",
    "    fit <- lm(f, data=data)\n",
    "    msg <- sprintf(\"Alpha = %d, Beta= %d, Price Coefficient= %.3f, R-squared= %.3f\", alpha, beta, coef(fit)[2], summary(fit)$r.squared)\n",
    "    print(eval(msg))\n",
    "}"
   ]
  },
  {
   "source": [
    "<h3> Part (b) </h3>"
   ],
   "cell_type": "markdown",
   "metadata": {}
  },
  {
   "cell_type": "code",
   "execution_count": 30,
   "metadata": {},
   "outputs": [
    {
     "output_type": "stream",
     "name": "stdout",
     "text": [
      "[1] \"Alpha = 0, Beta= 0, Price Coefficient= -0.976, R-squared= 0.794\"\n[1] \"Alpha = 1, Beta= 0, Price Coefficient= -0.969, R-squared= 0.718\"\n[1] \"Alpha = 5, Beta= 0, Price Coefficient= -0.942, R-squared= 0.243\"\n[1] \"Alpha = 10, Beta= 0, Price Coefficient= -0.909, R-squared= 0.076\"\n"
     ]
    }
   ],
   "source": [
    "alpha <- 0\n",
    "beta <- 0\n",
    "for (alpha in c(0,1,5,10)) {\n",
    "    Y <- paste(\"SALES\",alpha,\"_\",beta, sep=\"\")\n",
    "    X <- paste(\"PRICE\",beta, sep=\"\")\n",
    "    f <- as.formula(paste(Y, X, sep=\" ~ \"))\n",
    "    fit <- lm(f, data=data)\n",
    "    msg <- sprintf(\"Alpha = %d, Beta= %d, Price Coefficient= %.3f, R-squared= %.3f\", alpha, beta, coef(fit)[2], summary(fit)$r.squared)\n",
    "    print(eval(msg))\n",
    "}"
   ]
  },
  {
   "source": [
    "<h3> Part (c) </h3>"
   ],
   "cell_type": "markdown",
   "metadata": {}
  },
  {
   "cell_type": "code",
   "execution_count": 35,
   "metadata": {},
   "outputs": [],
   "source": [
    "\n",
    "for (alpha in c(0,1,5,10)) {\n",
    "Y <- paste(\"SALES\",alpha,\"_\",beta, sep=\"\")\n",
    "X <- paste(\"PRICE\",beta, sep=\"\")\n",
    "f <- as.formula(paste(Y, X, sep=\" ~ \"))\n",
    "fit <- lm(f, data=data)\n",
    "msg <- sprintf(\"Alpha = %d, Beta= %d, Price Coefficient= %.3f, R-squared= %.3f\", alpha, beta, coef(fit)[2], summary(fit)$r.squared)\n",
    "print(eval(msg))\n",
    "}"
   ]
  }
 ]
}