{
 "metadata": {
  "language_info": {
   "name": "R",
   "codemirror_mode": "r",
   "pygments_lexer": "r",
   "mimetype": "text/x-r-source",
   "file_extension": ".r",
   "version": "3.8.2"
  },
  "orig_nbformat": 4,
  "kernelspec": {
   "name": "ir",
   "display_name": "R",
   "language": "R"
  },
  "interpreter": {
   "hash": "31f2aee4e71d21fbe5cf8b01ff0e069b9275f58929596ceb00d14d90e3e16cd6"
  }
 },
 "nbformat": 4,
 "nbformat_minor": 2,
 "cells": [
  {
   "cell_type": "markdown",
   "source": [
    "<h1> Test Exercise 2"
   ],
   "metadata": {}
  },
  {
   "cell_type": "code",
   "execution_count": 1,
   "source": [
    "data <- read.csv(\"./data/TestExer2-GPA-round2.csv\")\n",
    "names(data)[1] <- \"Observation\""
   ],
   "outputs": [],
   "metadata": {}
  },
  {
   "cell_type": "code",
   "execution_count": 2,
   "source": [
    "summary(data)"
   ],
   "outputs": [
    {
     "output_type": "display_data",
     "data": {
      "text/plain": [
       "  Observation       FGPA            SATM            SATV            FEM        \n",
       " Min.   :  1   Min.   :1.500   Min.   :4.000   Min.   :3.100   Min.   :0.0000  \n",
       " 1st Qu.:153   1st Qu.:2.485   1st Qu.:5.900   1st Qu.:5.100   1st Qu.:0.0000  \n",
       " Median :305   Median :2.773   Median :6.300   Median :5.500   Median :0.0000  \n",
       " Mean   :305   Mean   :2.793   Mean   :6.248   Mean   :5.565   Mean   :0.3875  \n",
       " 3rd Qu.:457   3rd Qu.:3.116   3rd Qu.:6.600   3rd Qu.:6.000   3rd Qu.:1.0000  \n",
       " Max.   :609   Max.   :3.971   Max.   :7.900   Max.   :7.600   Max.   :1.0000  "
      ]
     },
     "metadata": {}
    }
   ],
   "metadata": {}
  },
  {
   "cell_type": "markdown",
   "source": [
    "<h3>(a) (i) Regress FGPA on a constant and SATV. Report the coefficient of SATV and its standard error and p-value\n",
    "(give your answers with 3 decimals)."
   ],
   "metadata": {}
  },
  {
   "cell_type": "code",
   "execution_count": 4,
   "source": [
    "fit <- lm(FGPA ~ SATV, data=data)\n",
    "sprintf(\"Regression line: FGPA = %.2f + %.2fSATV + e\", coef(fit)[1], coef(fit)[2])\n",
    "print(round(summary(fit)$coefficient, 3))"
   ],
   "outputs": [
    {
     "output_type": "display_data",
     "data": {
      "text/plain": [
       "[1] \"Regression line: FGPA = 2.44 + 0.06SATV + e\""
      ],
      "text/markdown": [
       "'Regression line: FGPA = 2.44 + 0.06SATV + e'"
      ],
      "text/latex": [
       "'Regression line: FGPA = 2.44 + 0.06SATV + e'"
      ],
      "text/html": [
       "'Regression line: FGPA = 2.44 + 0.06SATV + e'"
      ]
     },
     "metadata": {}
    },
    {
     "output_type": "stream",
     "name": "stdout",
     "text": [
      "            Estimate Std. Error t value Pr(>|t|)\n",
      "(Intercept)    2.442      0.155  15.747    0.000\n",
      "SATV           0.063      0.028   2.280    0.023\n"
     ]
    }
   ],
   "metadata": {}
  },
  {
   "cell_type": "markdown",
   "source": [
    "<h3> (a) (ii) Determine a 95% confidence interval (with 3 decimals) for the effect on FGPA of an increase by 1 point\n",
    "in SATV."
   ],
   "metadata": {}
  },
  {
   "cell_type": "code",
   "execution_count": 6,
   "source": [
    "se <- coef(summary(fit))[2, \"Std. Error\"]\n",
    "sprintf(\"Confidence interval at 95%%: (%.3f, %.3f)\",  coef(fit)[2]-2*se, coef(fit)[2]+2*se)"
   ],
   "outputs": [
    {
     "output_type": "display_data",
     "data": {
      "text/plain": [
       "[1] \"Confidence interval at 95%: (0.008, 0.118)\""
      ],
      "text/markdown": [
       "'Confidence interval at 95%: (0.008, 0.118)'"
      ],
      "text/latex": [
       "'Confidence interval at 95\\%: (0.008, 0.118)'"
      ],
      "text/html": [
       "'Confidence interval at 95%: (0.008, 0.118)'"
      ]
     },
     "metadata": {}
    }
   ],
   "metadata": {}
  },
  {
   "cell_type": "markdown",
   "source": [
    "<h3>(b) Answer questions (a-i) and (a-ii) also for the regression of FGPA on a constant, SATV, SATM, and FEM.</h3>"
   ],
   "metadata": {}
  },
  {
   "cell_type": "code",
   "execution_count": 7,
   "source": [
    "multi_fit <- lm(FGPA ~ SATV+SATM+FEM, data=data)\n",
    "sprintf(\"Regression line: FGPA = %.2f + %.2fSATV + %.2fSATM + %.2fFEM + e\", coef(multi_fit)[1], coef(multi_fit)[2], coef(multi_fit)[3], coef(multi_fit)[4])  \n",
    "print(summary(multi_fit)$coefficient)"
   ],
   "outputs": [
    {
     "output_type": "display_data",
     "data": {
      "text/plain": [
       "[1] \"Regression line: FGPA = 1.56 + 0.01SATV + 0.17SATM + 0.20FEM + e\""
      ],
      "text/markdown": [
       "'Regression line: FGPA = 1.56 + 0.01SATV + 0.17SATM + 0.20FEM + e'"
      ],
      "text/latex": [
       "'Regression line: FGPA = 1.56 + 0.01SATV + 0.17SATM + 0.20FEM + e'"
      ],
      "text/html": [
       "'Regression line: FGPA = 1.56 + 0.01SATV + 0.17SATM + 0.20FEM + e'"
      ]
     },
     "metadata": {}
    },
    {
     "output_type": "stream",
     "name": "stdout",
     "text": [
      "             Estimate Std. Error   t value     Pr(>|t|)\n",
      "(Intercept) 1.5570482 0.21609551 7.2053704 1.729863e-12\n",
      "SATV        0.0141619 0.02792697 0.5071047 6.122662e-01\n",
      "SATM        0.1727359 0.03192671 5.4103874 9.071480e-08\n",
      "FEM         0.2002716 0.03738085 5.3575989 1.200266e-07\n"
     ]
    }
   ],
   "metadata": {}
  },
  {
   "cell_type": "code",
   "execution_count": 11,
   "source": [
    "se_SATV = coef(summary(multi_fit))[2, \"Std. Error\"]\n",
    "sprintf(\"Confidence interval for SATV coefficients at 95%%: (%.3f, %.3f)\",  coef(multi_fit)[2]-2*se_SATV, coef(multi_fit)[2]+2*se_SATV)\n",
    "\n",
    "se_SATM = coef(summary(multi_fit))[3, \"Std. Error\"]\n",
    "sprintf(\"Confidence interval for SATM coefficient at 95%%: (%.3f, %.3f)\",  coef(multi_fit)[3]-2*se_SATM, coef(multi_fit)[3]+2*se_SATM)\n",
    "\n",
    "se_FEM = coef(summary(multi_fit))[4, \"Std. Error\"]\n",
    "sprintf(\"Confidence interval for FEM coefficient at 95%%: (%.3f, %.3f)\",  coef(multi_fit)[4]-2*se_FEM, coef(multi_fit)[4]+2*se_FEM)"
   ],
   "outputs": [
    {
     "output_type": "display_data",
     "data": {
      "text/plain": [
       "[1] \"Confidence interval for SATV coefficients at 95%: (-0.042, 0.070)\""
      ],
      "text/markdown": [
       "'Confidence interval for SATV coefficients at 95%: (-0.042, 0.070)'"
      ],
      "text/latex": [
       "'Confidence interval for SATV coefficients at 95\\%: (-0.042, 0.070)'"
      ],
      "text/html": [
       "'Confidence interval for SATV coefficients at 95%: (-0.042, 0.070)'"
      ]
     },
     "metadata": {}
    },
    {
     "output_type": "display_data",
     "data": {
      "text/plain": [
       "[1] \"Confidence interval for SATM coefficient at 95%: (0.109, 0.237)\""
      ],
      "text/markdown": [
       "'Confidence interval for SATM coefficient at 95%: (0.109, 0.237)'"
      ],
      "text/latex": [
       "'Confidence interval for SATM coefficient at 95\\%: (0.109, 0.237)'"
      ],
      "text/html": [
       "'Confidence interval for SATM coefficient at 95%: (0.109, 0.237)'"
      ]
     },
     "metadata": {}
    },
    {
     "output_type": "display_data",
     "data": {
      "text/plain": [
       "[1] \"Confidence interval for FEM coefficient at 95%: (0.126, 0.275)\""
      ],
      "text/markdown": [
       "'Confidence interval for FEM coefficient at 95%: (0.126, 0.275)'"
      ],
      "text/latex": [
       "'Confidence interval for FEM coefficient at 95\\%: (0.126, 0.275)'"
      ],
      "text/html": [
       "'Confidence interval for FEM coefficient at 95%: (0.126, 0.275)'"
      ]
     },
     "metadata": {}
    }
   ],
   "metadata": {}
  },
  {
   "cell_type": "markdown",
   "source": [
    "<h3> (c)  Determine the (4 × 4) correlation matrix of FGPA, SATV, SATM, and FEM. Use these correlations to explain the differences between the outcomes in parts (a) and (b). </h3>\n",
    "\n",
    "In part (a): $\\beta_{SATV}=$ 0.063<br>\n",
    "In part (b): $\\beta_{SATV}=$ 0.014<br><br>\n",
    "\n",
    "The value of $\\beta_{SATV}=$ is affected by its relationship with other factors. We can look at the formula that governs the effect of towards the dependent variable.<br><br>\n",
    "$\\text{Total Effect} = \\text{Partial Effect} + \\text{Indirect Effect}$<br>\n",
    "$\\frac{dy}{dx_j} = \\beta_j+ \\sum_{h=2, h\\ne j}^k \\beta_h\\frac{\\partial x_h}{\\partial x_j}$\n",
    "\n",
    "Where $\\frac{\\partial x_h}{\\partial x_j}$ is proportional to the correlation between factor of interest (SATV in this case) with other factors.<br>\n",
    "The above equation means that as we add other factors, the effect of existing factors are explained by their relationship with other factors. Since the total effect for each factor remains the same, $\\beta$ of the factor of interest will change.<br><br><br>\n",
    "From the correlation matrix: <br>\n",
    "Correlation between SATV and SATM: 0.2878 > 0, $\\beta_{SATM} =$ 0.173 > 0<br>\n",
    "Correlation between SATV and FEM: 0.0336 > 0, $\\beta_{FEM} =$ 0.200 > 0<br>\n",
    "Since total effect remains the same, $\\beta_{SATV}$ has a lower value.\n"
   ],
   "metadata": {}
  },
  {
   "cell_type": "code",
   "execution_count": 12,
   "source": [
    "print(round(cor(data[, -1]), 4))"
   ],
   "outputs": [
    {
     "output_type": "stream",
     "name": "stdout",
     "text": [
      "       FGPA    SATM   SATV     FEM\n",
      "FGPA 1.0000  0.1950 0.0922  0.1765\n",
      "SATM 0.1950  1.0000 0.2878 -0.1627\n",
      "SATV 0.0922  0.2878 1.0000  0.0336\n",
      "FEM  0.1765 -0.1627 0.0336  1.0000\n"
     ]
    }
   ],
   "metadata": {}
  },
  {
   "cell_type": "markdown",
   "source": [
    "<h3>(d) (i) Perform an F-test on the significance (at the 5% level) of the effect of SATV on FGPA, based on the regression in part (b) and another regression.</h3>\n",
    "Note: Use the F-test in terms of SSR or R2 and use 6 decimals in your computations. The relevant\n",
    "critical value is 3.9.\n",
    "\n",
    "$F = \\frac{(R_1^2 - R_0^2)/g}{(1-R^2_1)/(n-k)}$<br>\n",
    "$H_0: \\beta_{SATV} = 0, \\; H_1: \\beta_{SATV} \\ne 0$\n"
   ],
   "metadata": {}
  },
  {
   "cell_type": "code",
   "execution_count": 13,
   "source": [
    "multi_fit2 <- lm(FGPA ~ SATM + FEM, data = data)"
   ],
   "outputs": [],
   "metadata": {}
  },
  {
   "cell_type": "code",
   "execution_count": 36,
   "source": [
    "sprintf(\"Regression 0 (another regression) FGPA = %.2f + %.2fSATM + %.2fFEM + e\", coef(multi_fit2)[1], coef(multi_fit2)[2], coef(multi_fit2)[3])\n",
    "sprintf(\"Regression 1 (from part (b)): FGPA = %.2f + %.2fSATV + %.2fSATM + %.2fFEM + e\", coef(multi_fit)[1], coef(multi_fit)[2], coef(multi_fit)[3], coef(multi_fit)[4])\n",
    "\n",
    "rsq_0 <- as.numeric(summary(multi_fit2)$r.squared)\n",
    "rsq_1 <- as.numeric(summary(multi_fit)$r.squared)\n",
    "n <- nrow(data)\n",
    "g <- 1\n",
    "k <- 4\n",
    "F <- (rsq_1 - rsq_0) * (n - k) / (1 - rsq_1) / g\n",
    "sprintf(\"F = %0.6f\", F)\n",
    "sprintf(\"F-statistics value = %0.6f < 3.9, therefore do not reject H0\", F)\n",
    "# F = = = 40 -  ()rs)q_ - )0*)n()1-s)qr\n",
    "# rsq_1/gf(rnt()Ff\"\"F-statistics va6u\",: )%0.5f6 F\n",
    "# \"rintf()\"\"F-statisticsue =  < 3-0.2%0.6f.9, therefore do noH_0\"jec)t $H_$, F"
   ],
   "outputs": [
    {
     "output_type": "display_data",
     "data": {
      "text/plain": [
       "[1] \"Regression 0 (another regression) FGPA = 1.61 + 0.18SATM + 0.20FEM + e\""
      ],
      "text/markdown": [
       "'Regression 0 (another regression) FGPA = 1.61 + 0.18SATM + 0.20FEM + e'"
      ],
      "text/latex": [
       "'Regression 0 (another regression) FGPA = 1.61 + 0.18SATM + 0.20FEM + e'"
      ],
      "text/html": [
       "'Regression 0 (another regression) FGPA = 1.61 + 0.18SATM + 0.20FEM + e'"
      ]
     },
     "metadata": {}
    },
    {
     "output_type": "display_data",
     "data": {
      "text/plain": [
       "[1] \"Regression 1 (from part (b)): FGPA = 1.56 + 0.01SATV + 0.17SATM + 0.20FEM + e\""
      ],
      "text/markdown": [
       "'Regression 1 (from part (b)): FGPA = 1.56 + 0.01SATV + 0.17SATM + 0.20FEM + e'"
      ],
      "text/latex": [
       "'Regression 1 (from part (b)): FGPA = 1.56 + 0.01SATV + 0.17SATM + 0.20FEM + e'"
      ],
      "text/html": [
       "'Regression 1 (from part (b)): FGPA = 1.56 + 0.01SATV + 0.17SATM + 0.20FEM + e'"
      ]
     },
     "metadata": {}
    },
    {
     "output_type": "display_data",
     "data": {
      "text/plain": [
       "[1] \"F = 0.257155\""
      ],
      "text/markdown": [
       "'F = 0.257155'"
      ],
      "text/latex": [
       "'F = 0.257155'"
      ],
      "text/html": [
       "'F = 0.257155'"
      ]
     },
     "metadata": {}
    },
    {
     "output_type": "display_data",
     "data": {
      "text/plain": [
       "[1] \"F-statistics value = 0.257155 < 3.9, therefore do not reject H0\""
      ],
      "text/markdown": [
       "'F-statistics value = 0.257155 &lt; 3.9, therefore do not reject H0'"
      ],
      "text/latex": [
       "'F-statistics value = 0.257155 < 3.9, therefore do not reject H0'"
      ],
      "text/html": [
       "'F-statistics value = 0.257155 &lt; 3.9, therefore do not reject H0'"
      ]
     },
     "metadata": {}
    }
   ],
   "metadata": {}
  },
  {
   "cell_type": "markdown",
   "source": [
    "<h3> (d) (ii) Check numerically that F = t^2 </h3>\n",
    "\n",
    "$t = \\frac{b_j}{s\\sqrt{a_{jj}}}$"
   ],
   "metadata": {}
  },
  {
   "cell_type": "code",
   "execution_count": 37,
   "source": [
    "b_j <- coef(multi_fit)[2]\n",
    "se <- coef(summary(multi_fit))[2, 'Std. Error']\n",
    "tsq <- (b_j/se)**2\n",
    "\n",
    "sprintf(\"F = %0.6f\", F)\n",
    "sprintf(\"t-squared = %0.6f\", tsq)"
   ],
   "outputs": [
    {
     "output_type": "display_data",
     "data": {
      "text/plain": [
       "[1] \"F = 0.257155\""
      ],
      "text/markdown": [
       "'F = 0.257155'"
      ],
      "text/latex": [
       "'F = 0.257155'"
      ],
      "text/html": [
       "'F = 0.257155'"
      ]
     },
     "metadata": {}
    },
    {
     "output_type": "display_data",
     "data": {
      "text/plain": [
       "[1] \"t-squared = 0.257155\""
      ],
      "text/markdown": [
       "'t-squared = 0.257155'"
      ],
      "text/latex": [
       "'t-squared = 0.257155'"
      ],
      "text/html": [
       "'t-squared = 0.257155'"
      ]
     },
     "metadata": {}
    }
   ],
   "metadata": {}
  },
  {
   "cell_type": "code",
   "execution_count": null,
   "source": [],
   "outputs": [],
   "metadata": {}
  }
 ]
}