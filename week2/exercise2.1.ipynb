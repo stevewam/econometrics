{
 "metadata": {
  "language_info": {
   "codemirror_mode": {
    "name": "ipython",
    "version": 3
   },
   "file_extension": ".py",
   "mimetype": "text/x-python",
   "name": "R",
   "nbconvert_exporter": "python",
   "pygments_lexer": "ipython3",
   "version": 3
  },
  "orig_nbformat": 4,
  "kernelspec": {
   "name": "ir",
   "display_name": "R",
   "language": "R"
  }
 },
 "nbformat": 4,
 "nbformat_minor": 2,
 "cells": [
  {
   "source": [
    "<h1> Exercise 2.1"
   ],
   "cell_type": "markdown",
   "metadata": {}
  },
  {
   "cell_type": "code",
   "execution_count": 6,
   "metadata": {},
   "outputs": [],
   "source": [
    "data <- read.csv(\"./data/TrainExer21.csv\")\n",
    "names(data)[1] <- \"Observation\""
   ]
  },
  {
   "cell_type": "code",
   "execution_count": 8,
   "metadata": {},
   "outputs": [
    {
     "output_type": "display_data",
     "data": {
      "text/plain": "  Observation         Wage          LogWage          Female     \n Min.   :  1.0   Min.   : 32.0   Min.   :3.466   Min.   :0.000  \n 1st Qu.:125.8   1st Qu.: 72.0   1st Qu.:4.277   1st Qu.:0.000  \n Median :250.5   Median :100.0   Median :4.605   Median :0.000  \n Mean   :250.5   Mean   :114.9   Mean   :4.641   Mean   :0.368  \n 3rd Qu.:375.2   3rd Qu.:144.0   3rd Qu.:4.970   3rd Qu.:1.000  \n Max.   :500.0   Max.   :384.0   Max.   :5.951   Max.   :1.000  \n      Age             Educ          Parttime    \n Min.   :20.00   Min.   :1.000   Min.   :0.000  \n 1st Qu.:32.00   1st Qu.:1.000   1st Qu.:0.000  \n Median :39.00   Median :2.000   Median :0.000  \n Mean   :40.01   Mean   :2.078   Mean   :0.288  \n 3rd Qu.:47.00   3rd Qu.:3.000   3rd Qu.:1.000  \n Max.   :70.00   Max.   :4.000   Max.   :1.000  "
     },
     "metadata": {}
    }
   ],
   "source": [
    "summary(data)"
   ]
  },
  {
   "source": [
    "<h3>(a) Use dataset TrainExer21 to regress log-wage on a constant and the gender dummy ‘Female’, and check the result presented in Lecture 2.1 that log(Wage) = 4.73 − 0.25Female + e."
   ],
   "cell_type": "markdown",
   "metadata": {}
  },
  {
   "cell_type": "code",
   "execution_count": 12,
   "metadata": {},
   "outputs": [
    {
     "output_type": "display_data",
     "data": {
      "text/html": "'Regression line: log(Wave) = 4.73 - 0.25Female + e'",
      "text/markdown": "'Regression line: log(Wave) = 4.73 - 0.25Female + e'",
      "text/latex": "'Regression line: log(Wave) = 4.73 - 0.25Female + e'",
      "text/plain": "[1] \"Regression line: log(Wave) = 4.73 - 0.25Female + e\""
     },
     "metadata": {}
    }
   ],
   "source": [
    "fit <- lm(log(Wage) ~ Female, data=data)\n",
    "sprintf(\"Regression line: log(Wave) = %.2f - %.2fFemale + e\", coef(fit)[1], -1*coef(fit)[2])"
   ]
  },
  {
   "source": [
    "<h3>(b) Let e be the series of residuals of the regression in part (a). Perform two regressions:  <br>\n",
    "&nbsp&nbsp&nbsp&nbsp(i) e on a constant and education;<br>\n",
    "&nbsp&nbsp&nbsp&nbsp(ii) e on a constant and the part-time job dummy.</h3>"
   ],
   "cell_type": "markdown",
   "metadata": {}
  },
  {
   "cell_type": "code",
   "execution_count": 23,
   "metadata": {},
   "outputs": [
    {
     "output_type": "display_data",
     "data": {
      "text/html": "'Regression line on education: e = -0.45 + 0.22Educ'",
      "text/markdown": "'Regression line on education: e = -0.45 + 0.22Educ'",
      "text/latex": "'Regression line on education: e = -0.45 + 0.22Educ'",
      "text/plain": "[1] \"Regression line on education: e = -0.45 + 0.22Educ\""
     },
     "metadata": {}
    },
    {
     "output_type": "display_data",
     "data": {
      "text/plain": "\nCall:\nlm(formula = e ~ Educ, data = data_pred)\n\nResiduals:\n     Min       1Q   Median       3Q      Max \n-1.07907 -0.28095 -0.01408  0.25163  1.21331 \n\nCoefficients:\n            Estimate Std. Error t value Pr(>|t|)    \n(Intercept) -0.45265    0.03614  -12.53   <2e-16 ***\nEduc         0.21783    0.01550   14.05   <2e-16 ***\n---\nSignif. codes:  0 '***' 0.001 '**' 0.01 '*' 0.05 '.' 0.1 ' ' 1\n\nResidual standard error: 0.3662 on 498 degrees of freedom\nMultiple R-squared:  0.2839,\tAdjusted R-squared:  0.2824 \nF-statistic: 197.4 on 1 and 498 DF,  p-value: < 2.2e-16\n"
     },
     "metadata": {}
    }
   ],
   "source": [
    "data_pred <- data\n",
    "data_pred$e <- summary(fit)$residuals\n",
    "\n",
    "residual_fit1 <- lm(e ~ Educ, data=data_pred)\n",
    "sprintf(\"Regression line on education: e = %.2f + %.2fEduc\", coef(residual_fit1)[1], coef(residual_fit1)[2])\n",
    "summary(residual_fit1)"
   ]
  },
  {
   "cell_type": "code",
   "execution_count": 22,
   "metadata": {},
   "outputs": [
    {
     "output_type": "display_data",
     "data": {
      "text/html": "'Regression line on education: e = -0.03 + 0.10Parttime'",
      "text/markdown": "'Regression line on education: e = -0.03 + 0.10Parttime'",
      "text/latex": "'Regression line on education: e = -0.03 + 0.10Parttime'",
      "text/plain": "[1] \"Regression line on education: e = -0.03 + 0.10Parttime\""
     },
     "metadata": {}
    },
    {
     "output_type": "display_data",
     "data": {
      "text/plain": "\nCall:\nlm(formula = e ~ Parttime, data = data_pred)\n\nResiduals:\n     Min       1Q   Median       3Q      Max \n-1.08753 -0.30477 -0.02774  0.30681  1.44257 \n\nCoefficients:\n            Estimate Std. Error t value Pr(>|t|)  \n(Intercept) -0.02842    0.02281  -1.246   0.2134  \nParttime     0.09869    0.04251   2.322   0.0207 *\n---\nSignif. codes:  0 '***' 0.001 '**' 0.01 '*' 0.05 '.' 0.1 ' ' 1\n\nResidual standard error: 0.4304 on 498 degrees of freedom\nMultiple R-squared:  0.01071,\tAdjusted R-squared:  0.008721 \nF-statistic:  5.39 on 1 and 498 DF,  p-value: 0.02065\n"
     },
     "metadata": {}
    }
   ],
   "source": [
    "residual_fit2 <- lm(e ~ Parttime, data=data_pred)\n",
    "sprintf(\"Regression line on education: e = %.2f + %.2fParttime\", coef(residual_fit2)[1], -1*-1*coef(residual_fit2)[2])\n",
    "summary(residual_fit2)"
   ]
  },
  {
   "source": [
    "<h3> (c)  Comment on the outcomes of regressions (i) and (ii) of part (b). </h3>\n",
    "\n",
    "e has a strong linear relationship with Educ. This means Education can explain e much better than Parttime does. <br><br>\n",
    "\n",
    "More specifically:<br>\n",
    "Having highed education adds 22% to the unexplained part of Wage (e)<br>\n",
    "Having a part-time job adds 10% to the unexplained part of Wage (e)<br>"
   ],
   "cell_type": "markdown",
   "metadata": {}
  },
  {
   "cell_type": "code",
   "execution_count": null,
   "metadata": {},
   "outputs": [],
   "source": []
  }
 ]
}