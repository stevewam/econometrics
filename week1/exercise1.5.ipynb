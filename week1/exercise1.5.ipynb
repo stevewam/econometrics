{
 "metadata": {
  "language_info": {
   "codemirror_mode": {
    "name": "ipython",
    "version": 3
   },
   "file_extension": ".py",
   "mimetype": "text/x-python",
   "name": "R",
   "nbconvert_exporter": "python",
   "pygments_lexer": "ipython3",
   "version": 3
  },
  "orig_nbformat": 4,
  "kernelspec": {
   "name": "ir",
   "display_name": "R",
   "language": "R"
  }
 },
 "nbformat": 4,
 "nbformat_minor": 2,
 "cells": [
  {
   "source": [
    "<h1> Exercise 1.5"
   ],
   "cell_type": "markdown",
   "metadata": {}
  },
  {
   "cell_type": "code",
   "execution_count": 30,
   "metadata": {},
   "outputs": [],
   "source": [
    "data <- read.csv(\"./data/TrainExer15.csv\")\n",
    "names(data) <- c('Game', 'Year', 'Men', 'Women')"
   ]
  },
  {
   "cell_type": "code",
   "execution_count": 31,
   "metadata": {},
   "outputs": [
    {
     "output_type": "display_data",
     "data": {
      "text/plain": "      Game           Year           Men             Women      \n Min.   : 1.0   Min.   :1948   Min.   : 9.840   Min.   :10.54  \n 1st Qu.: 4.5   1st Qu.:1962   1st Qu.: 9.935   1st Qu.:10.94  \n Median : 8.0   Median :1976   Median :10.000   Median :11.06  \n Mean   : 8.0   Mean   :1976   Mean   :10.082   Mean   :11.10  \n 3rd Qu.:11.5   3rd Qu.:1990   3rd Qu.:10.225   3rd Qu.:11.24  \n Max.   :15.0   Max.   :2004   Max.   :10.500   Max.   :11.90  "
     },
     "metadata": {}
    }
   ],
   "source": [
    "summary(data)"
   ]
  },
  {
   "cell_type": "code",
   "execution_count": 32,
   "metadata": {},
   "outputs": [
    {
     "output_type": "display_data",
     "data": {
      "text/html": "<table class=\"dataframe\">\n<caption>A data.frame: 15 × 4</caption>\n<thead>\n\t<tr><th scope=col>Game</th><th scope=col>Year</th><th scope=col>Men</th><th scope=col>Women</th></tr>\n\t<tr><th scope=col>&lt;int&gt;</th><th scope=col>&lt;int&gt;</th><th scope=col>&lt;dbl&gt;</th><th scope=col>&lt;dbl&gt;</th></tr>\n</thead>\n<tbody>\n\t<tr><td> 1</td><td>1948</td><td>10.30</td><td>11.90</td></tr>\n\t<tr><td> 2</td><td>1952</td><td>10.40</td><td>11.50</td></tr>\n\t<tr><td> 3</td><td>1956</td><td>10.50</td><td>11.50</td></tr>\n\t<tr><td> 4</td><td>1960</td><td>10.20</td><td>11.00</td></tr>\n\t<tr><td> 5</td><td>1964</td><td>10.00</td><td>11.40</td></tr>\n\t<tr><td> 6</td><td>1968</td><td> 9.95</td><td>11.08</td></tr>\n\t<tr><td> 7</td><td>1972</td><td>10.14</td><td>11.07</td></tr>\n\t<tr><td> 8</td><td>1976</td><td>10.06</td><td>11.08</td></tr>\n\t<tr><td> 9</td><td>1980</td><td>10.25</td><td>11.06</td></tr>\n\t<tr><td>10</td><td>1984</td><td> 9.99</td><td>10.97</td></tr>\n\t<tr><td>11</td><td>1988</td><td> 9.92</td><td>10.54</td></tr>\n\t<tr><td>12</td><td>1992</td><td> 9.96</td><td>10.82</td></tr>\n\t<tr><td>13</td><td>1996</td><td> 9.84</td><td>10.94</td></tr>\n\t<tr><td>14</td><td>2000</td><td> 9.87</td><td>10.75</td></tr>\n\t<tr><td>15</td><td>2004</td><td> 9.85</td><td>10.93</td></tr>\n</tbody>\n</table>\n",
      "text/markdown": "\nA data.frame: 15 × 4\n\n| Game &lt;int&gt; | Year &lt;int&gt; | Men &lt;dbl&gt; | Women &lt;dbl&gt; |\n|---|---|---|---|\n|  1 | 1948 | 10.30 | 11.90 |\n|  2 | 1952 | 10.40 | 11.50 |\n|  3 | 1956 | 10.50 | 11.50 |\n|  4 | 1960 | 10.20 | 11.00 |\n|  5 | 1964 | 10.00 | 11.40 |\n|  6 | 1968 |  9.95 | 11.08 |\n|  7 | 1972 | 10.14 | 11.07 |\n|  8 | 1976 | 10.06 | 11.08 |\n|  9 | 1980 | 10.25 | 11.06 |\n| 10 | 1984 |  9.99 | 10.97 |\n| 11 | 1988 |  9.92 | 10.54 |\n| 12 | 1992 |  9.96 | 10.82 |\n| 13 | 1996 |  9.84 | 10.94 |\n| 14 | 2000 |  9.87 | 10.75 |\n| 15 | 2004 |  9.85 | 10.93 |\n\n",
      "text/latex": "A data.frame: 15 × 4\n\\begin{tabular}{llll}\n Game & Year & Men & Women\\\\\n <int> & <int> & <dbl> & <dbl>\\\\\n\\hline\n\t  1 & 1948 & 10.30 & 11.90\\\\\n\t  2 & 1952 & 10.40 & 11.50\\\\\n\t  3 & 1956 & 10.50 & 11.50\\\\\n\t  4 & 1960 & 10.20 & 11.00\\\\\n\t  5 & 1964 & 10.00 & 11.40\\\\\n\t  6 & 1968 &  9.95 & 11.08\\\\\n\t  7 & 1972 & 10.14 & 11.07\\\\\n\t  8 & 1976 & 10.06 & 11.08\\\\\n\t  9 & 1980 & 10.25 & 11.06\\\\\n\t 10 & 1984 &  9.99 & 10.97\\\\\n\t 11 & 1988 &  9.92 & 10.54\\\\\n\t 12 & 1992 &  9.96 & 10.82\\\\\n\t 13 & 1996 &  9.84 & 10.94\\\\\n\t 14 & 2000 &  9.87 & 10.75\\\\\n\t 15 & 2004 &  9.85 & 10.93\\\\\n\\end{tabular}\n",
      "text/plain": "   Game Year Men   Women\n1   1   1948 10.30 11.90\n2   2   1952 10.40 11.50\n3   3   1956 10.50 11.50\n4   4   1960 10.20 11.00\n5   5   1964 10.00 11.40\n6   6   1968  9.95 11.08\n7   7   1972 10.14 11.07\n8   8   1976 10.06 11.08\n9   9   1980 10.25 11.06\n10 10   1984  9.99 10.97\n11 11   1988  9.92 10.54\n12 12   1992  9.96 10.82\n13 13   1996  9.84 10.94\n14 14   2000  9.87 10.75\n15 15   2004  9.85 10.93"
     },
     "metadata": {}
    }
   ],
   "source": [
    "data"
   ]
  },
  {
   "source": [
    "<h3>(a) Show that the linear trend model predicts equal winning times at around 2140."
   ],
   "cell_type": "markdown",
   "metadata": {}
  },
  {
   "cell_type": "code",
   "execution_count": 54,
   "metadata": {},
   "outputs": [
    {
     "output_type": "display_data",
     "data": {
      "text/html": "'Year with equal winning times between men and women: 2140'",
      "text/markdown": "'Year with equal winning times between men and women: 2140'",
      "text/latex": "'Year with equal winning times between men and women: 2140'",
      "text/plain": "[1] \"Year with equal winning times between men and women: 2140\""
     },
     "metadata": {}
    }
   ],
   "source": [
    "men_lin_fit <- lm(Men ~ Game,data=data)\n",
    "women_lin_fit <- lm(Women ~ Game,data=data)\n",
    "game_llin = -(coef(men_lin_fit)[1] - coef(women_lin_fit)[1]) /(coef(men_lin_fit)[2] - coef(women_lin_fit)[2])\n",
    "yea_lin = 4*as.numeric(game_lin) + 1948 -4rsprintf(\"Year with equal winning times between men and women: %d\", round(year_lin))"
   ]
  },
  {
   "source": [
    "<h3>(b) Show that the nonlinear trend model predicts equal winning times at around 2192.\n",
    "\n"
   ],
   "cell_type": "markdown",
   "metadata": {}
  },
  {
   "cell_type": "code",
   "execution_count": 64,
   "metadata": {},
   "outputs": [
    {
     "output_type": "display_data",
     "data": {
      "text/html": "'Year with equal winning times between men and women: 2183'",
      "text/markdown": "'Year with equal winning times between men and women: 2183'",
      "text/latex": "'Year with equal winning times between men and women: 2183'",
      "text/plain": "[1] \"Year with equal winning times between men and women: 2183\""
     },
     "metadata": {}
    }
   ],
   "source": [
    "men_log_fit <- lm(log(Men) ~ Game,data=data)\n",
    "women_log_fit <- lm(log(Women) ~ Game,data=data)\n",
    "game_log = -(coef(men_log_fit)[1]- coef(women_log_fit)[1]) /(coef(men_log_fit)[2] - coef(women_log_fit)[2])\n",
    "year_log = 4*as.numeric(game_log) + 1948 -4\n",
    "sprintf(\"Year with equal winning times between men and women: %d\", round(year_log))"
   ]
  },
  {
   "cell_type": "code",
   "execution_count": 72,
   "metadata": {},
   "outputs": [
    {
     "output_type": "display_data",
     "data": {
      "text/html": "'Winning time for men in 2183 using log model: 8.30'",
      "text/markdown": "'Winning time for men in 2183 using log model: 8.30'",
      "text/latex": "'Winning time for men in 2183 using log model: 8.30'",
      "text/plain": "[1] \"Winning time for men in 2183 using log model: 8.30\""
     },
     "metadata": {}
    }
   ],
   "source": [
    "pred_men_log <- exp(predict(men_log_fit, newdata = data.frame(Game = c(game_log))))\n",
    "sprintf(\"Winning time for men in 2183 using log model: %.2f\", pred_men_log)"
   ]
  },
  {
   "cell_type": "code",
   "execution_count": 73,
   "metadata": {},
   "outputs": [
    {
     "output_type": "display_data",
     "data": {
      "text/html": "'Winning time for women in 2183 using log model: 8.30'",
      "text/markdown": "'Winning time for women in 2183 using log model: 8.30'",
      "text/latex": "'Winning time for women in 2183 using log model: 8.30'",
      "text/plain": "[1] \"Winning time for women in 2183 using log model: 8.30\""
     },
     "metadata": {}
    }
   ],
   "source": [
    "pred_women_log <- exp(predict(women_log_fit, newdata = data.frame(Game = c(game_log))))\n",
    "sprintf(\"Winning time for women in 2183 using log model: %.2f\", pred_women_log)"
   ]
  },
  {
   "source": [
    "<h3> (c) Show that the linear trend model predicts equal winning times of approximately 8.53 seconds.\n"
   ],
   "cell_type": "markdown",
   "metadata": {}
  },
  {
   "cell_type": "code",
   "execution_count": 42,
   "metadata": {},
   "outputs": [
    {
     "output_type": "display_data",
     "data": {
      "text/html": "'Winning time for men in 2140 using linear model: 8.52'",
      "text/markdown": "'Winning time for men in 2140 using linear model: 8.52'",
      "text/latex": "'Winning time for men in 2140 using linear model: 8.52'",
      "text/plain": "[1] \"Winning time for men in 2140 using linear model: 8.52\""
     },
     "metadata": {}
    }
   ],
   "source": [
    "men_lin_fit <- lm(Men ~ Game,data=data)\n",
    "# summary(men_lin_fit)\n",
    "year = 2140\n",
    "game = (year - 1948)/4 + 1\n",
    "pred_men_lin <- predict(men_lin_fit, newdata = data.frame(Game = c(game)))\n",
    "sprintf(\"Winning time for men in 2140 using linear model: %.3f\", pred_men_lin)"
   ]
  },
  {
   "cell_type": "code",
   "execution_count": 43,
   "metadata": {},
   "outputs": [
    {
     "output_type": "display_data",
     "data": {
      "text/html": "'Winning time for women in 2140 using linear model: 8.52'",
      "text/markdown": "'Winning time for women in 2140 using linear model: 8.52'",
      "text/latex": "'Winning time for women in 2140 using linear model: 8.52'",
      "text/plain": "[1] \"Winning time for women in 2140 using linear model: 8.52\""
     },
     "metadata": {}
    }
   ],
   "source": [
    "women_lin_fit <- lm(Women ~ Game,data=data)\n",
    "# summary(women_lin_fit)\n",
    "pred_women_lin <- predict(women_lin_fit, newdata = data.frame(Game = c(game)))\n",
    "sprintf(\"Winning time for women in 2140 using linear model: %.3f\", pred_women_lin)"
   ]
  },
  {
   "source": [
    "<h3>(d) Comment on these outcomes and on the underlying regression models.\n",
    "\n",
    "The forecasts for both linear and non-linear model are relatively the same in the short-run. However, they diverge more signficantly in the long-run."
   ],
   "cell_type": "markdown",
   "metadata": {}
  }
 ]
}