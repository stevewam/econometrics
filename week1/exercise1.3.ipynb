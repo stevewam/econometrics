{
 "metadata": {
  "language_info": {
   "codemirror_mode": {
    "name": "ipython",
    "version": 3
   },
   "file_extension": ".py",
   "mimetype": "text/x-python",
   "name": "R",
   "nbconvert_exporter": "python",
   "pygments_lexer": "ipython3",
   "version": 3
  },
  "orig_nbformat": 4,
  "kernelspec": {
   "name": "ir",
   "display_name": "R",
   "language": "R"
  }
 },
 "nbformat": 4,
 "nbformat_minor": 2,
 "cells": [
  {
   "source": [
    "<h1> Exercise 1.3"
   ],
   "cell_type": "markdown",
   "metadata": {}
  },
  {
   "cell_type": "code",
   "execution_count": 58,
   "metadata": {},
   "outputs": [],
   "source": [
    "data <- read.csv(\"./data/TrainExer13.csv\")"
   ]
  },
  {
   "cell_type": "code",
   "execution_count": 59,
   "metadata": {},
   "outputs": [
    {
     "output_type": "display_data",
     "data": {
      "text/plain": "    ï..Game          Year      Winning.time.men\n Min.   : 1.0   Min.   :1948   Min.   : 9.840  \n 1st Qu.: 4.5   1st Qu.:1962   1st Qu.: 9.935  \n Median : 8.0   Median :1976   Median :10.000  \n Mean   : 8.0   Mean   :1976   Mean   :10.082  \n 3rd Qu.:11.5   3rd Qu.:1990   3rd Qu.:10.225  \n Max.   :15.0   Max.   :2004   Max.   :10.500  "
     },
     "metadata": {}
    }
   ],
   "source": [
    "summary(data)"
   ]
  },
  {
   "source": [
    "<h3>(a) Compute a and b, and determine the values of R^2 and s."
   ],
   "cell_type": "markdown",
   "metadata": {}
  },
  {
   "cell_type": "code",
   "execution_count": 60,
   "metadata": {},
   "outputs": [
    {
     "output_type": "display_data",
     "data": {
      "text/html": "'a = 10.386000'",
      "text/markdown": "'a = 10.386000'",
      "text/latex": "'a = 10.386000'",
      "text/plain": "[1] \"a = 10.386000\""
     },
     "metadata": {}
    },
    {
     "output_type": "display_data",
     "data": {
      "text/html": "'b = -0.038000'",
      "text/markdown": "'b = -0.038000'",
      "text/latex": "'b = -0.038000'",
      "text/plain": "[1] \"b = -0.038000\""
     },
     "metadata": {}
    }
   ],
   "source": [
    "fit <- lm(Winning.time.men ~ ï..Game,data=data)\n",
    "sprintf(\"a = %f\", coef(fit)[1])\n",
    "sprintf(\"b = %f\", coef(fit)[2])"
   ]
  },
  {
   "cell_type": "code",
   "execution_count": 61,
   "metadata": {},
   "outputs": [
    {
     "output_type": "display_data",
     "data": {
      "text/html": "'R^2 = 0.673373'",
      "text/markdown": "'R^2 = 0.673373'",
      "text/latex": "'R\\textasciicircum{}2 = 0.673373'",
      "text/plain": "[1] \"R^2 = 0.673373\""
     },
     "metadata": {}
    },
    {
     "output_type": "display_data",
     "data": {
      "text/html": "'s = 0.122826'",
      "text/markdown": "'s = 0.122826'",
      "text/latex": "'s = 0.122826'",
      "text/plain": "[1] \"s = 0.122826\""
     },
     "metadata": {}
    }
   ],
   "source": [
    "sprintf(\"R^2 = %f\", summary(fit)$r.squared)\n",
    "sprintf(\"s = %f\", summary(fit)$sigma)"
   ]
  },
  {
   "cell_type": "code",
   "execution_count": 62,
   "metadata": {},
   "outputs": [
    {
     "output_type": "stream",
     "name": "stdout",
     "text": [
      "List of 11\n $ call         : language lm(formula = Winning.time.men ~ ï..Game, data = data)\n $ terms        :Classes 'terms', 'formula'  language Winning.time.men ~ ï..Game\n  .. ..- attr(*, \"variables\")= language list(Winning.time.men, ï..Game)\n  .. ..- attr(*, \"factors\")= int [1:2, 1] 0 1\n  .. .. ..- attr(*, \"dimnames\")=List of 2\n  .. .. .. ..$ : chr [1:2] \"Winning.time.men\" \"ï..Game\"\n  .. .. .. ..$ : chr \"ï..Game\"\n  .. ..- attr(*, \"term.labels\")= chr \"ï..Game\"\n  .. ..- attr(*, \"order\")= int 1\n  .. ..- attr(*, \"intercept\")= int 1\n  .. ..- attr(*, \"response\")= int 1\n  .. ..- attr(*, \".Environment\")=<environment: R_GlobalEnv> \n  .. ..- attr(*, \"predvars\")= language list(Winning.time.men, ï..Game)\n  .. ..- attr(*, \"dataClasses\")= Named chr [1:2] \"numeric\" \"numeric\"\n  .. .. ..- attr(*, \"names\")= chr [1:2] \"Winning.time.men\" \"ï..Game\"\n $ residuals    : Named num [1:15] -0.048 0.09 0.228 -0.034 -0.196 ...\n  ..- attr(*, \"names\")= chr [1:15] \"1\" \"2\" \"3\" \"4\" ...\n $ coefficients : num [1:2, 1:4] 10.386 -0.038 0.06674 0.00734 155.62267 ...\n  ..- attr(*, \"dimnames\")=List of 2\n  .. ..$ : chr [1:2] \"(Intercept)\" \"ï..Game\"\n  .. ..$ : chr [1:4] \"Estimate\" \"Std. Error\" \"t value\" \"Pr(>|t|)\"\n $ aliased      : Named logi [1:2] FALSE FALSE\n  ..- attr(*, \"names\")= chr [1:2] \"(Intercept)\" \"ï..Game\"\n $ sigma        : num 0.123\n $ df           : int [1:3] 2 13 2\n $ r.squared    : num 0.673\n $ adj.r.squared: num 0.648\n $ fstatistic   : Named num [1:3] 26.8 1 13\n  ..- attr(*, \"names\")= chr [1:3] \"value\" \"numdf\" \"dendf\"\n $ cov.unscaled : num [1:2, 1:2] 0.29524 -0.02857 -0.02857 0.00357\n  ..- attr(*, \"dimnames\")=List of 2\n  .. ..$ : chr [1:2] \"(Intercept)\" \"ï..Game\"\n  .. ..$ : chr [1:2] \"(Intercept)\" \"ï..Game\"\n - attr(*, \"class\")= chr \"summary.lm\"\n"
     ]
    }
   ],
   "source": [
    "str(summary(fit))"
   ]
  },
  {
   "source": [
    "<h3>(b) Are you confident on the predictive ability of this model? Motivate your answer.\n",
    "\n",
    "The R^2 squared value is 0.68. The model is reliable to a certain extent. \n",
    "\n"
   ],
   "cell_type": "markdown",
   "metadata": {}
  },
  {
   "source": [
    "<h3> (c) What prediction do you get for 2008, 2012, and 2016? Compare your predictions with the actual winning times\n"
   ],
   "cell_type": "markdown",
   "metadata": {}
  },
  {
   "cell_type": "code",
   "execution_count": 63,
   "metadata": {},
   "outputs": [],
   "source": [
    "d1<-data.frame(c(16, 17, 18),c(2008, 2012, 2016), c(9.69, 9.63, 9.80))\n",
    "names(d1)<-names(data)\n",
    "\n",
    "newdata <- rbind(data, d1)"
   ]
  },
  {
   "cell_type": "code",
   "execution_count": 64,
   "metadata": {},
   "outputs": [
    {
     "output_type": "display_data",
     "data": {
      "text/html": "'Prediction for 2008: 9.778000'",
      "text/markdown": "'Prediction for 2008: 9.778000'",
      "text/latex": "'Prediction for 2008: 9.778000'",
      "text/plain": "[1] \"Prediction for 2008: 9.778000\""
     },
     "metadata": {}
    },
    {
     "output_type": "display_data",
     "data": {
      "text/html": "'Prediction for 2012: 9.740000'",
      "text/markdown": "'Prediction for 2012: 9.740000'",
      "text/latex": "'Prediction for 2012: 9.740000'",
      "text/plain": "[1] \"Prediction for 2012: 9.740000\""
     },
     "metadata": {}
    },
    {
     "output_type": "display_data",
     "data": {
      "text/html": "'Prediction for 2016: 9.702000'",
      "text/markdown": "'Prediction for 2016: 9.702000'",
      "text/latex": "'Prediction for 2016: 9.702000'",
      "text/plain": "[1] \"Prediction for 2016: 9.702000\""
     },
     "metadata": {}
    }
   ],
   "source": [
    "pred <- predict(fit, newdata = newdata)\n",
    "newdata$pred <- pred\n",
    "sprintf(\"Prediction for 2008: %f\", newdata[newdata$Year == 2008, ]$pred)\n",
    "sprintf(\"Prediction for 2012: %f\", newdata[newdata$Year == 2012, ]$pred)\n",
    "sprintf(\"Prediction for 2016: %f\", newdata[newdata$Year == 2016, ]$pred)"
   ]
  },
  {
   "cell_type": "code",
   "execution_count": 65,
   "metadata": {},
   "outputs": [
    {
     "output_type": "display_data",
     "data": {
      "text/html": "<table class=\"dataframe\">\n<caption>A data.frame: 18 × 4</caption>\n<thead>\n\t<tr><th scope=col>ï..Game</th><th scope=col>Year</th><th scope=col>Winning.time.men</th><th scope=col>pred</th></tr>\n\t<tr><th scope=col>&lt;dbl&gt;</th><th scope=col>&lt;dbl&gt;</th><th scope=col>&lt;dbl&gt;</th><th scope=col>&lt;dbl&gt;</th></tr>\n</thead>\n<tbody>\n\t<tr><td> 1</td><td>1948</td><td>10.30</td><td>10.348</td></tr>\n\t<tr><td> 2</td><td>1952</td><td>10.40</td><td>10.310</td></tr>\n\t<tr><td> 3</td><td>1956</td><td>10.50</td><td>10.272</td></tr>\n\t<tr><td> 4</td><td>1960</td><td>10.20</td><td>10.234</td></tr>\n\t<tr><td> 5</td><td>1964</td><td>10.00</td><td>10.196</td></tr>\n\t<tr><td> 6</td><td>1968</td><td> 9.95</td><td>10.158</td></tr>\n\t<tr><td> 7</td><td>1972</td><td>10.14</td><td>10.120</td></tr>\n\t<tr><td> 8</td><td>1976</td><td>10.06</td><td>10.082</td></tr>\n\t<tr><td> 9</td><td>1980</td><td>10.25</td><td>10.044</td></tr>\n\t<tr><td>10</td><td>1984</td><td> 9.99</td><td>10.006</td></tr>\n\t<tr><td>11</td><td>1988</td><td> 9.92</td><td> 9.968</td></tr>\n\t<tr><td>12</td><td>1992</td><td> 9.96</td><td> 9.930</td></tr>\n\t<tr><td>13</td><td>1996</td><td> 9.84</td><td> 9.892</td></tr>\n\t<tr><td>14</td><td>2000</td><td> 9.87</td><td> 9.854</td></tr>\n\t<tr><td>15</td><td>2004</td><td> 9.85</td><td> 9.816</td></tr>\n\t<tr><td>16</td><td>2008</td><td> 9.69</td><td> 9.778</td></tr>\n\t<tr><td>17</td><td>2012</td><td> 9.63</td><td> 9.740</td></tr>\n\t<tr><td>18</td><td>2016</td><td> 9.80</td><td> 9.702</td></tr>\n</tbody>\n</table>\n",
      "text/markdown": "\nA data.frame: 18 × 4\n\n| ï..Game &lt;dbl&gt; | Year &lt;dbl&gt; | Winning.time.men &lt;dbl&gt; | pred &lt;dbl&gt; |\n|---|---|---|---|\n|  1 | 1948 | 10.30 | 10.348 |\n|  2 | 1952 | 10.40 | 10.310 |\n|  3 | 1956 | 10.50 | 10.272 |\n|  4 | 1960 | 10.20 | 10.234 |\n|  5 | 1964 | 10.00 | 10.196 |\n|  6 | 1968 |  9.95 | 10.158 |\n|  7 | 1972 | 10.14 | 10.120 |\n|  8 | 1976 | 10.06 | 10.082 |\n|  9 | 1980 | 10.25 | 10.044 |\n| 10 | 1984 |  9.99 | 10.006 |\n| 11 | 1988 |  9.92 |  9.968 |\n| 12 | 1992 |  9.96 |  9.930 |\n| 13 | 1996 |  9.84 |  9.892 |\n| 14 | 2000 |  9.87 |  9.854 |\n| 15 | 2004 |  9.85 |  9.816 |\n| 16 | 2008 |  9.69 |  9.778 |\n| 17 | 2012 |  9.63 |  9.740 |\n| 18 | 2016 |  9.80 |  9.702 |\n\n",
      "text/latex": "A data.frame: 18 × 4\n\\begin{tabular}{llll}\n ï..Game & Year & Winning.time.men & pred\\\\\n <dbl> & <dbl> & <dbl> & <dbl>\\\\\n\\hline\n\t  1 & 1948 & 10.30 & 10.348\\\\\n\t  2 & 1952 & 10.40 & 10.310\\\\\n\t  3 & 1956 & 10.50 & 10.272\\\\\n\t  4 & 1960 & 10.20 & 10.234\\\\\n\t  5 & 1964 & 10.00 & 10.196\\\\\n\t  6 & 1968 &  9.95 & 10.158\\\\\n\t  7 & 1972 & 10.14 & 10.120\\\\\n\t  8 & 1976 & 10.06 & 10.082\\\\\n\t  9 & 1980 & 10.25 & 10.044\\\\\n\t 10 & 1984 &  9.99 & 10.006\\\\\n\t 11 & 1988 &  9.92 &  9.968\\\\\n\t 12 & 1992 &  9.96 &  9.930\\\\\n\t 13 & 1996 &  9.84 &  9.892\\\\\n\t 14 & 2000 &  9.87 &  9.854\\\\\n\t 15 & 2004 &  9.85 &  9.816\\\\\n\t 16 & 2008 &  9.69 &  9.778\\\\\n\t 17 & 2012 &  9.63 &  9.740\\\\\n\t 18 & 2016 &  9.80 &  9.702\\\\\n\\end{tabular}\n",
      "text/plain": "   ï..Game Year Winning.time.men pred  \n1   1      1948 10.30            10.348\n2   2      1952 10.40            10.310\n3   3      1956 10.50            10.272\n4   4      1960 10.20            10.234\n5   5      1964 10.00            10.196\n6   6      1968  9.95            10.158\n7   7      1972 10.14            10.120\n8   8      1976 10.06            10.082\n9   9      1980 10.25            10.044\n10 10      1984  9.99            10.006\n11 11      1988  9.92             9.968\n12 12      1992  9.96             9.930\n13 13      1996  9.84             9.892\n14 14      2000  9.87             9.854\n15 15      2004  9.85             9.816\n16 16      2008  9.69             9.778\n17 17      2012  9.63             9.740\n18 18      2016  9.80             9.702"
     },
     "metadata": {}
    }
   ],
   "source": [
    "newdata"
   ]
  },
  {
   "cell_type": "code",
   "execution_count": null,
   "metadata": {},
   "outputs": [],
   "source": []
  }
 ]
}