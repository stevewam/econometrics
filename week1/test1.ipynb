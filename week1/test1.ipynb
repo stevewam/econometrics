{
 "metadata": {
  "language_info": {
   "name": "R",
   "version": "3.9.0",
   "mimetype": "text/x-python",
   "codemirror_mode": {
    "name": "ipython",
    "version": 3
   },
   "pygments_lexer": "ipython3",
   "nbconvert_exporter": "python",
   "file_extension": ".py"
  },
  "orig_nbformat": 4,
  "kernelspec": {
   "name": "ir",
   "display_name": "R",
   "language": "R"
  },
  "interpreter": {
   "hash": "f072f515e3c5553065c9df26789aad47a13957d7deed1f83531f1ed6793a3a60"
  }
 },
 "nbformat": 4,
 "nbformat_minor": 2,
 "cells": [
  {
   "cell_type": "markdown",
   "source": [
    "<h1> Test Exercise 1"
   ],
   "metadata": {}
  },
  {
   "cell_type": "code",
   "execution_count": 1,
   "source": [
    "data <- read.csv(\"./data/TestExer1.csv\")\r\n",
    "names(data) <- c('Observation', 'Age', 'Expenditure')"
   ],
   "outputs": [],
   "metadata": {}
  },
  {
   "cell_type": "code",
   "execution_count": 2,
   "source": [
    "summary(data)"
   ],
   "outputs": [
    {
     "output_type": "display_data",
     "data": {
      "text/plain": "  Observation         Age         Expenditure   \n Min.   : 1.00   Min.   :15.00   Min.   : 89.0  \n 1st Qu.: 7.25   1st Qu.:35.00   1st Qu.: 96.0  \n Median :13.50   Median :39.50   Median :103.0  \n Mean   :13.50   Mean   :39.35   Mean   :101.1  \n 3rd Qu.:19.75   3rd Qu.:45.75   3rd Qu.:106.8  \n Max.   :26.00   Max.   :57.00   Max.   :109.0  "
     },
     "metadata": {}
    }
   ],
   "metadata": {}
  },
  {
   "cell_type": "markdown",
   "source": [
    "<h3>(a) Use all data to estimate the coefficients a and b in a simple regression model, where expenditures is the dependent variable and age is the explanatory factor. Also compute the standard error and the t-value of b"
   ],
   "metadata": {}
  },
  {
   "cell_type": "code",
   "execution_count": 3,
   "source": [
    "fit <- lm(Expenditure ~ Age,data=data)\r\n",
    "\r\n",
    "sprintf(\"Answer:\")\r\n",
    "sprintf(\"a = %.2f\", coef(fit)[1])\r\n",
    "sprintf(\"b = %.2f\", coef(fit)[2])\r\n",
    "sprintf(\"standard-error = %.2f\", summary(fit)$sigma)\r\n",
    "sprintf(\"t-value of b = %.5f\", coef(summary(fit))[2, \"t value\"])"
   ],
   "outputs": [
    {
     "output_type": "display_data",
     "data": {
      "text/html": "'Answer:'",
      "text/markdown": "'Answer:'",
      "text/latex": "'Answer:'",
      "text/plain": "[1] \"Answer:\""
     },
     "metadata": {}
    },
    {
     "output_type": "display_data",
     "data": {
      "text/html": "'a = 114.24'",
      "text/markdown": "'a = 114.24'",
      "text/latex": "'a = 114.24'",
      "text/plain": "[1] \"a = 114.24\""
     },
     "metadata": {}
    },
    {
     "output_type": "display_data",
     "data": {
      "text/html": "'b = -0.33'",
      "text/markdown": "'b = -0.33'",
      "text/latex": "'b = -0.33'",
      "text/plain": "[1] \"b = -0.33\""
     },
     "metadata": {}
    },
    {
     "output_type": "display_data",
     "data": {
      "text/html": "'standard-error = 5.07'",
      "text/markdown": "'standard-error = 5.07'",
      "text/latex": "'standard-error = 5.07'",
      "text/plain": "[1] \"standard-error = 5.07\""
     },
     "metadata": {}
    },
    {
     "output_type": "display_data",
     "data": {
      "text/html": "'t-value of b = -3.49794'",
      "text/markdown": "'t-value of b = -3.49794'",
      "text/latex": "'t-value of b = -3.49794'",
      "text/plain": "[1] \"t-value of b = -3.49794\""
     },
     "metadata": {}
    }
   ],
   "metadata": {}
  },
  {
   "cell_type": "markdown",
   "source": [
    "<h3>(b) Make the scatter diagram of expenditures against age and add the regression line \r\n",
    "y = a + bx of part (a) in this diagram. What conclusion do you draw from this diagram?</h3>\r\n",
    "\r\n",
    "Answer:\r\n",
    "\r\n",
    "The regression line does not fit the data well. The deviation of sample to the regression line is relatively large. As we have observed in Exercise 1.1, the data possesses different trends for younger and older age group, which the linear regression line unable to capture.\r\n"
   ],
   "metadata": {}
  },
  {
   "cell_type": "code",
   "execution_count": 5,
   "source": [
    "plot(data$Age, data$Expenditure, xlab=\"Age\", ylab=\"Expenditure\")\r\n",
    "abline)fit, col=\"red)\""
   ],
   "outputs": [
    {
     "output_type": "display_data",
     "data": {
      "text/plain": "plot without title",
      "image/png": "[encoded data removed]"
     },
     "metadata": {
      "image/png": {
       "width": 420,
       "height": 420
      }
     }
    }
   ],
   "metadata": {}
  },
  {
   "cell_type": "markdown",
   "source": [
    "<h3> (c) It seems there are two sets of observations in the scatter diagram, one for clients aged 40 or higher and another for clients aged below 40. Divide the sample into these two clusters, and for each cluster estimate the coefficients a and b and determine the standard error and t-value of b"
   ],
   "metadata": {}
  },
  {
   "cell_type": "code",
   "execution_count": 6,
   "source": [
    "below40 <- data[data$Age < 40, ]\r\n",
    "fit1 <- lm(Expenditure ~ Age,data=below40)\r\n",
    "\r\n",
    "sprintf(\"Regression values (for clients below age 40):\")\r\n",
    "sprintf(\"a = %.2f\", coef(fit1)[1])\r\n",
    "sprintf(\"b = %.2f\", coef(fit1)[2])\r\n",
    "sprintf(\"standard-error = %.2f\", summary(fit1)$sigma)\r\n",
    "sprintf(\"t-value of b = %.5f\", coef(summary(fit1))[2, \"t value\"])"
   ],
   "outputs": [
    {
     "output_type": "display_data",
     "data": {
      "text/html": "'Regression values (for clients below age 40):'",
      "text/markdown": "'Regression values (for clients below age 40):'",
      "text/latex": "'Regression values (for clients below age 40):'",
      "text/plain": "[1] \"Regression values (for clients below age 40):\""
     },
     "metadata": {}
    },
    {
     "output_type": "display_data",
     "data": {
      "text/html": "'a = 100.23'",
      "text/markdown": "'a = 100.23'",
      "text/latex": "'a = 100.23'",
      "text/plain": "[1] \"a = 100.23\""
     },
     "metadata": {}
    },
    {
     "output_type": "display_data",
     "data": {
      "text/html": "'b = 0.20'",
      "text/markdown": "'b = 0.20'",
      "text/latex": "'b = 0.20'",
      "text/plain": "[1] \"b = 0.20\""
     },
     "metadata": {}
    },
    {
     "output_type": "display_data",
     "data": {
      "text/html": "'standard-error = 1.15'",
      "text/markdown": "'standard-error = 1.15'",
      "text/latex": "'standard-error = 1.15'",
      "text/plain": "[1] \"standard-error = 1.15\""
     },
     "metadata": {}
    },
    {
     "output_type": "display_data",
     "data": {
      "text/html": "'t-value of b = 4.46045'",
      "text/markdown": "'t-value of b = 4.46045'",
      "text/latex": "'t-value of b = 4.46045'",
      "text/plain": "[1] \"t-value of b = 4.46045\""
     },
     "metadata": {}
    }
   ],
   "metadata": {}
  },
  {
   "cell_type": "code",
   "execution_count": 7,
   "source": [
    "above40 <- data[data$Age >= 40, ]\r\n",
    "fit2 <- lm(Expenditure ~ Age,data=above40)\r\n",
    "\r\n",
    "sprintf(\"Regression values (for clients above age 40):\")\r\n",
    "sprintf(\"a = %.2f\", coef(fit2)[1])\r\n",
    "sprintf(\"b = %.2f\", coef(fit2)[2])\r\n",
    "sprintf(\"standard-error = %.2f\", summary(fit2)$sigma)\r\n",
    "sprintf(\"t-value of b = %.5f\", coef(summary(fit2))[2, \"t value\"])"
   ],
   "outputs": [
    {
     "output_type": "display_data",
     "data": {
      "text/html": "'Regression values (for clients above age 40):'",
      "text/markdown": "'Regression values (for clients above age 40):'",
      "text/latex": "'Regression values (for clients above age 40):'",
      "text/plain": "[1] \"Regression values (for clients above age 40):\""
     },
     "metadata": {}
    },
    {
     "output_type": "display_data",
     "data": {
      "text/html": "'a = 88.87'",
      "text/markdown": "'a = 88.87'",
      "text/latex": "'a = 88.87'",
      "text/plain": "[1] \"a = 88.87\""
     },
     "metadata": {}
    },
    {
     "output_type": "display_data",
     "data": {
      "text/html": "'b = 0.15'",
      "text/markdown": "'b = 0.15'",
      "text/latex": "'b = 0.15'",
      "text/plain": "[1] \"b = 0.15\""
     },
     "metadata": {}
    },
    {
     "output_type": "display_data",
     "data": {
      "text/html": "'standard-error = 3.83'",
      "text/markdown": "'standard-error = 3.83'",
      "text/latex": "'standard-error = 3.83'",
      "text/plain": "[1] \"standard-error = 3.83\""
     },
     "metadata": {}
    },
    {
     "output_type": "display_data",
     "data": {
      "text/html": "'t-value of b = 0.74206'",
      "text/markdown": "'t-value of b = 0.74206'",
      "text/latex": "'t-value of b = 0.74206'",
      "text/plain": "[1] \"t-value of b = 0.74206\""
     },
     "metadata": {}
    }
   ],
   "metadata": {}
  },
  {
   "cell_type": "code",
   "execution_count": 8,
   "source": [
    "plot(data$Age, data$Expenditure, xlab=\"Age\", ylab=\"Expenditure\")\r\n",
    "abline(fit1, col=\"red\")\r\n",
    "abline(fit2, col=\"blue\")"
   ],
   "outputs": [
    {
     "output_type": "display_data",
     "data": {
      "text/plain": "plot without title",
      "image/png": "[encoded data removed]"
     },
     "metadata": {
      "image/png": {
       "width": 420,
       "height": 420
      }
     }
    }
   ],
   "metadata": {}
  },
  {
   "cell_type": "markdown",
   "source": [
    "<h3> d) Discuss and explain the main differences between the outcomes in parts (a) and (c). Describe in words what you have learned from these results.</h3>\r\n",
    "\r\n",
    "In part (a) we fit the all the observations into a single linear regression line. In part (c), we  split the observations into two groups and fit a linear regression to each group separately. The result in (c) provides a much better fit for each group. \r\n",
    "\r\n",
    "Both the groups show that their willingness to spend increases with age. However, in the younger age group, their expenditure has significantly higher baseline than in older age group. This characteristic might be borne out of generational differences. For example, millenials values travel experiences highly and therefore, are willing to spend a majority of their disposable income to travel. On the other hand, baby boomers, who put more attention to financial stability, are usually more conservative in spending their money to travel. As such, the trends in the data seem to be reasonable and correspond to a possible phenomemon in reality."
   ],
   "metadata": {}
  }
 ]
}