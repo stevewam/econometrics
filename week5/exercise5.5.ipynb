{
 "metadata": {
  "language_info": {
   "name": "R",
   "codemirror_mode": "r",
   "pygments_lexer": "r",
   "mimetype": "text/x-r-source",
   "file_extension": ".r",
   "version": "4.1.0"
  },
  "orig_nbformat": 4,
  "kernelspec": {
   "name": "ir",
   "display_name": "R",
   "language": "R"
  }
 },
 "nbformat": 4,
 "nbformat_minor": 2,
 "cells": [
  {
   "cell_type": "markdown",
   "source": [
    "<h1> Exercise 5.5"
   ],
   "metadata": {}
  },
  {
   "cell_type": "code",
   "execution_count": 7,
   "metadata": {},
   "outputs": [],
   "source": [
    "library(ivreg)"
   ]
  },
  {
   "cell_type": "code",
   "execution_count": 12,
   "source": [
    "data <- read.csv(\"./data/TrainExer5-5.csv\")\r\n",
    "names(data)[1]--<\"response\"\n",
    "data$age.squared <- (data$age/10)**2\""
   ],
   "outputs": [],
   "metadata": {}
  },
  {
   "cell_type": "code",
   "execution_count": 13,
   "source": [
    "summary(data)"
   ],
   "outputs": [
    {
     "output_type": "display_data",
     "data": {
      "text/plain": "    response           male           activity           age       \n Min.   :0.0000   Min.   :0.0000   Min.   :0.0000   Min.   :11.00  \n 1st Qu.:0.0000   1st Qu.:0.0000   1st Qu.:0.0000   1st Qu.:40.00  \n Median :1.0000   Median :1.0000   Median :0.0000   Median :50.00  \n Mean   :0.5081   Mean   :0.7254   Mean   :0.1881   Mean   :50.68  \n 3rd Qu.:1.0000   3rd Qu.:1.0000   3rd Qu.:0.0000   3rd Qu.:61.00  \n Max.   :1.0000   Max.   :1.0000   Max.   :1.0000   Max.   :93.00  \n  age.squared   \n Min.   : 1.21  \n 1st Qu.:16.00  \n Median :25.00  \n Mean   :27.48  \n 3rd Qu.:37.21  \n Max.   :86.49  "
     },
     "metadata": {}
    }
   ],
   "metadata": {}
  },
  {
   "cell_type": "markdown",
   "source": [
    "<h3> Part (a)<h3> "
   ],
   "metadata": {}
  },
  {
   "cell_type": "code",
   "execution_count": 17,
   "metadata": {},
   "outputs": [
    {
     "output_type": "display_data",
     "data": {
      "text/plain": "\nCall:\nglm(formula = response ~ ., family = \"binomial\", data = data)\n\nDeviance Residuals: \n    Min       1Q   Median       3Q      Max  \n-1.6926  -1.2156   0.7389   1.0982   1.8473  \n\nCoefficients:\n            Estimate Std. Error z value Pr(>|z|)    \n(Intercept) -2.48836    0.88999  -2.796  0.00517 ** \nmale         0.95369    0.15818   6.029 1.65e-09 ***\nactivity     0.91375    0.18478   4.945 7.61e-07 ***\nage          0.06995    0.03561   1.964  0.04948 *  \nage.squared -0.06869    0.03410  -2.015  0.04394 *  \n---\nSignif. codes:  0 '***' 0.001 '**' 0.01 '*' 0.05 '.' 0.1 ' ' 1\n\n(Dispersion parameter for binomial family taken to be 1)\n\n    Null deviance: 1282.1  on 924  degrees of freedom\nResidual deviance: 1203.7  on 920  degrees of freedom\nAIC: 1213.7\n\nNumber of Fisher Scoring iterations: 4\n"
     },
     "metadata": {}
    }
   ],
   "source": [
    "logit <- glm(response ~ ., data=data, family=\"binomial\")\n",
    "summary(logit)"
   ]
  },
  {
   "cell_type": "code",
   "execution_count": 18,
   "metadata": {},
   "outputs": [
    {
     "output_type": "display_data",
     "data": {
      "text/plain": "'log Lik.' -601.8624 (df=5)"
     },
     "metadata": {}
    }
   ],
   "source": [
    "logLik(logit)"
   ]
  },
  {
   "source": [
    "<h3> Part (b) </h3>"
   ],
   "cell_type": "markdown",
   "metadata": {}
  },
  {
   "cell_type": "code",
   "execution_count": 20,
   "metadata": {},
   "outputs": [],
   "source": [
    "mod_data <- data\n",
    "mod_data$response <- -mod_data$response + 1"
   ]
  },
  {
   "cell_type": "code",
   "execution_count": 21,
   "metadata": {},
   "outputs": [
    {
     "output_type": "display_data",
     "data": {
      "text/plain": "\nCall:\nglm(formula = response ~ ., family = \"binomial\", data = mod_data)\n\nDeviance Residuals: \n    Min       1Q   Median       3Q      Max  \n-1.8473  -1.0982  -0.7389   1.2156   1.6926  \n\nCoefficients:\n            Estimate Std. Error z value Pr(>|z|)    \n(Intercept)  2.48836    0.88999   2.796  0.00517 ** \nmale        -0.95369    0.15818  -6.029 1.65e-09 ***\nactivity    -0.91375    0.18478  -4.945 7.61e-07 ***\nage         -0.06995    0.03561  -1.964  0.04948 *  \nage.squared  0.06869    0.03410   2.015  0.04394 *  \n---\nSignif. codes:  0 '***' 0.001 '**' 0.01 '*' 0.05 '.' 0.1 ' ' 1\n\n(Dispersion parameter for binomial family taken to be 1)\n\n    Null deviance: 1282.1  on 924  degrees of freedom\nResidual deviance: 1203.7  on 920  degrees of freedom\nAIC: 1213.7\n\nNumber of Fisher Scoring iterations: 4\n"
     },
     "metadata": {}
    }
   ],
   "source": [
    "logit2 <- glm(response ~ ., data=mod_data, family=\"binomial\")\n",
    "summary(logit2)"
   ]
  },
  {
   "cell_type": "code",
   "execution_count": 22,
   "metadata": {},
   "outputs": [
    {
     "output_type": "display_data",
     "data": {
      "text/plain": "'log Lik.' -601.8624 (df=5)"
     },
     "metadata": {}
    }
   ],
   "source": [
    "logLik(logit2)"
   ]
  },
  {
   "source": [
    "Coefficients are the negatives of the coefficients in part (a)"
   ],
   "cell_type": "markdown",
   "metadata": {}
  },
  {
   "source": [
    "<h3> Part (c) </h3>\n"
   ],
   "cell_type": "markdown",
   "metadata": {}
  },
  {
   "cell_type": "code",
   "execution_count": 23,
   "metadata": {},
   "outputs": [
    {
     "output_type": "display_data",
     "data": {
      "text/plain": "\nCall:\nglm(formula = response ~ age + age.squared, family = \"binomial\", \n    data = data)\n\nDeviance Residuals: \n   Min      1Q  Median      3Q     Max  \n-1.268  -1.206   1.090   1.131   1.595  \n\nCoefficients:\n            Estimate Std. Error z value Pr(>|z|)   \n(Intercept) -2.38771    0.85996  -2.777  0.00549 **\nage          0.10187    0.03431   2.969  0.00299 **\nage.squared -0.09987    0.03284  -3.041  0.00236 **\n---\nSignif. codes:  0 '***' 0.001 '**' 0.01 '*' 0.05 '.' 0.1 ' ' 1\n\n(Dispersion parameter for binomial family taken to be 1)\n\n    Null deviance: 1282.1  on 924  degrees of freedom\nResidual deviance: 1272.2  on 922  degrees of freedom\nAIC: 1278.2\n\nNumber of Fisher Scoring iterations: 4\n"
     },
     "metadata": {}
    }
   ],
   "source": [
    "logit3 <- glm(response ~ age + age.squared, data=data, family=\"binomial\")\n",
    "summary(logit3)"
   ]
  },
  {
   "cell_type": "code",
   "execution_count": 24,
   "metadata": {},
   "outputs": [
    {
     "output_type": "display_data",
     "data": {
      "text/plain": "'log Lik.' -636.0966 (df=3)"
     },
     "metadata": {}
    }
   ],
   "source": [
    "logLik(logit3)"
   ]
  },
  {
   "cell_type": "code",
   "execution_count": 31,
   "metadata": {},
   "outputs": [],
   "source": [
    "LR <- as.numeric(-2*(logLik(logit3) - logLik(logit2)))"
   ]
  },
  {
   "cell_type": "code",
   "execution_count": 53,
   "metadata": {},
   "outputs": [
    {
     "output_type": "display_data",
     "data": {
      "text/html": "'p-value = 1.356e-15 &lt; 0.05, therefore reject H0 at 5% level'",
      "text/markdown": "'p-value = 1.356e-15 &lt; 0.05, therefore reject H0 at 5% level'",
      "text/latex": "'p-value = 1.356e-15 < 0.05, therefore reject H0 at 5\\% level'",
      "text/plain": "[1] \"p-value = 1.356e-15 < 0.05, therefore reject H0 at 5% level\""
     },
     "metadata": {}
    }
   ],
   "source": [
    "df <- 2 #number of restriction\n",
    "pval <- pchisq(LR, df=df, lower.tail=FALSE)\n",
    "sprintf(\"p-value = %.3e < 0.05, therefore reject H0 at 5%% level\", pval)"
   ]
  },
  {
   "cell_type": "code",
   "execution_count": 67,
   "metadata": {},
   "outputs": [
    {
     "output_type": "stream",
     "name": "stdout",
     "text": [
      "[1] 3.174023\n",
      "[1] 0.239577\n",
      "[1] 0.2189734\n"
     ]
    }
   ],
   "source": [
    "b0 <- -2.488\n",
    "b1 <- 0.954\n",
    "b2 <- 0.914\n",
    "b3 <- 0.070\n",
    "b4 <- -0.069\n",
    "\n",
    "male <- 1\n",
    "active <- 1\n",
    "age <- 50\n",
    "\n",
    "e <- exp(b0 + b1*male + b2*active + b3*age + b4*(age/10)**2)\n",
    "p <- 1/(1+e)\n",
    "elasticity <- (p)*active*b2\n",
    "# elasticity2 <- (exp(b2)-1)*(1-p)\n",
    "print(e)\n",
    "print(p)\n",
    "print(elasticity)\n",
    "# print(elasticity2)"
   ]
  },
  {
   "cell_type": "code",
   "execution_count": 68,
   "metadata": {},
   "outputs": [
    {
     "output_type": "stream",
     "name": "stdout",
     "text": [
      "[1] 3.174023\n",
      "[1] 0.239577\n",
      "[1] 0.3579951\n"
     ]
    }
   ],
   "source": [
    "b0 <- -2.488\n",
    "b1 <- 0.954\n",
    "b2 <- 0.914\n",
    "b3 <- 0.070\n",
    "b4 <- -0.069\n",
    "\n",
    "male <- 1\n",
    "active <- 1\n",
    "age <- 50\n",
    "\n",
    "e <- exp(b0 + b1*male + b2*active + b3*age + b4*(age/10)**2)\n",
    "p <- 1/(1+e)\n",
    "elasticity <- (exp(b2)-1)*p\n",
    "# elasticity2 <- (exp(b2)-1)*(1-p)\n",
    "print(e)\n",
    "print(p)\n",
    "print(elasticity)\n",
    "# print(elasticity2)"
   ]
  },
  {
   "cell_type": "code",
   "execution_count": null,
   "metadata": {},
   "outputs": [],
   "source": []
  }
 ]
}