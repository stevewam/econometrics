{
 "metadata": {
  "language_info": {
   "name": "R",
   "codemirror_mode": "r",
   "pygments_lexer": "r",
   "mimetype": "text/x-r-source",
   "file_extension": ".r",
   "version": "4.1.0"
  },
  "orig_nbformat": 4,
  "kernelspec": {
   "name": "ir",
   "display_name": "R",
   "language": "R"
  }
 },
 "nbformat": 4,
 "nbformat_minor": 2,
 "cells": [
  {
   "cell_type": "markdown",
   "source": [
    "<h1> Exercise 3.5"
   ],
   "metadata": {}
  },
  {
   "cell_type": "code",
   "execution_count": 3,
   "source": [
    "data <- read.csv(\"./data/TrainExer 3-5.csv\")\r\n",
    "names(data)[1] <- \"Observation\""
   ],
   "outputs": [],
   "metadata": {}
  },
  {
   "cell_type": "code",
   "execution_count": 4,
   "source": [
    "summary(data)"
   ],
   "outputs": [
    {
     "output_type": "display_data",
     "data": {
      "text/plain": "  Observation       Index           Dividends         Riskfree      \n Min.   :1927   Min.   :   6.89   Min.   : 0.440   Min.   :0.00010  \n 1st Qu.:1948   1st Qu.:  20.93   1st Qu.: 1.060   1st Qu.:0.00925  \n Median :1970   Median :  92.43   Median : 3.140   Median :0.03060  \n Mean   :1970   Mean   : 336.76   Mean   : 7.391   Mean   :0.03566  \n 3rd Qu.:1992   3rd Qu.: 426.40   3rd Qu.:12.290   3rd Qu.:0.05180  \n Max.   :2013   Max.   :1848.36   Max.   :34.990   Max.   :0.15490  \n   LogEqPrem          BookMarket          NTIS              DivPrice     \n Min.   :-0.56374   Min.   :0.1312   Min.   :-0.041811   Min.   :-4.478  \n 1st Qu.:-0.03466   1st Qu.:0.3577   1st Qu.: 0.008141   1st Qu.:-3.556  \n Median : 0.08037   Median :0.5547   Median : 0.017962   Median :-3.334  \n Mean   : 0.05975   Mean   :0.5737   Mean   : 0.018630   Mean   :-3.354  \n 3rd Qu.: 0.20006   3rd Qu.:0.7311   3rd Qu.: 0.027075   3rd Qu.:-3.026  \n Max.   : 0.42221   Max.   :1.4421   Max.   : 0.165576   Max.   :-2.293  \n   EarnPrice        Inflation       \n Min.   :-4.106   Min.   :-0.10358  \n 1st Qu.:-2.920   1st Qu.: 0.01485  \n Median :-2.768   Median : 0.02744  \n Mean   :-2.725   Mean   : 0.03072  \n 3rd Qu.:-2.462   3rd Qu.: 0.04246  \n Max.   :-1.893   Max.   : 0.17870  "
     },
     "metadata": {}
    }
   ],
   "metadata": {}
  },
  {
   "source": [
    "Index -> Index+Dividends -> change in log(Index+Dividends) -> (1-Riskfree)change in log((1+Dividends)*Index) -> LogEqPrem"
   ],
   "cell_type": "markdown",
   "metadata": {}
  },
  {
   "cell_type": "markdown",
   "source": [
    "<h3>(a) Replicate the R^2 values of slide 7 from lecture 3.5. In particular, show that a regression of the log equity premium (the variable LogEqPrem in the data file) on a constant and all five explanatory variables gives an $R^2$ of 10.8%, and that a regression of the log equity premium on a constant and only book-to-market gives an R^2 of 6.3%. Then, based on these values, argue whether the additional four variables are significant when\n",
    "comparing the full with the book-to-market only model. </h3> "
   ],
   "metadata": {}
  },
  {
   "cell_type": "code",
   "execution_count": 7,
   "metadata": {},
   "outputs": [
    {
     "output_type": "display_data",
     "data": {
      "text/html": "'R-squared for full model: 0.108'",
      "text/markdown": "'R-squared for full model: 0.108'",
      "text/latex": "'R-squared for full model: 0.108'",
      "text/plain": "[1] \"R-squared for full model: 0.108\""
     },
     "metadata": {}
    }
   ],
   "source": [
    "fit <- lm(LogEqPrem ~ BookMarket + NTIS + DivPrice + EarnPrice + Inflation, data=data)\n",
    "sprintf(\"R-squared for full model: %.3f\", summary(fit)$r.squared)"
   ]
  },
  {
   "cell_type": "code",
   "execution_count": 8,
   "metadata": {},
   "outputs": [
    {
     "output_type": "display_data",
     "data": {
      "text/html": "'R-squared for book-to-market model: 0.063'",
      "text/markdown": "'R-squared for book-to-market model: 0.063'",
      "text/latex": "'R-squared for book-to-market model: 0.063'",
      "text/plain": "[1] \"R-squared for book-to-market model: 0.063\""
     },
     "metadata": {}
    }
   ],
   "source": [
    "fit2 <- lm(LogEqPrem ~ BookMarket, data=data)\n",
    "sprintf(\"R-squared for book-to-market model: %.3f\", summary(fit2)$r.squared)"
   ]
  },
  {
   "cell_type": "code",
   "execution_count": 19,
   "metadata": {},
   "outputs": [
    {
     "output_type": "display_data",
     "data": {
      "text/html": "'F-test value = 1.025'",
      "text/markdown": "'F-test value = 1.025'",
      "text/latex": "'F-test value = 1.025'",
      "text/plain": "[1] \"F-test value = 1.025\""
     },
     "metadata": {}
    },
    {
     "output_type": "display_data",
     "data": {
      "text/html": "'p-value = 0.399'",
      "text/markdown": "'p-value = 0.399'",
      "text/latex": "'p-value = 0.399'",
      "text/plain": "[1] \"p-value = 0.399\""
     },
     "metadata": {}
    }
   ],
   "source": [
    "k <- 6 #5 + 1 constant\n",
    "g <- 4\n",
    "n <- nrow(data)\n",
    "Ftest <- (summary(fit)$r.squared - summary(fit2)$r.squared)*(n-k)/g/(1 - summary(fit)$r.squared)\n",
    "sprintf(\"F-test value = %.3f\", Ftest)\n",
    "sprintf(\"p-value = %.3f\", 1 - pf(Ftest, g, n-k))"
   ]
  },
  {
   "source": [
    "P-value > 0.05. Therefore, do not reject $H_0$"
   ],
   "cell_type": "markdown",
   "metadata": {}
  },
  {
   "source": [
    "<h3>(b) Replicate the RESET statistic of slide 8 of Lecture 3.5. Proceed in the following steps. First regress the log equity premium on a constant and the book-to-market ratio. Then store the fitted log equity premium based on the output from this regression. Finally, regress the log equity premium on a constant, the book-to-market ratio, and the square of the fitted log equity premium that was stored in the previous step. The RESET test statistic is the statistic of an F-test on the fitted log equity premium parameter."
   ],
   "cell_type": "markdown",
   "metadata": {}
  },
  {
   "cell_type": "code",
   "execution_count": 35,
   "metadata": {},
   "outputs": [],
   "source": [
    "data$Pred <- predict(fit2)**2"
   ]
  },
  {
   "cell_type": "code",
   "execution_count": 45,
   "source": [
    "fit3 <- lm(LogEqPrem ~ BookMarket + Pred, data=data)"
   ],
   "outputs": [],
   "metadata": {}
  },
  {
   "cell_type": "code",
   "execution_count": 46,
   "metadata": {},
   "outputs": [
    {
     "output_type": "display_data",
     "data": {
      "text/html": "'F-test value = 3.282'",
      "text/markdown": "'F-test value = 3.282'",
      "text/latex": "'F-test value = 3.282'",
      "text/plain": "[1] \"F-test value = 3.282\""
     },
     "metadata": {}
    },
    {
     "output_type": "display_data",
     "data": {
      "text/html": "'p-value = 0.074'",
      "text/markdown": "'p-value = 0.074'",
      "text/latex": "'p-value = 0.074'",
      "text/plain": "[1] \"p-value = 0.074\""
     },
     "metadata": {}
    }
   ],
   "source": [
    "k <- 6 #5 + 1 constant\n",
    "p <- 1\n",
    "n <- nrow(data)\n",
    "Ftest2 <- (sum(summary(fit2)$residuals**2) - sum(summary(fit3)$residuals**2))*(n-k-p)/p/(sum(summary(fit3)$residuals**2))\n",
    "sprintf(\"F-test value = %.3f\", Ftest2)\n",
    "sprintf(\"p-value = %.3f\", 1 - pf(Ftest2, p, n-k-p))"
   ]
  },
  {
   "source": [
    "P-value > 0.05. Therefore, do not reject $H_0$"
   ],
   "cell_type": "markdown",
   "metadata": {}
  },
  {
   "cell_type": "markdown",
   "source": [
    "<h3>(c) Replicate the Chow break statistic of slide 8 of Lecture 3.5. Proceed in the following steps. First regress the log equity premium on a constant and the book-to-market ratio and store the sum of squared residuals.  Then perform the same regression for both the subsample of observations over 1927-1979, and the subsample of observations over 1980-2013. For both regressions, store the sum of squared residuals. Use these sum of squared residuals to calculate the Chow break statistic.\n",
    "</h3>"
   ],
   "metadata": {}
  },
  {
   "cell_type": "code",
   "execution_count": 41,
   "metadata": {},
   "outputs": [],
   "source": [
    "e_restricted <- sum(summary(fit2)$residuals**2)"
   ]
  },
  {
   "cell_type": "code",
   "execution_count": 49,
   "source": [
    "data_1 <- data[data$Observation < 1980,]\n",
    "fit4 <- lm(LogEqPrem ~ BookMarket, data=data_1)\n",
    "e_1 <- sum(summary(fit4)$residuals**2)"
   ],
   "outputs": [],
   "metadata": {}
  },
  {
   "cell_type": "code",
   "execution_count": 50,
   "metadata": {},
   "outputs": [],
   "source": [
    "data_2 <- data[data$Observation >= 1980,]\n",
    "fit5 <- lm(LogEqPrem ~ BookMarket, data=data_2)\n",
    "e_2 <- sum(summary(fit5)$residuals**2)"
   ]
  },
  {
   "cell_type": "code",
   "execution_count": 51,
   "source": [
    "e_unrestricted <- e_1 + e_2"
   ],
   "outputs": [],
   "metadata": {}
  },
  {
   "cell_type": "code",
   "execution_count": 54,
   "metadata": {},
   "outputs": [
    {
     "output_type": "display_data",
     "data": {
      "text/html": "'F-test value = 2.269'",
      "text/markdown": "'F-test value = 2.269'",
      "text/latex": "'F-test value = 2.269'",
      "text/plain": "[1] \"F-test value = 2.269\""
     },
     "metadata": {}
    },
    {
     "output_type": "display_data",
     "data": {
      "text/html": "'p-value = 0.110'",
      "text/markdown": "'p-value = 0.110'",
      "text/latex": "'p-value = 0.110'",
      "text/plain": "[1] \"p-value = 0.110\""
     },
     "metadata": {}
    }
   ],
   "source": [
    "k <- 2\n",
    "n <- nrow(data)\n",
    "Ftest3 <- (e_restricted - e_unrestricted)*(n-2*k)/k/(e_unrestricted)\n",
    "sprintf(\"F-test value = %.3f\", Ftest3)\n",
    "sprintf(\"p-value = %.3f\", 1 - pf(Ftest3, k, n-2*k))"
   ]
  },
  {
   "source": [
    "P-value > 0.05. Therefore, do not reject $H_0$"
   ],
   "cell_type": "markdown",
   "metadata": {}
  },
  {
   "source": [
    "<h3> (d) Replicate the Chow forecast statistic of slide 8 of Lecture 3.5. No new regression is required, you should be able to base this result on the regressions you have run so far </h3>"
   ],
   "cell_type": "markdown",
   "metadata": {}
  },
  {
   "cell_type": "code",
   "execution_count": 56,
   "metadata": {},
   "outputs": [
    {
     "output_type": "display_data",
     "data": {
      "text/html": "'F-test value = 0.765'",
      "text/markdown": "'F-test value = 0.765'",
      "text/latex": "'F-test value = 0.765'",
      "text/plain": "[1] \"F-test value = 0.765\""
     },
     "metadata": {}
    },
    {
     "output_type": "display_data",
     "data": {
      "text/html": "'p-value = 0.794'",
      "text/markdown": "'p-value = 0.794'",
      "text/latex": "'p-value = 0.794'",
      "text/plain": "[1] \"p-value = 0.794\""
     },
     "metadata": {}
    }
   ],
   "source": [
    "k <- 2\n",
    "n_1 <- nrow(data_1)\n",
    "n_2 <- nrow(data_2)\n",
    "Ftest4 <- (e_restricted - e_1)*(n_1-k)/n_2/(e_1)\n",
    "sprintf(\"F-test value = %.3f\", Ftest4)\n",
    "sprintf(\"p-value = %.3f\", 1 - pf(Ftest4, n_2, n_1-k))"
   ]
  },
  {
   "source": [
    "P-value > 0.05. Therefore, do not reject $H_0$"
   ],
   "cell_type": "markdown",
   "metadata": {}
  },
  {
   "cell_type": "code",
   "execution_count": null,
   "metadata": {},
   "outputs": [],
   "source": []
  }
 ]
}