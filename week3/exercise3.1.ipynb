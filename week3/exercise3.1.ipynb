{
 "metadata": {
  "language_info": {
   "name": "R",
   "codemirror_mode": "r",
   "pygments_lexer": "r",
   "mimetype": "text/x-r-source",
   "file_extension": ".r",
   "version": "4.1.0"
  },
  "orig_nbformat": 4,
  "kernelspec": {
   "name": "ir",
   "display_name": "R",
   "language": "R"
  }
 },
 "nbformat": 4,
 "nbformat_minor": 2,
 "cells": [
  {
   "cell_type": "markdown",
   "source": [
    "<h1> Exercise 3.1"
   ],
   "metadata": {}
  },
  {
   "cell_type": "code",
   "execution_count": 40,
   "source": [
    "data <- read.csv(\"./data/TrainExer 3-1.csv\")\r\n",
    "names(data)[1] <- \"Observation\n",
    "# data$Index <- as.double(data$Index)\""
   ],
   "outputs": [],
   "metadata": {}
  },
  {
   "cell_type": "code",
   "execution_count": 41,
   "metadata": {},
   "outputs": [],
   "source": [
    "data$ChangeLogIndex <- c(NA, diff(log(data$Index)))\n",
    "data <- na.omit(data)"
   ]
  },
  {
   "cell_type": "code",
   "execution_count": 42,
   "source": [
    "summary(data)"
   ],
   "outputs": [
    {
     "output_type": "display_data",
     "data": {
      "text/plain": "  Observation       Index           Dividends         Riskfree       \n Min.   :1928   Min.   :   6.89   Min.   : 0.440   Min.   :0.000100  \n 1st Qu.:1949   1st Qu.:  22.03   1st Qu.: 1.208   1st Qu.:0.009125  \n Median :1970   Median :  93.77   Median : 3.145   Median :0.030500  \n Mean   :1970   Mean   : 340.47   Mean   : 7.468   Mean   :0.035708  \n 3rd Qu.:1992   3rd Qu.: 431.06   3rd Qu.:12.335   3rd Qu.:0.051900  \n Max.   :2013   Max.   :1848.36   Max.   :34.990   Max.   :0.154900  \n   LogEqPrem          BookMarket          NTIS              DivPrice     \n Min.   :-0.56374   Min.   :0.1312   Min.   :-0.041811   Min.   :-4.478  \n 1st Qu.:-0.03818   1st Qu.:0.3574   1st Qu.: 0.007789   1st Qu.:-3.558  \n Median : 0.07705   Median :0.5573   Median : 0.017585   Median :-3.342  \n Mean   : 0.05718   Mean   :0.5760   Mean   : 0.017987   Mean   :-3.356  \n 3rd Qu.: 0.19690   3rd Qu.:0.7321   3rd Qu.: 0.026973   3rd Qu.:-3.022  \n Max.   : 0.42221   Max.   :1.4421   Max.   : 0.165576   Max.   :-2.293  \n   EarnPrice        Inflation        ChangeLogIndex    \n Min.   :-4.106   Min.   :-0.10358   Min.   :-0.63613  \n 1st Qu.:-2.922   1st Qu.: 0.01496   1st Qu.:-0.06619  \n Median :-2.779   Median : 0.02798   Median : 0.10007  \n Mean   :-2.725   Mean   : 0.03132   Mean   : 0.05408  \n 3rd Qu.:-2.460   3rd Qu.: 0.04328   3rd Qu.: 0.19390  \n Max.   :-1.893   Max.   : 0.17870   Max.   : 0.38246  "
     },
     "metadata": {}
    }
   ],
   "metadata": {}
  },
  {
   "cell_type": "markdown",
   "source": [
    "<h3>(a) Use dataset TrainExer31 to regress the change in the log of the S&P500 index on a constant and the book-tomarket ratio, and check the result presented in Lecture 3.1 that<br><br>\n",
    "\n",
    "change in log(SP500 index) = 0.177 − 0.213 × Book-to-market + e.\n"
   ],
   "metadata": {}
  },
  {
   "cell_type": "code",
   "execution_count": 59,
   "source": [
    "fit <- lm(ChangeLogIndex ~ BookMarket, data=data)\r\n",
    "sprintf(\"Regression line:change in  logSP500 indexe) = %32f - %32Book-to-markete + e\", coef(fit)[1], -1*coef(fit)[2])"
   ],
   "outputs": [
    {
     "output_type": "display_data",
     "data": {
      "text/html": "'Regression line: change in log(SP500 index) = 0.177 - 0.213Book-to-market + e'",
      "text/markdown": "'Regression line: change in log(SP500 index) = 0.177 - 0.213Book-to-market + e'",
      "text/latex": "'Regression line: change in log(SP500 index) = 0.177 - 0.213Book-to-market + e'",
      "text/plain": "[1] \"Regression line: change in log(SP500 index) = 0.177 - 0.213Book-to-market + e\""
     },
     "metadata": {}
    }
   ],
   "metadata": {}
  },
  {
   "cell_type": "markdown",
   "source": [
    "<h3>(b) Now regress the S&P500 index (without any kind of transformation) on a constant and the book-to-market\n",
    "ratio. Consider whether the effect of book-to-market on the index is significant in this specification.\n",
    "\n",
    "p-value for BookMarket on Index is < 0.01, therefore it is significant\n"
   ],
   "metadata": {}
  },
  {
   "cell_type": "code",
   "execution_count": 60,
   "metadata": {},
   "outputs": [
    {
     "output_type": "display_data",
     "data": {
      "text/html": "'Regression line: SP500 index = 1052.974 - 1236.949Book-to-market + e'",
      "text/markdown": "'Regression line: SP500 index = 1052.974 - 1236.949Book-to-market + e'",
      "text/latex": "'Regression line: SP500 index = 1052.974 - 1236.949Book-to-market + e'",
      "text/plain": "[1] \"Regression line: SP500 index = 1052.974 - 1236.949Book-to-market + e\""
     },
     "metadata": {}
    },
    {
     "output_type": "display_data",
     "data": {
      "text/plain": "\nCall:\nlm(formula = Index ~ BookMarket, data = data)\n\nResiduals:\n   Min     1Q Median     3Q    Max \n-707.4 -251.8 -120.6  238.1 1171.9 \n\nCoefficients:\n            Estimate Std. Error t value Pr(>|t|)    \n(Intercept)  1052.97      94.91  11.095  < 2e-16 ***\nBookMarket  -1236.95     150.06  -8.243 1.97e-12 ***\n---\nSignif. codes:  0 '***' 0.001 '**' 0.01 '*' 0.05 '.' 0.1 ' ' 1\n\nResidual standard error: 363.4 on 84 degrees of freedom\nMultiple R-squared:  0.4472,\tAdjusted R-squared:  0.4406 \nF-statistic: 67.95 on 1 and 84 DF,  p-value: 1.974e-12\n"
     },
     "metadata": {}
    }
   ],
   "source": [
    "fit2 <- lm(Index ~ BookMarket, data=data)\n",
    "sprintf(\"Regression line: SP500 index = %.3f - %.3fBook-to-market + e\", coef(fit2)[1], -1*coef(fit2)[2])\n",
    "summary(fit2)"
   ]
  },
  {
   "cell_type": "markdown",
   "source": [
    "<h3>(c) Make a plot of the residuals e from both question (a) and (b) and comment on the difference. </h3>\n",
    "\n",
    "Residuals for (a) is linear and more distributed, while the residuals for (b)follows a pattern.n"
   ],
   "metadata": {}
  },
  {
   "cell_type": "code",
   "execution_count": 65,
   "source": [
    "plot(data$Observation, fit$residuals)"
   ],
   "outputs": [
    {
     "output_type": "display_data",
     "data": {
      "text/plain": "plot without title",
      "image/png": "[encoded data removed]"
     },
     "metadata": {
      "image/png": {
       "width": 420,
       "height": 420
      }
     }
    }
   ],
   "metadata": {}
  },
  {
   "cell_type": "code",
   "execution_count": 67,
   "metadata": {},
   "outputs": [
    {
     "output_type": "display_data",
     "data": {
      "text/plain": "plot without title",
      "image/png": "[encoded data removed]"
     },
     "metadata": {
      "image/png": {
       "width": 420,
       "height": 420
      }
     }
    }
   ],
   "source": [
    "plot(data$Observation, fit2$residuals)"
   ]
  },
  {
   "cell_type": "code",
   "execution_count": null,
   "metadata": {},
   "outputs": [],
   "source": []
  }
 ]
}