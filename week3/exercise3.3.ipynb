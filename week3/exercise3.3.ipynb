{
 "metadata": {
  "language_info": {
   "name": "R",
   "codemirror_mode": "r",
   "pygments_lexer": "r",
   "mimetype": "text/x-r-source",
   "file_extension": ".r",
   "version": "4.1.0"
  },
  "orig_nbformat": 4,
  "kernelspec": {
   "name": "ir",
   "display_name": "R",
   "language": "R"
  }
 },
 "nbformat": 4,
 "nbformat_minor": 2,
 "cells": [
  {
   "cell_type": "markdown",
   "source": [
    "<h1> Exercise 3.3"
   ],
   "metadata": {}
  },
  {
   "cell_type": "code",
   "execution_count": 5,
   "source": [
    "data <- read.csv(\"./data/TrainExer 3-3.csv\")\r\n",
    "names(data)[1] <- \"Observation\""
   ],
   "outputs": [],
   "metadata": {}
  },
  {
   "cell_type": "code",
   "execution_count": 6,
   "metadata": {},
   "outputs": [],
   "source": [
    "data$ChangeLogIndex <- c(NA, diff(log(data$Index)))\n",
    "data <- na.omit(data)"
   ]
  },
  {
   "cell_type": "code",
   "execution_count": 7,
   "source": [
    "summary(data)"
   ],
   "outputs": [
    {
     "output_type": "display_data",
     "data": {
      "text/plain": "  Observation       Index           Dividends         Riskfree       \n Min.   :1928   Min.   :   6.89   Min.   : 0.440   Min.   :0.000100  \n 1st Qu.:1949   1st Qu.:  22.03   1st Qu.: 1.208   1st Qu.:0.009125  \n Median :1970   Median :  93.77   Median : 3.145   Median :0.030500  \n Mean   :1970   Mean   : 340.47   Mean   : 7.468   Mean   :0.035708  \n 3rd Qu.:1992   3rd Qu.: 431.06   3rd Qu.:12.335   3rd Qu.:0.051900  \n Max.   :2013   Max.   :1848.36   Max.   :34.990   Max.   :0.154900  \n   LogEqPrem          BookMarket          NTIS              DivPrice     \n Min.   :-0.56374   Min.   :0.1312   Min.   :-0.041811   Min.   :-4.478  \n 1st Qu.:-0.03818   1st Qu.:0.3574   1st Qu.: 0.007789   1st Qu.:-3.558  \n Median : 0.07705   Median :0.5573   Median : 0.017585   Median :-3.342  \n Mean   : 0.05718   Mean   :0.5760   Mean   : 0.017987   Mean   :-3.356  \n 3rd Qu.: 0.19690   3rd Qu.:0.7321   3rd Qu.: 0.026973   3rd Qu.:-3.022  \n Max.   : 0.42221   Max.   :1.4421   Max.   : 0.165576   Max.   :-2.293  \n   EarnPrice        Inflation        ChangeLogIndex    \n Min.   :-4.106   Min.   :-0.10358   Min.   :-0.63613  \n 1st Qu.:-2.922   1st Qu.: 0.01496   1st Qu.:-0.06619  \n Median :-2.779   Median : 0.02798   Median : 0.10007  \n Mean   :-2.725   Mean   : 0.03132   Mean   : 0.05408  \n 3rd Qu.:-2.460   3rd Qu.: 0.04328   3rd Qu.: 0.19390  \n Max.   :-1.893   Max.   : 0.17870   Max.   : 0.38246  "
     },
     "metadata": {}
    }
   ],
   "metadata": {}
  },
  {
   "cell_type": "markdown",
   "source": [
    "<h3>(a) In Lecture 3.1 we took the first difference of the logarithmic transformed series. These two transformations\n",
    "combined provide the interpretation of being an (approximate) growth rate. Show this. </h3>"
   ],
   "metadata": {}
  },
  {
   "source": [
    "\n",
    "By principle: <br>\n",
    "$\\log(1+x) \\approx x$ <br><br>\n",
    "Proof: <br>\n",
    "$\\log(a) - \\log(b) = \\log(a/b) = log(1 + (a-b)/b) \\approx (a-b)/b$<br>\n",
    "Where $a = y_i, \\; b = y_{i-1}$"
   ],
   "cell_type": "markdown",
   "metadata": {}
  },
  {
   "source": [
    "<h3>(b) Use dataset TrainExer33 to regress the change in the log of the S&P500 index on a constant, the book-to-market ratio, and the square of the book-to-market ratio. Is the relationship between the index and book-to-market quadratic?\n",
    "</h3>\n",
    "\n",
    "The coefficient for the quadratic term is not significant as p-value is > 0.1. Therefore, there is not quadratic relationship between index and book-to-market quadratic."
   ],
   "cell_type": "markdown",
   "metadata": {}
  },
  {
   "cell_type": "code",
   "execution_count": 9,
   "metadata": {},
   "outputs": [],
   "source": [
    "data$BookMarketSq <- data$BookMarket**2"
   ]
  },
  {
   "cell_type": "code",
   "execution_count": 13,
   "source": [
    "fit <- lm(ChangeLogIndex ~ BookMarket + BookMarketSq, data=data)\n",
    "sprintf(\"Regression line: change in log(SP500 index) = %.3f + %.3fBook-to-market - %.3fBook-to-market^2 + e\", coef(fit)[1], coef(fit)[2], -1*coef(fit)[3])\n",
    "summary(fit))"
   ],
   "outputs": [
    {
     "output_type": "display_data",
     "data": {
      "text/html": "'Regression line: change in log(SP500 index) = 0.056 + 0.237Book-to-market - 0.347Book-to-market^2 + e'",
      "text/markdown": "'Regression line: change in log(SP500 index) = 0.056 + 0.237Book-to-market - 0.347Book-to-market^2 + e'",
      "text/latex": "'Regression line: change in log(SP500 index) = 0.056 + 0.237Book-to-market - 0.347Book-to-market\\textasciicircum{}2 + e'",
      "text/plain": "[1] \"Regression line: change in log(SP500 index) = 0.056 + 0.237Book-to-market - 0.347Book-to-market^2 + e\""
     },
     "metadata": {}
    },
    {
     "output_type": "display_data",
     "data": {
      "text/plain": "\nCall:\nlm(formula = ChangeLogIndex ~ BookMarket + BookMarketSq, data = data)\n\nResiduals:\n     Min       1Q   Median       3Q      Max \n-0.58262 -0.10271  0.03059  0.14504  0.36806 \n\nCoefficients:\n             Estimate Std. Error t value Pr(>|t|)\n(Intercept)   0.05633    0.08900   0.633    0.528\nBookMarket    0.23684    0.28699   0.825    0.412\nBookMarketSq -0.34668    0.21266  -1.630    0.107\n\nResidual standard error: 0.1894 on 83 degrees of freedom\nMultiple R-squared:  0.1085,\tAdjusted R-squared:  0.08701 \nF-statistic:  5.05 on 2 and 83 DF,  p-value: 0.008517\n"
     },
     "metadata": {}
    }
   ],
   "metadata": {}
  },
  {
   "cell_type": "markdown",
   "source": [
    "<h3>(c) Define a dummy that is 1 for 1980 and all following years. Regress the change in the log of the S&P500 index on a constant, the book-to-market ratio, and an interaction between the book-to-market ratio and the just-defined dummy. Is the relationship between the index and book-to-market stable over the pre- and post-1980 period?</h3>\n",
    "\n",
    "p-value for the interaction variable between book-to-market ratio and the newly defined dummy variable is not significant. The relationship between the index and the book-to-market is stable over all time periods."
   ],
   "metadata": {}
  },
  {
   "cell_type": "code",
   "execution_count": 17,
   "metadata": {},
   "outputs": [],
   "source": [
    "data$YearDummyXBookMarket <- (data$Observation >= 1980)*data$BookMarket"
   ]
  },
  {
   "cell_type": "code",
   "execution_count": 19,
   "source": [
    "fit2 <- lm(ChangeLogIndex ~ BookMarket + YearDummyXBookMarket, data=data)\n",
    "sprintf(\"Regression line: change in log(SP500 index) = %.3f - %.3fBook-to-market + %.3fBook-to-market*YearDummy + e\", coef(fit2)[1], -1*coef(fit2)[2], coef(fit2)[3])\n",
    "summary(fit2)fit1)"
   ],
   "outputs": [
    {
     "output_type": "display_data",
     "data": {
      "text/html": "'Regression line: change in log(SP500 index) = 0.166 - 0.208Book-to-market + 0.049Book-to-market*YearDummy + e'",
      "text/markdown": "'Regression line: change in log(SP500 index) = 0.166 - 0.208Book-to-market + 0.049Book-to-market*YearDummy + e'",
      "text/latex": "'Regression line: change in log(SP500 index) = 0.166 - 0.208Book-to-market + 0.049Book-to-market*YearDummy + e'",
      "text/plain": "[1] \"Regression line: change in log(SP500 index) = 0.166 - 0.208Book-to-market + 0.049Book-to-market*YearDummy + e\""
     },
     "metadata": {}
    },
    {
     "output_type": "display_data",
     "data": {
      "text/plain": "\nCall:\nlm(formula = ChangeLogIndex ~ BookMarket + YearDummyXBookMarket, \n    data = data)\n\nResiduals:\n     Min       1Q   Median       3Q      Max \n-0.59550 -0.09750  0.01395  0.13388  0.38866 \n\nCoefficients:\n                     Estimate Std. Error t value Pr(>|t|)   \n(Intercept)           0.16614    0.05370   3.094  0.00269 **\nBookMarket           -0.20787    0.07987  -2.603  0.01096 * \nYearDummyXBookMarket  0.04859    0.08630   0.563  0.57494   \n---\nSignif. codes:  0 '***' 0.001 '**' 0.01 '*' 0.05 '.' 0.1 ' ' 1\n\nResidual standard error: 0.192 on 83 degrees of freedom\nMultiple R-squared:  0.08344,\tAdjusted R-squared:  0.06136 \nF-statistic: 3.778 on 2 and 83 DF,  p-value: 0.02689\n"
     },
     "metadata": {}
    }
   ],
   "metadata": {}
  },
  {
   "cell_type": "code",
   "execution_count": null,
   "source": [],
   "outputs": [],
   "metadata": {}
  }
 ]
}